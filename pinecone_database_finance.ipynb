{
 "cells": [
  {
   "cell_type": "markdown",
   "metadata": {},
   "source": [
    "Installation of packages"
   ]
  },
  {
   "cell_type": "markdown",
   "metadata": {},
   "source": [
    "Import of packages"
   ]
  },
  {
   "cell_type": "code",
   "execution_count": null,
   "metadata": {},
   "outputs": [],
   "source": [
    "from tqdm.notebook import tqdm\n",
    "from langchain_community.document_loaders import PyPDFLoader\n",
    "from langchain.text_splitter import RecursiveCharacterTextSplitter\n",
    "import os\n",
    "from openai import OpenAI\n",
    "from pinecone import Pinecone, ServerlessSpec\n",
    "from dotenv import load_dotenv\n",
    "import itertools\n",
    "import re\n",
    "from concurrent.futures import ThreadPoolExecutor\n",
    "import yaml\n",
    "import pickle\n",
    "import random\n",
    "\n",
    "import numpy as np"
   ]
  },
  {
   "cell_type": "markdown",
   "metadata": {},
   "source": [
    "Reading yaml configuration"
   ]
  },
  {
   "cell_type": "code",
   "execution_count": null,
   "metadata": {},
   "outputs": [],
   "source": [
    "# Read YAML configuration\n",
    "def read_config(filename):\n",
    "    with open(filename, 'r') as file:\n",
    "        config = yaml.safe_load(file)\n",
    "    return config\n",
    "\n",
    "config = read_config(\"config.yaml\")"
   ]
  },
  {
   "cell_type": "code",
   "execution_count": null,
   "metadata": {},
   "outputs": [
    {
     "name": "stdout",
     "output_type": "stream",
     "text": [
      "Number of pdf's found: 761\n",
      "Folder 'Finanskalender' contains 102 file(s).\n",
      "Folder 'Forløb af generalforsamling' contains 124 file(s).\n",
      "Folder 'Indkaldelse til generalforsamling' contains 147 file(s).\n",
      "Folder 'Intern viden' contains 98 file(s).\n",
      "Folder 'Selskabsvedtægter' contains 100 file(s).\n",
      "Folder 'Storaktionærmeddelelser' contains 102 file(s).\n",
      "Folder 'Årsrapport' contains 88 file(s).\n"
     ]
    }
   ],
   "source": [
    "def search_pdf_files(directory):\n",
    "    # List to store found files\n",
    "    found_files = []\n",
    "\n",
    "    # Walk through the directory and its subdirectories\n",
    "    for root, _, files in os.walk(directory):\n",
    "        for file in files:\n",
    "            if file.endswith(\".pdf\"):\n",
    "                file_path = os.path.join(root, file)\n",
    "                # save path to list\n",
    "                found_files.append(file_path)\n",
    "\n",
    "    return found_files\n",
    "\n",
    "def count_files_in_folders(directory):\n",
    "    # Iterate over each directory in the given directory\n",
    "    for foldername in os.listdir(directory):\n",
    "        folder_path = os.path.join(directory, foldername)\n",
    "        # Check if the current item is a directory\n",
    "        if os.path.isdir(folder_path):\n",
    "            # Count the number of files in the directory\n",
    "            num_files = len([filename for filename in os.listdir(folder_path) if os.path.isfile(os.path.join(folder_path, filename))])\n",
    "            print(f\"Folder '{foldername}' contains {num_files} file(s).\")\n",
    "\n",
    "# Specify the directory path\n",
    "directory_path = r\"C:\\omx_data\"\n",
    "\n",
    "# Search for PDF files containing a keyword\n",
    "found_files = search_pdf_files(directory_path)\n",
    "\n",
    "print(f'Number of pdf\\'s found: {len(found_files)}')\n",
    "\n",
    "\n",
    "count_files_in_folders(directory_path)"
   ]
  },
  {
   "cell_type": "code",
   "execution_count": null,
   "metadata": {},
   "outputs": [
    {
     "name": "stdout",
     "output_type": "stream",
     "text": [
      "['C:\\\\omx_data\\\\Finanskalender\\\\06306376.pdf', 'C:\\\\omx_data\\\\Finanskalender\\\\06306377.pdf', 'C:\\\\omx_data\\\\Finanskalender\\\\07_2023 Green Hydrogen Systems - Financial calendar 2023_updated v1.pdf', 'C:\\\\omx_data\\\\Finanskalender\\\\08_2022_Financial Calendar 2022-23 - Coloplast BV.pdf', 'C:\\\\omx_data\\\\Finanskalender\\\\08_2022_Finanskalender 2022-23.pdf', 'C:\\\\omx_data\\\\Finanskalender\\\\09_2023_Finanskalender_2023-24.pdf', 'C:\\\\omx_data\\\\Finanskalender\\\\11280986.pdf', 'C:\\\\omx_data\\\\Finanskalender\\\\11_2023 Finanskalender 2023.pdf', 'C:\\\\omx_data\\\\Finanskalender\\\\15-2022 Finanskalender 2023 Djurslands Bank.pdf', 'C:\\\\omx_data\\\\Finanskalender\\\\17 Announcement_16122022_2023 Financial Calendar.pdf', 'C:\\\\omx_data\\\\Finanskalender\\\\18_2022 Green Hydrogen Systems - Financial calendar 2023.pdf', 'C:\\\\omx_data\\\\Finanskalender\\\\18_2023 Company Announcement.pdf', 'C:\\\\omx_data\\\\Finanskalender\\\\1_2023 Company Announcement.pdf', 'C:\\\\omx_data\\\\Finanskalender\\\\2022-12 Finanskalender 2023.pdf', 'C:\\\\omx_data\\\\Finanskalender\\\\2022-12-21 FBM65-22 Finanskalender DAN.pdf', 'C:\\\\omx_data\\\\Finanskalender\\\\2022-14 Finanskalender 2023.pdf', 'C:\\\\omx_data\\\\Finanskalender\\\\2022_24_Financial_calendar_2023.pdf', 'C:\\\\omx_data\\\\Finanskalender\\\\20230201 Opdateret Finanskalender.pdf', 'C:\\\\omx_data\\\\Finanskalender\\\\220907_Company announcement.pdf', 'C:\\\\omx_data\\\\Finanskalender\\\\27 Finanskalender 2023.pdf', 'C:\\\\omx_data\\\\Finanskalender\\\\40 - 2022 12 23 Finanskalender 2023.pdf', 'C:\\\\omx_data\\\\Finanskalender\\\\527 - Updated financial calendar for 2023.pdf', 'C:\\\\omx_data\\\\Finanskalender\\\\535 - Updated financial calendar for 2023.pdf', 'C:\\\\omx_data\\\\Finanskalender\\\\Announcement 224 - Financial calendar 2022-23.pdf', 'C:\\\\omx_data\\\\Finanskalender\\\\Announcement334_Financial_Calender.pdf', 'C:\\\\omx_data\\\\Finanskalender\\\\Announcement337_Changes to the Financial Calendar_final.pdf', 'C:\\\\omx_data\\\\Finanskalender\\\\Announcement347_Financial Calendar 2023-24.pdf', 'C:\\\\omx_data\\\\Finanskalender\\\\AS 1 2023 - Finanskalender.pdf', 'C:\\\\omx_data\\\\Finanskalender\\\\AS 17 2022 - Finanskalender.pdf', 'C:\\\\omx_data\\\\Finanskalender\\\\AS 18 2023 - Finanskalender.pdf', 'C:\\\\omx_data\\\\Finanskalender\\\\BO_2209_Financial calendar 2023-24_DK.pdf', 'C:\\\\omx_data\\\\Finanskalender\\\\Change to Financial calendar 2022 UK.pdf', 'C:\\\\omx_data\\\\Finanskalender\\\\Company announcement - update of RA release date.pdf', 'C:\\\\omx_data\\\\Finanskalender\\\\Company Announcement Financial calendar 2023.pdf', 'C:\\\\omx_data\\\\Finanskalender\\\\Company announcement no 13 2022-23 -  Financial Calendar 2023-24.pdf', 'C:\\\\omx_data\\\\Finanskalender\\\\Company calendar 2023 DA.pdf', 'C:\\\\omx_data\\\\Finanskalender\\\\Company calendar 2024 DA.pdf', 'C:\\\\omx_data\\\\Finanskalender\\\\Dantax Kalender 2223.pdf', 'C:\\\\omx_data\\\\Finanskalender\\\\DFDS_NR_33_12_12_2022_FINANSKALENDER.pdf', 'C:\\\\omx_data\\\\Finanskalender\\\\Download selskabsmeddelelse.pdf', 'C:\\\\omx_data\\\\Finanskalender\\\\ESG_01_2023_Finanskalender2023.pdf', 'C:\\\\omx_data\\\\Finanskalender\\\\ESG_37_Finanskalender2023.pdf', 'C:\\\\omx_data\\\\Finanskalender\\\\FBM nr 19 2022 - Finanskalender.pdf', 'C:\\\\omx_data\\\\Finanskalender\\\\FB_BLS_Invest_finanskalender_2023_12_01_2023.pdf', 'C:\\\\omx_data\\\\Finanskalender\\\\FB_Investin_finanskalender_2023_26_01_23.pdf', 'C:\\\\omx_data\\\\Finanskalender\\\\FB_Inv_Nykredit_Invest_Balance_finanskalender_2023_28_12_2022.pdf', 'C:\\\\omx_data\\\\Finanskalender\\\\FB_Inv_Nykredit_Invest_finanskalender_2023_28_12_2022.pdf', 'C:\\\\omx_data\\\\Finanskalender\\\\FB_MMI_finanskalender_2023_28_12_2022.pdf', 'C:\\\\omx_data\\\\Finanskalender\\\\FB_Plac_Nykredit_Invest_finanskalender_2023_28_12_2022.pdf', 'C:\\\\omx_data\\\\Finanskalender\\\\Financial calendar 2022_revised.pdf', 'C:\\\\omx_data\\\\Finanskalender\\\\Financial Calendar 2023.pdf', 'C:\\\\omx_data\\\\Finanskalender\\\\Financial Calendar for 2023.pdf', 'C:\\\\omx_data\\\\Finanskalender\\\\Financial calendar_Company_Announcement_2021_22_no_14.pdf', 'C:\\\\omx_data\\\\Finanskalender\\\\Finansiel_kalender_2022_2023_DK.pdf', 'C:\\\\omx_data\\\\Finanskalender\\\\Finansiel_kalender_2023_2024_DK.pdf', 'C:\\\\omx_data\\\\Finanskalender\\\\Finanskalender 2022_23 RIAS.pdf', 'C:\\\\omx_data\\\\Finanskalender\\\\Finanskalender 2023 - KF Wealth Invest.pdf', 'C:\\\\omx_data\\\\Finanskalender\\\\Finanskalender 2023 - SEBinvest.pdf', 'C:\\\\omx_data\\\\Finanskalender\\\\Finanskalender 2023 - Wealth Invest.pdf', 'C:\\\\omx_data\\\\Finanskalender\\\\Finanskalender 2023.pdf', 'C:\\\\omx_data\\\\Finanskalender\\\\Finanskalender 2023_24 RIAS.pdf', 'C:\\\\omx_data\\\\Finanskalender\\\\Finanskalender 2024.pdf', 'C:\\\\omx_data\\\\Finanskalender\\\\Finanskalender for 2023.pdf', 'C:\\\\omx_data\\\\Finanskalender\\\\Finanskalender for Investeringsforeningen Sparinvest_26_01_2023.pdf', 'C:\\\\omx_data\\\\Finanskalender\\\\Finanskalender for Vrdipapirfonden Sparindex_26_01_2023.pdf', 'C:\\\\omx_data\\\\Finanskalender\\\\Finanskalender Nykredit-koncernen 2023 DK.pdf', 'C:\\\\omx_data\\\\Finanskalender\\\\Finanskalenderen 2023.pdf', 'C:\\\\omx_data\\\\Finanskalender\\\\Finanskalenderen 2024.pdf', 'C:\\\\omx_data\\\\Finanskalender\\\\FMB 11  - Brndby IF - Finanskalender 2023 og 20224.pdf', 'C:\\\\omx_data\\\\Finanskalender\\\\Fond-RU-45-2022-uk.pdf', 'C:\\\\omx_data\\\\Finanskalender\\\\Fondsbrsmeddelelse - Finanskalender 2023_Epikur_Signed.pdf', 'C:\\\\omx_data\\\\Finanskalender\\\\Fondsbrsmeddelelse - Finanskalender 2023_Fokus_Signed.pdf', 'C:\\\\omx_data\\\\Finanskalender\\\\Fondsbrsmeddelelse - Finanskalender 2023_IFF_Signed.pdf', 'C:\\\\omx_data\\\\Finanskalender\\\\Fondsbrsmeddelelse - Finanskalender 2023_Pareto_Signed.pdf', 'C:\\\\omx_data\\\\Finanskalender\\\\Fondsbrsmeddelelse - Finanskalender 2023_Penta_Signed.pdf', 'C:\\\\omx_data\\\\Finanskalender\\\\Fondsbrsmeddelelse - Finanskalender 2023_Safe_Signed.pdf', 'C:\\\\omx_data\\\\Finanskalender\\\\IF Coop Opsparing - Finanskalender 2023.pdf', 'C:\\\\omx_data\\\\Finanskalender\\\\Jyske Banks Finanskalender 2023.pdf', 'C:\\\\omx_data\\\\Finanskalender\\\\Jyske Banks Finanskalender 2024.pdf', 'C:\\\\omx_data\\\\Finanskalender\\\\Maj Invest Finanskalender 2023.pdf', 'C:\\\\omx_data\\\\Finanskalender\\\\Meddelelse 15 2022.pdf', 'C:\\\\omx_data\\\\Finanskalender\\\\Meddelelse 224 - Finanskalender 2022-23.pdf', 'C:\\\\omx_data\\\\Finanskalender\\\\Meddelelse nr 11 i 2022 finanskalender 2023.pdf', 'C:\\\\omx_data\\\\Finanskalender\\\\Meddelelse_nr8_2022.pdf', 'C:\\\\omx_data\\\\Finanskalender\\\\MTH_Selskabsmeddelelse 20_2022.pdf', 'C:\\\\omx_data\\\\Finanskalender\\\\noble_0302.pdf', 'C:\\\\omx_data\\\\Finanskalender\\\\Opdatering af Jyske Banks Finanskalender 2023.pdf', 'C:\\\\omx_data\\\\Finanskalender\\\\Ress Life Investments AS - Company Announcement amendment to financial calendar 2023.pdf', 'C:\\\\omx_data\\\\Finanskalender\\\\Ress Life Investments AS - Company Announcement financial calendar 2022-2023.pdf', 'C:\\\\omx_data\\\\Finanskalender\\\\Ress Life Investments AS - Company Announcement financial calendar 2023.pdf', 'C:\\\\omx_data\\\\Finanskalender\\\\rsteds finanskalender for 2023.pdf', 'C:\\\\omx_data\\\\Finanskalender\\\\SE-2022-15_DA.pdf', 'C:\\\\omx_data\\\\Finanskalender\\\\Selskabsmeddelelse 10 2022.pdf', 'C:\\\\omx_data\\\\Finanskalender\\\\Selskabsmeddelelse 16_2022_SIG_Finanskalender_2023.pdf', 'C:\\\\omx_data\\\\Finanskalender\\\\Selskabsmeddelelse 3_2023_Korrigeret_finanskalender_2023.pdf', 'C:\\\\omx_data\\\\Finanskalender\\\\Selskabsmeddelelse Optimum 2022 07 finanskalender.pdf', 'C:\\\\omx_data\\\\Finanskalender\\\\SI_23_2022_Finanskalender2023_291222.pdf', 'C:\\\\omx_data\\\\Finanskalender\\\\SM 20.pdf', 'C:\\\\omx_data\\\\Finanskalender\\\\SM 39.pdf', 'C:\\\\omx_data\\\\Finanskalender\\\\Tivoli AS - Fondsbrsmeddelelse nr 11 - Finanskalender 2023.pdf', 'C:\\\\omx_data\\\\Finanskalender\\\\Updated Financial Calendar for 2022 H1 update.pdf', 'C:\\\\omx_data\\\\Finanskalender\\\\Vestjysk Bank Finanskalender 2023.pdf', 'C:\\\\omx_data\\\\Forløb af generalforsamling\\\\02077851.pdf', 'C:\\\\omx_data\\\\Forløb af generalforsamling\\\\03109454.pdf', 'C:\\\\omx_data\\\\Forløb af generalforsamling\\\\03109509.pdf', 'C:\\\\omx_data\\\\Forløb af generalforsamling\\\\03215810.pdf', 'C:\\\\omx_data\\\\Forløb af generalforsamling\\\\03226468.pdf', 'C:\\\\omx_data\\\\Forløb af generalforsamling\\\\03226505.pdf', 'C:\\\\omx_data\\\\Forløb af generalforsamling\\\\03301526.pdf', 'C:\\\\omx_data\\\\Forløb af generalforsamling\\\\04-2023 Forlb af ordinr generalforsamling.pdf', 'C:\\\\omx_data\\\\Forløb af generalforsamling\\\\04034041.pdf', 'C:\\\\omx_data\\\\Forløb af generalforsamling\\\\04034042.pdf', 'C:\\\\omx_data\\\\Forløb af generalforsamling\\\\04138238.pdf', 'C:\\\\omx_data\\\\Forløb af generalforsamling\\\\04148924.pdf', 'C:\\\\omx_data\\\\Forløb af generalforsamling\\\\06_Proceedings_AGM_29062023.pdf', 'C:\\\\omx_data\\\\Forløb af generalforsamling\\\\08 Announcement_23032023_Annual General Meeting - Summary.pdf', 'C:\\\\omx_data\\\\Forløb af generalforsamling\\\\08_13032023_AGM summary.pdf', 'C:\\\\omx_data\\\\Forløb af generalforsamling\\\\10_2023 Green Hydrogen Systems - Resolutions Annual General Meeting v1.pdf', 'C:\\\\omx_data\\\\Forløb af generalforsamling\\\\13-2023 Forlb OGF 2023.pdf', 'C:\\\\omx_data\\\\Forløb af generalforsamling\\\\13-2023 Selskabsmeddelelse - forlb af generalforsamling i Danske Andelskassers Bank 2023.pdf', 'C:\\\\omx_data\\\\Forløb af generalforsamling\\\\18_2023 Beslutninger pa Trygs ordinaere generalforsamling.pdf', 'C:\\\\omx_data\\\\Forløb af generalforsamling\\\\2023 04 19 - IF SEBinvest forlbsmeddelelse.pdf', 'C:\\\\omx_data\\\\Forløb af generalforsamling\\\\2023 04 19 - IF Wealth Invest Forlbsmeddelelse.pdf', 'C:\\\\omx_data\\\\Forløb af generalforsamling\\\\2023 04 19 - KF Wealth Invest Forlbsmeddelelse.pdf', 'C:\\\\omx_data\\\\Forløb af generalforsamling\\\\2023 04 20 - Maj Invest forlb af GF.pdf', 'C:\\\\omx_data\\\\Forløb af generalforsamling\\\\2023 04 21 Forlbsmeddelelse IF Coop Opsparing.pdf', 'C:\\\\omx_data\\\\Forløb af generalforsamling\\\\2023 04 Forlb af ordinr generalforsaling i DLR Kredit.pdf', 'C:\\\\omx_data\\\\Forløb af generalforsamling\\\\2023-04 Beslutninger pa den ordinre generalforsamling.pdf', 'C:\\\\omx_data\\\\Forløb af generalforsamling\\\\2023-04-13 FBM 07-2023 Referat af generalforsamling DAN.pdf', 'C:\\\\omx_data\\\\Forløb af generalforsamling\\\\2023-04-28 - IFF - Selskabsmeddelelse - Forlb ordinr generalforsamling_Final.pdf', 'C:\\\\omx_data\\\\Forløb af generalforsamling\\\\2023-04-28 - Selskabsmeddelelse - KF Epikur - Forlb ordinr generalforsamling_Final.pdf', 'C:\\\\omx_data\\\\Forløb af generalforsamling\\\\2023-04-28 - Selskabsmeddelelse - KF Fokus - Forlb ordinr generalforsamling_Final.pdf', 'C:\\\\omx_data\\\\Forløb af generalforsamling\\\\2023-04-28 - Selskabsmeddelelse - KF Pareto - Forlb ordinr generalforsamling_Final.pdf', 'C:\\\\omx_data\\\\Forløb af generalforsamling\\\\2023-04-28 - Selskabsmeddelelse - KF Penta - Forlb ordinr generalforsamling_Final.pdf', 'C:\\\\omx_data\\\\Forløb af generalforsamling\\\\2023-04-28 - Selskabsmeddelelse - KF Safe - Forlb ordinr generalforsamling_Final.pdf', 'C:\\\\omx_data\\\\Forløb af generalforsamling\\\\2023-05 Referat af ordinr generalforsamling 20230330.pdf', 'C:\\\\omx_data\\\\Forløb af generalforsamling\\\\2023-08-16 - referat.pdf', 'C:\\\\omx_data\\\\Forløb af generalforsamling\\\\2023-13-da.pdf', 'C:\\\\omx_data\\\\Forløb af generalforsamling\\\\20230301 DK Meddelelse om afholdt generalforsamling.pdf', 'C:\\\\omx_data\\\\Forløb af generalforsamling\\\\20230419 Forlb af ordinr generalforsamling - Investeringsforeningen Sparinvest.pdf', 'C:\\\\omx_data\\\\Forløb af generalforsamling\\\\20230425 Referat af den ordinre generalforsamling i Copenhagen Capital.pdf', 'C:\\\\omx_data\\\\Forløb af generalforsamling\\\\20230427 AB Sveriges Sakerstallda Obligationer publ arsstamma 2023.pdf', 'C:\\\\omx_data\\\\Forløb af generalforsamling\\\\20230427 AB Sveriges Sakerstallda Obligationer publ arsstamma_2023.pdf', 'C:\\\\omx_data\\\\Forløb af generalforsamling\\\\20230427 SBAB Bank AB publ arsstamma 2023.pdf', 'C:\\\\omx_data\\\\Forløb af generalforsamling\\\\2023_35_Novozymes_annual_shareholders_meeting_resolutions.pdf', 'C:\\\\omx_data\\\\Forløb af generalforsamling\\\\2023_51_Novozymes_extraordinary_shareholders_meeting_resolutions.pdf', 'C:\\\\omx_data\\\\Forløb af generalforsamling\\\\230412_08_Company_Announcement.pdf', 'C:\\\\omx_data\\\\Forløb af generalforsamling\\\\230412_08_Selskabsmeddelelse.pdf', 'C:\\\\omx_data\\\\Forløb af generalforsamling\\\\237 - Referat af ordinr generalforsamling 2023 Final.pdf', 'C:\\\\omx_data\\\\Forløb af generalforsamling\\\\290303_CA17_Passing of AGM.pdf', 'C:\\\\omx_data\\\\Forløb af generalforsamling\\\\6 Forlb af GF.pdf', 'C:\\\\omx_data\\\\Forløb af generalforsamling\\\\9 2023 Company Announcement.pdf', 'C:\\\\omx_data\\\\Forløb af generalforsamling\\\\AGM 2023 - Indkaldelse.pdf', 'C:\\\\omx_data\\\\Forløb af generalforsamling\\\\AGM 2023 - Remuneration Policy.pdf', 'C:\\\\omx_data\\\\Forløb af generalforsamling\\\\AGM 2023__Forlb.pdf', 'C:\\\\omx_data\\\\Forløb af generalforsamling\\\\Announcement 15 - Annual General Meeting 2023 - GN Store Nord.pdf', 'C:\\\\omx_data\\\\Forløb af generalforsamling\\\\Appendix 1 - New members of  the Board of Directors of Orphazyme.pdf', 'C:\\\\omx_data\\\\Forløb af generalforsamling\\\\AS 7 2023 - Resultat af afholdt generalforsamling.pdf', 'C:\\\\omx_data\\\\Forløb af generalforsamling\\\\Beslutninger pa den ordinre generalforsamling 2023 i rsted.pdf', 'C:\\\\omx_data\\\\Forløb af generalforsamling\\\\BO_2304_Beslutninger fra den ordinre generalforsamling 2023.pdf', 'C:\\\\omx_data\\\\Forløb af generalforsamling\\\\BULLETIN FROM THE ANNUAL GENERAL MEETING IN BOOZT AB ON 26 APRIL 2023.pdf', 'C:\\\\omx_data\\\\Forløb af generalforsamling\\\\CA FLSmidth Resume af ordinr generalforsamling DK 2023.pdf', 'C:\\\\omx_data\\\\Forløb af generalforsamling\\\\Company announcement no 4 Idavang 2023 Annual General Meeting 28-02-2023.pdf', 'C:\\\\omx_data\\\\Forløb af generalforsamling\\\\Course of Annual General Meeting 2023.pdf', 'C:\\\\omx_data\\\\Forløb af generalforsamling\\\\Dagsorden med forslag og overflytningsplan_INV Investin_EGF 06072023_21062023.pdf', 'C:\\\\omx_data\\\\Forløb af generalforsamling\\\\Development of AGM_2023.pdf', 'C:\\\\omx_data\\\\Forløb af generalforsamling\\\\DFDS_NR_16_22_03_2023_GF.pdf', 'C:\\\\omx_data\\\\Forløb af generalforsamling\\\\Download announcement as PDF.pdf', 'C:\\\\omx_data\\\\Forløb af generalforsamling\\\\Download selskabsmeddelelse.pdf', 'C:\\\\omx_data\\\\Forløb af generalforsamling\\\\Ekstraordinr_generalforsamling_Nykredit Realkredit_A_S_-2023-08-31_DK.pdf', 'C:\\\\omx_data\\\\Forløb af generalforsamling\\\\ENDELIG - Forlb af generalforsamling.pdf', 'C:\\\\omx_data\\\\Forløb af generalforsamling\\\\ESG_AGM_2023 Final.pdf', 'C:\\\\omx_data\\\\Forløb af generalforsamling\\\\FBM 9 - Forlb af ordinr generalforsamling 2023.pdf', 'C:\\\\omx_data\\\\Forløb af generalforsamling\\\\FB_Inv_Nykredit_Invest_Balance_Forloeb_GF_12_04_2023.pdf', 'C:\\\\omx_data\\\\Forløb af generalforsamling\\\\FB_Inv_Nykredit_Invest_forloeb_GF_12_04_2023.pdf', 'C:\\\\omx_data\\\\Forløb af generalforsamling\\\\FB_MMI_forloeb_af_generalforsamlingen_20_04_2023.pdf', 'C:\\\\omx_data\\\\Forløb af generalforsamling\\\\FB_Plac_Nykredit_Invest_forloeb_GF_12_04_2023.pdf', 'C:\\\\omx_data\\\\Forløb af generalforsamling\\\\FMB 10  - Brndby IF - Konstituering af bestyrelsen.pdf', 'C:\\\\omx_data\\\\Forløb af generalforsamling\\\\FM_07_23DK_23032023.pdf', 'C:\\\\omx_data\\\\Forløb af generalforsamling\\\\Fond-RU-14-2023-uk - Annual General Meeting.pdf', 'C:\\\\omx_data\\\\Forløb af generalforsamling\\\\Forlb af generalforsamling 2023.pdf', 'C:\\\\omx_data\\\\Forløb af generalforsamling\\\\Forlb af ordinr generalforsamling 2023 meddelelse 2.pdf', 'C:\\\\omx_data\\\\Forløb af generalforsamling\\\\Forlb af ordinr generalforsamling.pdf', 'C:\\\\omx_data\\\\Forløb af generalforsamling\\\\Fuldmagtsblanket_INVInvestin_EGF_06072023.pdf', 'C:\\\\omx_data\\\\Forløb af generalforsamling\\\\Generalforsamlingsforlb i Mns Bank 20230322.pdf', 'C:\\\\omx_data\\\\Forløb af generalforsamling\\\\ISS Announcement - AGM Results 2023.pdf', 'C:\\\\omx_data\\\\Forløb af generalforsamling\\\\Ladda ned som PDF.pdf', 'C:\\\\omx_data\\\\Forløb af generalforsamling\\\\Meddelelse 6 2023.pdf', 'C:\\\\omx_data\\\\Forløb af generalforsamling\\\\Meddelelse nr 5 i 2023 forlb af generalforsamling.pdf', 'C:\\\\omx_data\\\\Forløb af generalforsamling\\\\Meddelelse_nr3_2023.pdf', 'C:\\\\omx_data\\\\Forløb af generalforsamling\\\\Minutes from the annual general meeting on April 19 - 2023.pdf', 'C:\\\\omx_data\\\\Forløb af generalforsamling\\\\Noble_0503.pdf', 'C:\\\\omx_data\\\\Forløb af generalforsamling\\\\OMX forlb dk.pdf', 'C:\\\\omx_data\\\\Forløb af generalforsamling\\\\Ordinr generalforsamling 2023 NKT .pdf', 'C:\\\\omx_data\\\\Forløb af generalforsamling\\\\Orphazyme - Company announcement - Resolutions passed at the Annual General Meeting.pdf', 'C:\\\\omx_data\\\\Forløb af generalforsamling\\\\Pandora_Company Announcement_No_771.pdf', 'C:\\\\omx_data\\\\Forløb af generalforsamling\\\\Pandora_Company Announcement_No_777.pdf', 'C:\\\\omx_data\\\\Forløb af generalforsamling\\\\PR230323-Post-AGM-resolutions.pdf', 'C:\\\\omx_data\\\\Forløb af generalforsamling\\\\Protokollat af SDG Invest generalforsamling 27 04 2023 underskrevet.pdf', 'C:\\\\omx_data\\\\Forløb af generalforsamling\\\\Protokollat_resund_underskrevet.pdf', 'C:\\\\omx_data\\\\Forløb af generalforsamling\\\\Protokollat_Storeblt_underskrevet.pdf', 'C:\\\\omx_data\\\\Forløb af generalforsamling\\\\Prsentation kandidater 2023.pdf', 'C:\\\\omx_data\\\\Forløb af generalforsamling\\\\Referat af generalforsamling.pdf', 'C:\\\\omx_data\\\\Forløb af generalforsamling\\\\Referat generalforsamling PO 12042023.pdf', 'C:\\\\omx_data\\\\Forløb af generalforsamling\\\\Referat-fra-ekstraordinr-generalforsamling-23-maj-2023.pdf', 'C:\\\\omx_data\\\\Forløb af generalforsamling\\\\Referat-fra-ekstraordinr-generalforsamling-27-marts-2023 1.pdf', 'C:\\\\omx_data\\\\Forløb af generalforsamling\\\\Referat-fra-ordinr-generalforsamling-21-februar-2023.pdf', 'C:\\\\omx_data\\\\Forløb af generalforsamling\\\\Ress Life Investments AS - Company Announcement 2023 AGM.pdf', 'C:\\\\omx_data\\\\Forløb af generalforsamling\\\\Results of the Annual General Meeting 2023.pdf', 'C:\\\\omx_data\\\\Forløb af generalforsamling\\\\Scandinavian Tobacco Group Results of the AGM 2023.pdf', 'C:\\\\omx_data\\\\Forløb af generalforsamling\\\\SE-2023-05_DA.pdf', 'C:\\\\omx_data\\\\Forløb af generalforsamling\\\\Selskabsmeddelelse 11_2023 referat fra generalforsamlingen.pdf', 'C:\\\\omx_data\\\\Forløb af generalforsamling\\\\Selskabsmeddelelse 2023-05.pdf', 'C:\\\\omx_data\\\\Forløb af generalforsamling\\\\Selskabsmeddelelse 3 2023.pdf', 'C:\\\\omx_data\\\\Forløb af generalforsamling\\\\Selskabsmeddelelse 4 2023_2024.pdf', 'C:\\\\omx_data\\\\Forløb af generalforsamling\\\\Selskabsmeddelelse 5 2023_2024.pdf', 'C:\\\\omx_data\\\\Forløb af generalforsamling\\\\Selskabsmeddelelse forlb af generalforsamling i MTHH 2023.pdf', 'C:\\\\omx_data\\\\Forløb af generalforsamling\\\\Selskabsmeddelelse nr 2 2023.pdf', 'C:\\\\omx_data\\\\Forløb af generalforsamling\\\\Selskabsmeddelelse nr 2023-11 referat fra generalforsamling.pdf', 'C:\\\\omx_data\\\\Forløb af generalforsamling\\\\Selskabsmeddelelse Optimum 2023 03 forlb af generalforsamling.pdf', 'C:\\\\omx_data\\\\Forløb af generalforsamling\\\\Selskabsmeddelelse_20230330.pdf', 'C:\\\\omx_data\\\\Forløb af generalforsamling\\\\SE_08_2023_Passing_of_Columbus_Annual_General_Meeting_and_subsequent_constitution_of_the_Board_of_Directors.pdf', 'C:\\\\omx_data\\\\Forløb af generalforsamling\\\\SI_10_2023_ForlbAGM200423.pdf', 'C:\\\\omx_data\\\\Forløb af generalforsamling\\\\SI_AGM_2023.pdf', 'C:\\\\omx_data\\\\Forløb af generalforsamling\\\\SM 07.pdf', 'C:\\\\omx_data\\\\Forløb af generalforsamling\\\\Tivoli AS - Fondsbrsmeddelelse nr 6 - Forlb af generalforsamling 2023.pdf', 'C:\\\\omx_data\\\\Indkaldelse til generalforsamling\\\\02-2023 Indkaldelse til ordinr generalforsamling.pdf', 'C:\\\\omx_data\\\\Indkaldelse til generalforsamling\\\\03237372.pdf', 'C:\\\\omx_data\\\\Indkaldelse til generalforsamling\\\\03a_Annex_1_Notice_AGM_06062023.pdf', 'C:\\\\omx_data\\\\Indkaldelse til generalforsamling\\\\03_Notice_AGM_06062023.pdf', 'C:\\\\omx_data\\\\Indkaldelse til generalforsamling\\\\04116808.pdf', 'C:\\\\omx_data\\\\Indkaldelse til generalforsamling\\\\04116815.pdf', 'C:\\\\omx_data\\\\Indkaldelse til generalforsamling\\\\08_2023 Green Hydrogen Systems - Notice convening the Annual General Meeting v1.pdf', 'C:\\\\omx_data\\\\Indkaldelse til generalforsamling\\\\11-2023 Selskabsmeddelelse- Generalforsamling i Danske Andelskassers Bank.pdf', 'C:\\\\omx_data\\\\Indkaldelse til generalforsamling\\\\2023 04 20 - Dagsorden_Investeringsforeningen Maj Invest.pdf', 'C:\\\\omx_data\\\\Indkaldelse til generalforsamling\\\\2023 04 21 Indkaldelse og dagsorden_IF Coop.pdf', 'C:\\\\omx_data\\\\Indkaldelse til generalforsamling\\\\2023 04 Indkaldelse generalforsamling.pdf', 'C:\\\\omx_data\\\\Indkaldelse til generalforsamling\\\\2023 05 DLR Kredit indkaldelse til ekstraordinr generalforsamling.pdf', 'C:\\\\omx_data\\\\Indkaldelse til generalforsamling\\\\2023 07 10 XGF Indkaldelse og dagsorden_Investeringsforening Wealth Invest.pdf', 'C:\\\\omx_data\\\\Indkaldelse til generalforsamling\\\\2023 09 20 IF SEBinvest Dagsorden - med indstillinger.pdf', 'C:\\\\omx_data\\\\Indkaldelse til generalforsamling\\\\2023-04-12_Indkaldelse til GF IFF_Signed.pdf', 'C:\\\\omx_data\\\\Indkaldelse til generalforsamling\\\\2023-04-12_Selskabsmeddelelse_Indkaldelse til GF Epikur_Signed.pdf', 'C:\\\\omx_data\\\\Indkaldelse til generalforsamling\\\\2023-04-12_Selskabsmeddelelse_Indkaldelse til GF Fokus_Signed.pdf', 'C:\\\\omx_data\\\\Indkaldelse til generalforsamling\\\\2023-04-12_Selskabsmeddelelse_Indkaldelse til GF Pareto_Signed.pdf', 'C:\\\\omx_data\\\\Indkaldelse til generalforsamling\\\\2023-04-12_Selskabsmeddelelse_Indkaldelse til GF Penta_Signed.pdf', 'C:\\\\omx_data\\\\Indkaldelse til generalforsamling\\\\2023-04-12_Selskabsmeddelelse_Indkaldelse til GF Safe_Signed.pdf', 'C:\\\\omx_data\\\\Indkaldelse til generalforsamling\\\\2023-14 Totalbanken indkalder til ekstraordinr generalforsamling 20230830.pdf', 'C:\\\\omx_data\\\\Indkaldelse til generalforsamling\\\\20230331 Artha Optimum GF Indkaldelse.pdf', 'C:\\\\omx_data\\\\Indkaldelse til generalforsamling\\\\20230403 - COMPARE - gldende vedtgter med foreslaede vedtgter pr 25042023.pdf', 'C:\\\\omx_data\\\\Indkaldelse til generalforsamling\\\\236 - bilag 1 bestyrelsesmedlemmer.pdf', 'C:\\\\omx_data\\\\Indkaldelse til generalforsamling\\\\236 - Indkaldelse ordinr GF 2023.pdf', 'C:\\\\omx_data\\\\Indkaldelse til generalforsamling\\\\5 Indkaldelse - generalforsamling 2023.pdf', 'C:\\\\omx_data\\\\Indkaldelse til generalforsamling\\\\6 Notice to Convene the Annual General Meeting 2023.pdf', 'C:\\\\omx_data\\\\Indkaldelse til generalforsamling\\\\AAB_ Brevstemme blanket_GF2023_v5.pdf', 'C:\\\\omx_data\\\\Indkaldelse til generalforsamling\\\\AGM Notice and Agenda 19042023.pdf', 'C:\\\\omx_data\\\\Indkaldelse til generalforsamling\\\\AGM Notice of Attendance Form 19042023.pdf', 'C:\\\\omx_data\\\\Indkaldelse til generalforsamling\\\\AGM Proxy and Postal Voting Form 19042023.pdf', 'C:\\\\omx_data\\\\Indkaldelse til generalforsamling\\\\Appendix 1 - Candidates for the Board of Directors.pdf', 'C:\\\\omx_data\\\\Indkaldelse til generalforsamling\\\\APPENDIX 1 - Updated Remuneration Policy mark-up.pdf', 'C:\\\\omx_data\\\\Indkaldelse til generalforsamling\\\\APPENDIX 2 - Updated Articles of Association mark-up.pdf', 'C:\\\\omx_data\\\\Indkaldelse til generalforsamling\\\\Arsrapport for 2022 for resund_underskrevet.pdf', 'C:\\\\omx_data\\\\Indkaldelse til generalforsamling\\\\Arsrapport for 2022 for Storeblt_underskrevet.pdf', 'C:\\\\omx_data\\\\Indkaldelse til generalforsamling\\\\AS 6 2023 - Indkaldelse til generalforsamling.pdf', 'C:\\\\omx_data\\\\Indkaldelse til generalforsamling\\\\Bestillingsblanket Strategic Investments HJEMMESIDEVERSION 2023 - Final.pdf', 'C:\\\\omx_data\\\\Indkaldelse til generalforsamling\\\\Bestyrelse og direktion.pdf', 'C:\\\\omx_data\\\\Indkaldelse til generalforsamling\\\\Bilag 1 - CV for kandidater pa valg 2023.pdf', 'C:\\\\omx_data\\\\Indkaldelse til generalforsamling\\\\Bilag 1 - Vederlagspolitik for BI Boligejendomme 2023.pdf', 'C:\\\\omx_data\\\\Indkaldelse til generalforsamling\\\\Bilag 1.pdf', 'C:\\\\omx_data\\\\Indkaldelse til generalforsamling\\\\Bilag 1A - Arsrapport KF Epikur 2022.pdf', 'C:\\\\omx_data\\\\Indkaldelse til generalforsamling\\\\Bilag 1B - Arsrapport KF Fokus 2022.pdf', 'C:\\\\omx_data\\\\Indkaldelse til generalforsamling\\\\Bilag 1C - Arsrapport KF Pareto 2022.pdf', 'C:\\\\omx_data\\\\Indkaldelse til generalforsamling\\\\Bilag 1D - Arsrapport KF Penta 2022.pdf', 'C:\\\\omx_data\\\\Indkaldelse til generalforsamling\\\\Bilag 1E - Arsrapport KF Safe 2022.pdf', 'C:\\\\omx_data\\\\Indkaldelse til generalforsamling\\\\Bilag 1F - IF Formuepleje - Arsrapport 2022.pdf', 'C:\\\\omx_data\\\\Indkaldelse til generalforsamling\\\\Bilag 2 - CV for kandidater pa valg 2023.pdf', 'C:\\\\omx_data\\\\Indkaldelse til generalforsamling\\\\Bilag 2 - Vedtgter BI Erhvervsejendomme 2023.pdf', 'C:\\\\omx_data\\\\Indkaldelse til generalforsamling\\\\Bilag 2A - 2023-04-27  - Vedtgter_KF Epikur_Mark-up.pdf', 'C:\\\\omx_data\\\\Indkaldelse til generalforsamling\\\\Bilag 2B - 2023-04-27 - Vedtgter_KF Fokus_Mark-up.pdf', 'C:\\\\omx_data\\\\Indkaldelse til generalforsamling\\\\Bilag 2C - 2023-04-27  - Vedtgter_KF Pareto_Mark-up.pdf', 'C:\\\\omx_data\\\\Indkaldelse til generalforsamling\\\\Bilag 2D - 2023-04-27 - Vedtgter_KF Penta_Mark-up.pdf', 'C:\\\\omx_data\\\\Indkaldelse til generalforsamling\\\\Bilag 2E - 2023-04-27 - Vedtgter_KF Safe_Mark-up.pdf', 'C:\\\\omx_data\\\\Indkaldelse til generalforsamling\\\\Bilag 3 - CV.pdf', 'C:\\\\omx_data\\\\Indkaldelse til generalforsamling\\\\Bilag 3 - Vedtgter BI Boligejendomme 2023.pdf', 'C:\\\\omx_data\\\\Indkaldelse til generalforsamling\\\\Bilag A - Vederlagsrapport 2022.pdf', 'C:\\\\omx_data\\\\Indkaldelse til generalforsamling\\\\Bilag B - Beskrivelse af bestyrelsesmedlemmer.pdf', 'C:\\\\omx_data\\\\Indkaldelse til generalforsamling\\\\Blanket til Fuldmagt og Brevstemme ved Tivolis Generalforsamling.pdf', 'C:\\\\omx_data\\\\Indkaldelse til generalforsamling\\\\BM_03_2023_Indkaldelse_til_ordinr_generalforsamling.pdf', 'C:\\\\omx_data\\\\Indkaldelse til generalforsamling\\\\CopCap_Dataetik.pdf', 'C:\\\\omx_data\\\\Indkaldelse til generalforsamling\\\\CopCap_Incitamentsaflnning.pdf', 'C:\\\\omx_data\\\\Indkaldelse til generalforsamling\\\\CopCap_Maltal.pdf', 'C:\\\\omx_data\\\\Indkaldelse til generalforsamling\\\\CopCap_Vederlagspolitik.pdf', 'C:\\\\omx_data\\\\Indkaldelse til generalforsamling\\\\CopCap_Vederlagsrapport2022.pdf', 'C:\\\\omx_data\\\\Indkaldelse til generalforsamling\\\\Copenhagen Capital - Ansvarlighedsrapport 2022.pdf', 'C:\\\\omx_data\\\\Indkaldelse til generalforsamling\\\\Corporate Governance Statement 2022.pdf', 'C:\\\\omx_data\\\\Indkaldelse til generalforsamling\\\\CWW_INVESTERINGSFORENINGEN_Indkaldelse_GF_2023_FINAL 002.pdf', 'C:\\\\omx_data\\\\Indkaldelse til generalforsamling\\\\Dagsorden - ordinr generalforsamling 2023.pdf', 'C:\\\\omx_data\\\\Indkaldelse til generalforsamling\\\\Dagsorden 2023 - Inkl Bilag A og Bilag B.pdf', 'C:\\\\omx_data\\\\Indkaldelse til generalforsamling\\\\Dagsorden og fuldstndige forslag.pdf', 'C:\\\\omx_data\\\\Indkaldelse til generalforsamling\\\\Dagsorden OGF-fuldstndige forslag-overflytningsplan samlet_31032023.pdf', 'C:\\\\omx_data\\\\Indkaldelse til generalforsamling\\\\DK Brevstemme 2023.pdf', 'C:\\\\omx_data\\\\Indkaldelse til generalforsamling\\\\DK Fuldmagt 2023.pdf', 'C:\\\\omx_data\\\\Indkaldelse til generalforsamling\\\\DK Tilmelding 2023.pdf', 'C:\\\\omx_data\\\\Indkaldelse til generalforsamling\\\\Download announcement as PDF.pdf', 'C:\\\\omx_data\\\\Indkaldelse til generalforsamling\\\\Download selskabsmeddelelse.pdf', 'C:\\\\omx_data\\\\Indkaldelse til generalforsamling\\\\EAC Invest AS - AGM 2023 - Bilag 1 - Bestyrelseskandidater.pdf', 'C:\\\\omx_data\\\\Indkaldelse til generalforsamling\\\\EAC Invest AS - AGM 2023 Indkaldelse.pdf', 'C:\\\\omx_data\\\\Indkaldelse til generalforsamling\\\\Fond-RU-10-2023-uk - Notice to convene.pdf', 'C:\\\\omx_data\\\\Indkaldelse til generalforsamling\\\\Fulde forslag Tivolis ordinre generalforsamling og bilag 1.pdf', 'C:\\\\omx_data\\\\Indkaldelse til generalforsamling\\\\Fuldmagtsblanket - GF 2023 IF Formuepleje.pdf', 'C:\\\\omx_data\\\\Indkaldelse til generalforsamling\\\\Fuldmagtsblanket - GF 2023 KF Epikur.pdf', 'C:\\\\omx_data\\\\Indkaldelse til generalforsamling\\\\Fuldmagtsblanket - GF 2023 KF Fokus.pdf', 'C:\\\\omx_data\\\\Indkaldelse til generalforsamling\\\\Fuldmagtsblanket - GF 2023 KF Pareto.pdf', 'C:\\\\omx_data\\\\Indkaldelse til generalforsamling\\\\Fuldmagtsblanket - GF 2023 KF Penta.pdf', 'C:\\\\omx_data\\\\Indkaldelse til generalforsamling\\\\Fuldmagtsblanket - GF 2023 KF Safe.pdf', 'C:\\\\omx_data\\\\Indkaldelse til generalforsamling\\\\Fuldmagtsblanket_INV Investin_OGF_21042023.pdf', 'C:\\\\omx_data\\\\Indkaldelse til generalforsamling\\\\Fuldmagts_brevstemmeblanket 003.pdf', 'C:\\\\omx_data\\\\Indkaldelse til generalforsamling\\\\Generalforsamlingsindkaldelse.pdf', 'C:\\\\omx_data\\\\Indkaldelse til generalforsamling\\\\GF-indk KFAI 2023-04-18.pdf', 'C:\\\\omx_data\\\\Indkaldelse til generalforsamling\\\\GF230426 Indkaldelse.pdf', 'C:\\\\omx_data\\\\Indkaldelse til generalforsamling\\\\GJ Annual report 2022.pdf', 'C:\\\\omx_data\\\\Indkaldelse til generalforsamling\\\\GJ Indkaldelse til generalforsamling_Notice annual general meeting - 2023.pdf', 'C:\\\\omx_data\\\\Indkaldelse til generalforsamling\\\\GJ Remuneration and incentive policy 2023.pdf', 'C:\\\\omx_data\\\\Indkaldelse til generalforsamling\\\\GJ Remuneration report 2022.pdf', 'C:\\\\omx_data\\\\Indkaldelse til generalforsamling\\\\Green Hydrogen Systems - Annual Report 2022.pdf', 'C:\\\\omx_data\\\\Indkaldelse til generalforsamling\\\\Green Hydrogen Systems - Remuneration Report 2022.pdf', 'C:\\\\omx_data\\\\Indkaldelse til generalforsamling\\\\GreenMobility AGM 2023 - Appendix 1 Candidates to the Board of Directors.pdf', 'C:\\\\omx_data\\\\Indkaldelse til generalforsamling\\\\GreenMobility AGM 2023 - Notice to convene.pdf', 'C:\\\\omx_data\\\\Indkaldelse til generalforsamling\\\\Hartmann notice - EGM 12 July 2023.pdf', 'C:\\\\omx_data\\\\Indkaldelse til generalforsamling\\\\IAI Vedtgter juni 2023 markup.pdf', 'C:\\\\omx_data\\\\Indkaldelse til generalforsamling\\\\Indkaldelse - GF 2023 KFx5 IF Formuepleje_Final.pdf', 'C:\\\\omx_data\\\\Indkaldelse til generalforsamling\\\\Indkaldelse med dagsorden og fuldstndige forslag - OGF - IF PM - 2023-04-27.pdf', 'C:\\\\omx_data\\\\Indkaldelse til generalforsamling\\\\Indkaldelse OGF BI Boligejendomme 2023.pdf', 'C:\\\\omx_data\\\\Indkaldelse til generalforsamling\\\\Indkaldelse OGF BI Erhvervsejendomme 2023.pdf', 'C:\\\\omx_data\\\\Indkaldelse til generalforsamling\\\\Indkaldelse til EXGF 2023  08 16 Nykredit Realkredit.pdf', 'C:\\\\omx_data\\\\Indkaldelse til generalforsamling\\\\Indkaldelse til generalforsamling 2023.pdf', 'C:\\\\omx_data\\\\Indkaldelse til generalforsamling\\\\Indkaldelse til ordinr generalforsamling 2023 SKAKO.pdf', 'C:\\\\omx_data\\\\Indkaldelse til generalforsamling\\\\Indkaldelse til ordinr generalforsamling 2023.pdf', 'C:\\\\omx_data\\\\Indkaldelse til generalforsamling\\\\Indkaldelse til ordinr generalforsamling SDG Invest 27-04-2023.pdf', 'C:\\\\omx_data\\\\Indkaldelse til generalforsamling\\\\Indkaldelse-til-ekstraordinr-generalforsamling-23-maj-2023.pdf', 'C:\\\\omx_data\\\\Indkaldelse til generalforsamling\\\\Indk_OGF_BLS_18042023_28032023.pdf', 'C:\\\\omx_data\\\\Indkaldelse til generalforsamling\\\\Kallelse SBAB arsstamma 2023.pdf', 'C:\\\\omx_data\\\\Indkaldelse til generalforsamling\\\\Kallelse till arsstamma SCBC 2023.pdf', 'C:\\\\omx_data\\\\Indkaldelse til generalforsamling\\\\KFAI AR2022.pdf', 'C:\\\\omx_data\\\\Indkaldelse til generalforsamling\\\\Ladda ned som PDF.pdf', 'C:\\\\omx_data\\\\Indkaldelse til generalforsamling\\\\LSI_Vedtgter_GF 2023_TC-version.pdf', 'C:\\\\omx_data\\\\Indkaldelse til generalforsamling\\\\Meddelelse nr 2 i 2023 Indkaldelse til GF 1.pdf', 'C:\\\\omx_data\\\\Indkaldelse til generalforsamling\\\\Meddelelse om generalforsamling 2023.pdf', 'C:\\\\omx_data\\\\Indkaldelse til generalforsamling\\\\Meddelelse_nr4_2023.pdf', 'C:\\\\omx_data\\\\Indkaldelse til generalforsamling\\\\Multi_GF_dagsorden_2023_20_04_2023.pdf', 'C:\\\\omx_data\\\\Indkaldelse til generalforsamling\\\\Nasdaq referat af OGF 2023 - Nykredit Bank_dk.pdf', 'C:\\\\omx_data\\\\Indkaldelse til generalforsamling\\\\Nasdaq referat af OGF 2023 - Nykredit Realkredit_dk.pdf', 'C:\\\\omx_data\\\\Indkaldelse til generalforsamling\\\\Nasdaq referat af OGF 2023 - Totalkredit_dk.pdf', 'C:\\\\omx_data\\\\Indkaldelse til generalforsamling\\\\NNIT - Notice to convene AGM including Annex A.pdf', 'C:\\\\omx_data\\\\Indkaldelse til generalforsamling\\\\Noble_0323.pdf', 'C:\\\\omx_data\\\\Indkaldelse til generalforsamling\\\\Notice - AGM 2023.pdf', 'C:\\\\omx_data\\\\Indkaldelse til generalforsamling\\\\Notice AGM 2023.pdf', 'C:\\\\omx_data\\\\Indkaldelse til generalforsamling\\\\Notice of Annual General Meeting in Boozt AB.pdf', 'C:\\\\omx_data\\\\Indkaldelse til generalforsamling\\\\Notice to Convene AGM 2023.pdf', 'C:\\\\omx_data\\\\Indkaldelse til generalforsamling\\\\Notice to Convene.pdf', 'C:\\\\omx_data\\\\Indkaldelse til generalforsamling\\\\Notification of Attendance - AGM 2023.pdf', 'C:\\\\omx_data\\\\Indkaldelse til generalforsamling\\\\Orphazyme - Company announcement - Notice to convene AGM 2023.pdf', 'C:\\\\omx_data\\\\Indkaldelse til generalforsamling\\\\Oversigt bilag.pdf', 'C:\\\\omx_data\\\\Indkaldelse til generalforsamling\\\\PM Kallelse till arssstamma i AB Sveriges Sakerstallda Obligationer publ 2023-03-30.pdf', 'C:\\\\omx_data\\\\Indkaldelse til generalforsamling\\\\PM Kallelse till arssstamma i SBAB Bank AB publ 2023-03-30.pdf', 'C:\\\\omx_data\\\\Indkaldelse til generalforsamling\\\\Proxy_Postal vote form - AGM 2023.pdf', 'C:\\\\omx_data\\\\Indkaldelse til generalforsamling\\\\Prsentation kandidater 2023.pdf', 'C:\\\\omx_data\\\\Indkaldelse til generalforsamling\\\\Referat-fra-ekstraordinr-generalforsamling-27-marts-2023.pdf', 'C:\\\\omx_data\\\\Indkaldelse til generalforsamling\\\\Remuneration Report Ress Life Investments AS.pdf', 'C:\\\\omx_data\\\\Indkaldelse til generalforsamling\\\\SI _05_2023_AGM_290323.pdf', 'C:\\\\omx_data\\\\Indkaldelse til generalforsamling\\\\UK Postal Vote 2023.pdf', 'C:\\\\omx_data\\\\Indkaldelse til generalforsamling\\\\UK Proxy 2023.pdf', 'C:\\\\omx_data\\\\Indkaldelse til generalforsamling\\\\UK Registration 2023.pdf', 'C:\\\\omx_data\\\\Indkaldelse til generalforsamling\\\\Vederlagsrapport 2022-2023.pdf', 'C:\\\\omx_data\\\\Intern viden\\\\07174496.pdf', 'C:\\\\omx_data\\\\Intern viden\\\\07174497.pdf', 'C:\\\\omx_data\\\\Intern viden\\\\07202023_CA34_DARZALEX Q2 Sales.pdf', 'C:\\\\omx_data\\\\Intern viden\\\\07_2023_Coloplast_offentliggr_gennemfrelse_af_udbud_af_nye_B_aktier.pdf', 'C:\\\\omx_data\\\\Intern viden\\\\08021159.pdf', 'C:\\\\omx_data\\\\Intern viden\\\\09079993.pdf', 'C:\\\\omx_data\\\\Intern viden\\\\10_Upgrade_Financial_Expectations_15082023.pdf', 'C:\\\\omx_data\\\\Intern viden\\\\18-2023 Salg af kontraktrettighed.pdf', 'C:\\\\omx_data\\\\Intern viden\\\\19-2023 Salg HH bekrftet.pdf', 'C:\\\\omx_data\\\\Intern viden\\\\190723-ca35-epcoritamab-DLBCL-CHMP Opinion.pdf', 'C:\\\\omx_data\\\\Intern viden\\\\19_2023 Company Announcement.pdf', 'C:\\\\omx_data\\\\Intern viden\\\\20-2023 Forventninger 2023.pdf', 'C:\\\\omx_data\\\\Intern viden\\\\2023-08-15 FBM 10-2023 DK.pdf', 'C:\\\\omx_data\\\\Intern viden\\\\2023-12 Tidlig offentliggrelse af Halvarsrapport 2023 og opjusterede forventninger.pdf', 'C:\\\\omx_data\\\\Intern viden\\\\2023-18 Fusion af Totalbanken AS og Sparekassen Danmark vedtaget af reprsentantskabet i Sparekassen Danmark.pdf', 'C:\\\\omx_data\\\\Intern viden\\\\2023-19 Referat af ekstraordinr generalforsamling i Totalbanken AS.pdf', 'C:\\\\omx_data\\\\Intern viden\\\\2023-20 Finanstilsynet har godkendt fusionen af Totalbanken AS og Sparekassen Danmark.pdf', 'C:\\\\omx_data\\\\Intern viden\\\\2023-22 Sletning fra handel og ophr af officiel notering.pdf', 'C:\\\\omx_data\\\\Intern viden\\\\2023-28-da.pdf', 'C:\\\\omx_data\\\\Intern viden\\\\2023-29-da.pdf', 'C:\\\\omx_data\\\\Intern viden\\\\2023-30-da.pdf', 'C:\\\\omx_data\\\\Intern viden\\\\2023-32-da.pdf', 'C:\\\\omx_data\\\\Intern viden\\\\22-2023 Forventninger 2023.pdf', 'C:\\\\omx_data\\\\Intern viden\\\\22_2023 Company Announcement.pdf', 'C:\\\\omx_data\\\\Intern viden\\\\230810_13_Company_Announcement.pdf', 'C:\\\\omx_data\\\\Intern viden\\\\230831_15_Company_Announcement.pdf', 'C:\\\\omx_data\\\\Intern viden\\\\230904_CA39_innovaTV 301 Topline Results.pdf', 'C:\\\\omx_data\\\\Intern viden\\\\230925_CA_TEPKINLY EMA Approval.pdf', 'C:\\\\omx_data\\\\Intern viden\\\\230928_16_Company_Announcement.pdf', 'C:\\\\omx_data\\\\Intern viden\\\\280723_CA36_Updated Guidance.pdf', 'C:\\\\omx_data\\\\Intern viden\\\\30_2023 Green Hydrogen Systems - Sebastian Koks Andreassen resigns as CEO.pdf', 'C:\\\\omx_data\\\\Intern viden\\\\31_15082023_Upgrade earnings expectations.pdf', 'C:\\\\omx_data\\\\Intern viden\\\\539 - HH International AS lowers financial guidance for 2023.pdf', 'C:\\\\omx_data\\\\Intern viden\\\\541 - HH International AS lowers financial guidance for 2023.pdf', 'C:\\\\omx_data\\\\Intern viden\\\\Aarsleff fjernvarme_program3 DK.pdf', 'C:\\\\omx_data\\\\Intern viden\\\\Aarsleff selskabsmeddelelse 08 2023 DK.pdf', 'C:\\\\omx_data\\\\Intern viden\\\\Announcement 24 - Update of financial guidance for 2023.pdf', 'C:\\\\omx_data\\\\Intern viden\\\\Brsmeddelelse justerede forventninger til 2023 3082023 2023-08-30 16_41_15.pdf', 'C:\\\\omx_data\\\\Intern viden\\\\CA OCW1 - dansk.pdf', 'C:\\\\omx_data\\\\Intern viden\\\\CA-11-2023.pdf', 'C:\\\\omx_data\\\\Intern viden\\\\CA_13_2023_Nine closing.pdf', 'C:\\\\omx_data\\\\Intern viden\\\\CK93-pr-1-september-2023.pdf', 'C:\\\\omx_data\\\\Intern viden\\\\CK93-pr-11-august-2023.pdf', 'C:\\\\omx_data\\\\Intern viden\\\\CK93-pr-14-juli-2023.pdf', 'C:\\\\omx_data\\\\Intern viden\\\\CK93-pr-15-september-2023.pdf', 'C:\\\\omx_data\\\\Intern viden\\\\CK93-pr-18-august-2023.pdf', 'C:\\\\omx_data\\\\Intern viden\\\\CK93-pr-21-juli-2023.pdf', 'C:\\\\omx_data\\\\Intern viden\\\\CK93-pr-22-september-2023.pdf', 'C:\\\\omx_data\\\\Intern viden\\\\CK93-pr-25-august-2023.pdf', 'C:\\\\omx_data\\\\Intern viden\\\\CK93-pr-28-juli-2023.pdf', 'C:\\\\omx_data\\\\Intern viden\\\\CK93-pr-4-august-2023.pdf', 'C:\\\\omx_data\\\\Intern viden\\\\CK93-pr-8-september-2023.pdf', 'C:\\\\omx_data\\\\Intern viden\\\\Company announcement no 10 2023 Sales July 2023.pdf', 'C:\\\\omx_data\\\\Intern viden\\\\Company announcement no 12 2023 Summons to Written Resolutions Sep 2023.pdf', 'C:\\\\omx_data\\\\Intern viden\\\\Company announcement no 13 2023 notice from written resolution.pdf', 'C:\\\\omx_data\\\\Intern viden\\\\Company announcement no 14 2023 Excess Free Cashflow Repayment.pdf', 'C:\\\\omx_data\\\\Intern viden\\\\Company Announcement no 26.pdf', 'C:\\\\omx_data\\\\Intern viden\\\\Company announcement no 9 2023 Sales June 2023.pdf', 'C:\\\\omx_data\\\\Intern viden\\\\DFDS_NR_31_17_09_2023_AKKVISITION_GIBRALTAR.pdf', 'C:\\\\omx_data\\\\Intern viden\\\\DK_NR_25_28_07_2023_EKOL_TYRKISK_GODKENDELSE.pdf', 'C:\\\\omx_data\\\\Intern viden\\\\DK_NR_27_14_08_2023_RESULTATFORVENTNING_OPJUSTERING.pdf', 'C:\\\\omx_data\\\\Intern viden\\\\Download selskabsmeddelelse.pdf', 'C:\\\\omx_data\\\\Intern viden\\\\Ekstraordinaere indfrielser_dk.pdf', 'C:\\\\omx_data\\\\Intern viden\\\\FLSmidth Company Announcement no16 2023.pdf', 'C:\\\\omx_data\\\\Intern viden\\\\FMB 12  - Brndby IF - Resultatforventning_.pdf', 'C:\\\\omx_data\\\\Intern viden\\\\Fondsbrsmeddelelse - formandsskifte august 2023.pdf', 'C:\\\\omx_data\\\\Intern viden\\\\Fondsbrsmeddelelse nyvalg bestyrelse august 2023.pdf', 'C:\\\\omx_data\\\\Intern viden\\\\Gubra announces termination of collaboration with Bayer.pdf', 'C:\\\\omx_data\\\\Intern viden\\\\Gubra AS announces signing of collaboration agreement with Hemab ApS.pdf', 'C:\\\\omx_data\\\\Intern viden\\\\Gubra raises financial guidance for full-year 2023.pdf', 'C:\\\\omx_data\\\\Intern viden\\\\Indberetning Jakob Mikkelsen Holding ApS - august 2023.pdf', 'C:\\\\omx_data\\\\Intern viden\\\\individual-solvency-need-nordea-kredit-2023-q2.pdf', 'C:\\\\omx_data\\\\Intern viden\\\\ISS Announcement - France.pdf', 'C:\\\\omx_data\\\\Intern viden\\\\ISS Announcement - Outlook.pdf', 'C:\\\\omx_data\\\\Intern viden\\\\Meddelelse 10 2023.pdf', 'C:\\\\omx_data\\\\Intern viden\\\\NKT_reserverer_kapacitet til_SSEN_Transmission .pdf', 'C:\\\\omx_data\\\\Intern viden\\\\NKT_vinder_rammeaftale_og_rekordordre_pa_fem_kabelprojekter.pdf', 'C:\\\\omx_data\\\\Intern viden\\\\Norwegian court rules in favor of Boozt in dispute with the Norwegian Tax Administration Skatteetaten.pdf', 'C:\\\\omx_data\\\\Intern viden\\\\Opjustering af resultatforventning for regnsakbsaret 2022-23.pdf', 'C:\\\\omx_data\\\\Intern viden\\\\PR230808-SELECT.pdf', 'C:\\\\omx_data\\\\Intern viden\\\\Q223 preliminary figures and updated 2023.pdf', 'C:\\\\omx_data\\\\Intern viden\\\\Ress Life Investments AS - Company Announcement 24.pdf', 'C:\\\\omx_data\\\\Intern viden\\\\Ress Life Investments AS - Company Announcement 25-2023.pdf', 'C:\\\\omx_data\\\\Intern viden\\\\Ress Life Investments AS - Company Announcement 26-2023.pdf', 'C:\\\\omx_data\\\\Intern viden\\\\Ress Life Investments AS - Company Announcement 29-2023.pdf', 'C:\\\\omx_data\\\\Intern viden\\\\Ress Life Investments AS - Company Announcement 30-2023.pdf', 'C:\\\\omx_data\\\\Intern viden\\\\Ress Life Investments AS - Company Announcement 31-2023.pdf', 'C:\\\\omx_data\\\\Intern viden\\\\Selskabsmeddelelse 7 - 2023.pdf', 'C:\\\\omx_data\\\\Intern viden\\\\Selskabsmeddelelse nr 13-2023 Forventninger til 2023-24.pdf', 'C:\\\\omx_data\\\\Intern viden\\\\Selskabsmeddelelse nr 14-2023 AGF AS i forhandlinger om salg af Adam Daghim.pdf', 'C:\\\\omx_data\\\\Intern viden\\\\Selskabsmeddelelse nr 16-2023 AGF AS i forhandlinger om salg af Thomas Kristensen .pdf', 'C:\\\\omx_data\\\\Intern viden\\\\Selskabsmeddelelse nr 8 - 2023.pdf', 'C:\\\\omx_data\\\\Intern viden\\\\Selskabsmeddelelse nr 9 - 2023.pdf', 'C:\\\\omx_data\\\\Intern viden\\\\Selskabsmeddelelse.pdf', 'C:\\\\omx_data\\\\Intern viden\\\\Selskabsmeddelelse_20230901.pdf', 'C:\\\\omx_data\\\\Intern viden\\\\Selskabsmeddelelse_financial outlook 2023_DK.pdf', 'C:\\\\omx_data\\\\Intern viden\\\\SM 25.pdf', 'C:\\\\omx_data\\\\Intern viden\\\\SM 28.pdf', 'C:\\\\omx_data\\\\Selskabsvedtægter\\\\10-2021 Articles of Association for Orphazyme.pdf', 'C:\\\\omx_data\\\\Selskabsvedtægter\\\\13- ISS Announcement - Updated AoA April 2021.pdf', 'C:\\\\omx_data\\\\Selskabsvedtægter\\\\14_2022_Coloplast AS_Nye vedtgter.pdf', 'C:\\\\omx_data\\\\Selskabsvedtægter\\\\2020 12 03 Vedtgter IF Wealth Invest.pdf', 'C:\\\\omx_data\\\\Selskabsvedtægter\\\\2020 12 03 Vedtgter SEBinvest.pdf', 'C:\\\\omx_data\\\\Selskabsvedtægter\\\\2020 12 09 Vedtgter IF Wealth Invest.pdf', 'C:\\\\omx_data\\\\Selskabsvedtægter\\\\2020 12 15 Vedtgter SEBinvest.pdf', 'C:\\\\omx_data\\\\Selskabsvedtægter\\\\2021 01 12 Vedtgter IF Wealth Invest.pdf', 'C:\\\\omx_data\\\\Selskabsvedtægter\\\\2021 03 16 Vedtgter IF Wealth Invest.pdf', 'C:\\\\omx_data\\\\Selskabsvedtægter\\\\2021 04 22 Vedtgter SEBinvest.pdf', 'C:\\\\omx_data\\\\Selskabsvedtægter\\\\2021 08 23 Vedtgter IF Wealth Invest.pdf', 'C:\\\\omx_data\\\\Selskabsvedtægter\\\\2021 10 15 Vedtgter IF Maj Invest.pdf', 'C:\\\\omx_data\\\\Selskabsvedtægter\\\\2021 11 01 Vedtgter IF Wealth Invest - FT Godkendt.pdf', 'C:\\\\omx_data\\\\Selskabsvedtægter\\\\2022 01 14 Vedtgter IF Wealth Invest.pdf', 'C:\\\\omx_data\\\\Selskabsvedtægter\\\\2022 02 03 Vedtgter IF Maj Invest.pdf', 'C:\\\\omx_data\\\\Selskabsvedtægter\\\\2022 03 22  IF Wealth Invest Vedtgter - FT Godkendte.pdf', 'C:\\\\omx_data\\\\Selskabsvedtægter\\\\2022 03 22 Vedtgter SEBinvest - FT godkendt.pdf', 'C:\\\\omx_data\\\\Selskabsvedtægter\\\\2022 04 21 Vedtgter IF Maj Invest.pdf', 'C:\\\\omx_data\\\\Selskabsvedtægter\\\\2022 04 26 Vedtgter IF Wealth Invest.pdf', 'C:\\\\omx_data\\\\Selskabsvedtægter\\\\2022 04 26 Vedtgter SEBinvest.pdf', 'C:\\\\omx_data\\\\Selskabsvedtægter\\\\2022 05 19 Vedtgter IF Wealth Invest.pdf', 'C:\\\\omx_data\\\\Selskabsvedtægter\\\\2022 09 16 Vedtgter IF Wealth Invest - FT godkendte.pdf', 'C:\\\\omx_data\\\\Selskabsvedtægter\\\\2022 10 27 Vedtgter IF Wealth Invest.pdf', 'C:\\\\omx_data\\\\Selskabsvedtægter\\\\2022_11_25_Vedtaegter_KF_Wealth_Invest.pdf', 'C:\\\\omx_data\\\\Selskabsvedtægter\\\\2023 01 10 Vedtgter IF Wealth Invest.pdf', 'C:\\\\omx_data\\\\Selskabsvedtægter\\\\2023 01 30 Vedtgter IF Wealth Invest.pdf', 'C:\\\\omx_data\\\\Selskabsvedtægter\\\\2023 04 19 Vedtgter IF Wealth Invest.pdf', 'C:\\\\omx_data\\\\Selskabsvedtægter\\\\2023 04 19 Vedtgter KF Wealth Invest.pdf', 'C:\\\\omx_data\\\\Selskabsvedtægter\\\\2023 04 19 Vedtgter SEBinvest - FT godkendt.pdf', 'C:\\\\omx_data\\\\Selskabsvedtægter\\\\2023 04 20 Vedtgter IF Maj Invest - FT godkendt.pdf', 'C:\\\\omx_data\\\\Selskabsvedtægter\\\\2023 04 21 Vedtgter IF Coop Opsparing - FT godkendt.pdf', 'C:\\\\omx_data\\\\Selskabsvedtægter\\\\2023 06 06 IF Wealth Invest Vedtgt - FT godkendt.pdf', 'C:\\\\omx_data\\\\Selskabsvedtægter\\\\20230131 Opdateret vedtgter.pdf', 'C:\\\\omx_data\\\\Selskabsvedtægter\\\\210427_NN_Articles_of_Association_2021.pdf', 'C:\\\\omx_data\\\\Selskabsvedtægter\\\\Articles of Association - April 13 2021 II DK.pdf', 'C:\\\\omx_data\\\\Selskabsvedtægter\\\\Articles of Association - August 15 2023 DK.pdf', 'C:\\\\omx_data\\\\Selskabsvedtægter\\\\Articles of Association - August 16 2022 DK.pdf', 'C:\\\\omx_data\\\\Selskabsvedtægter\\\\Articles of Association - August 17 2021 DK.pdf', 'C:\\\\omx_data\\\\Selskabsvedtægter\\\\Articles of Association - December 13 2022 DK.pdf', 'C:\\\\omx_data\\\\Selskabsvedtægter\\\\Articles of Association - December 14 2021 DK.pdf', 'C:\\\\omx_data\\\\Selskabsvedtægter\\\\Articles of Association - February 22 2022 DK.pdf', 'C:\\\\omx_data\\\\Selskabsvedtægter\\\\Articles of Association - February 24 2023 DK.pdf', 'C:\\\\omx_data\\\\Selskabsvedtægter\\\\Articles of Association - February 25 2022 DK.pdf', 'C:\\\\omx_data\\\\Selskabsvedtægter\\\\Articles of Association - February 26 2021 DK.pdf', 'C:\\\\omx_data\\\\Selskabsvedtægter\\\\Articles of Association - February 28 2023 DK.pdf', 'C:\\\\omx_data\\\\Selskabsvedtægter\\\\Articles of Association - January 24 2023 DK.pdf', 'C:\\\\omx_data\\\\Selskabsvedtægter\\\\Articles of Association - January 25 2022 DK.pdf', 'C:\\\\omx_data\\\\Selskabsvedtægter\\\\Articles of Association - January 28 2021 DK.pdf', 'C:\\\\omx_data\\\\Selskabsvedtægter\\\\Articles of Association - July 5 2022 DK.pdf', 'C:\\\\omx_data\\\\Selskabsvedtægter\\\\Articles of Association - July 6 2021 DK.pdf', 'C:\\\\omx_data\\\\Selskabsvedtægter\\\\Articles of Association - June 20 2023 DK.pdf', 'C:\\\\omx_data\\\\Selskabsvedtægter\\\\Articles of Association - June 22 2021 DK.pdf', 'C:\\\\omx_data\\\\Selskabsvedtægter\\\\Articles of Association - June 8 2023 DK.pdf', 'C:\\\\omx_data\\\\Selskabsvedtægter\\\\Articles of Association - June 9 2022 DK.pdf', 'C:\\\\omx_data\\\\Selskabsvedtægter\\\\Articles of Association - March 2 2021 DK.pdf', 'C:\\\\omx_data\\\\Selskabsvedtægter\\\\Articles of Association - March 29 2022 DK.pdf', 'C:\\\\omx_data\\\\Selskabsvedtægter\\\\Articles of Association - March 29 2023 DK.pdf', 'C:\\\\omx_data\\\\Selskabsvedtægter\\\\Articles of Association - May 11 2021 DK.pdf', 'C:\\\\omx_data\\\\Selskabsvedtægter\\\\Articles of Association - May 17 2022 DK.pdf', 'C:\\\\omx_data\\\\Selskabsvedtægter\\\\Articles of Association - May 23 2023 DK.pdf', 'C:\\\\omx_data\\\\Selskabsvedtægter\\\\Articles of Association - November 15 2022 DK.pdf', 'C:\\\\omx_data\\\\Selskabsvedtægter\\\\Articles of Association - November 16 2021 DK.pdf', 'C:\\\\omx_data\\\\Selskabsvedtægter\\\\Articles of Association - November 21 2022 DK.pdf', 'C:\\\\omx_data\\\\Selskabsvedtægter\\\\Articles of Association - November 22 2021 DK.pdf', 'C:\\\\omx_data\\\\Selskabsvedtægter\\\\Articles of Association - October 7 2021 DK.pdf', 'C:\\\\omx_data\\\\Selskabsvedtægter\\\\Articles of Association - September 12 2023 DK.pdf', 'C:\\\\omx_data\\\\Selskabsvedtægter\\\\Articles of Association - September 20 2022 DK.pdf', 'C:\\\\omx_data\\\\Selskabsvedtægter\\\\Articles of Association - September 21 2021 DK.pdf', 'C:\\\\omx_data\\\\Selskabsvedtægter\\\\Articles of Association - September 27 2022 DK.pdf', 'C:\\\\omx_data\\\\Selskabsvedtægter\\\\Articles of Association DEN.pdf', 'C:\\\\omx_data\\\\Selskabsvedtægter\\\\Articles of Association ENG.pdf', 'C:\\\\omx_data\\\\Selskabsvedtægter\\\\Articles of Association ISS AS.pdf', 'C:\\\\omx_data\\\\Selskabsvedtægter\\\\Bavarian Nordic - Vedtgter.pdf', 'C:\\\\omx_data\\\\Selskabsvedtægter\\\\Forslag til vedtgtsndringer 2021.pdf', 'C:\\\\omx_data\\\\Selskabsvedtægter\\\\Forslag til vedtgtsndringer 2022.pdf', 'C:\\\\omx_data\\\\Selskabsvedtægter\\\\Forslag til vedtgtsndringer 2023.pdf', 'C:\\\\omx_data\\\\Selskabsvedtægter\\\\NN_Articles_of_Association_2022_After CapReduction.pdf', 'C:\\\\omx_data\\\\Selskabsvedtægter\\\\NN_Articles_of_Association_2022_PostAGM PreCapReduct.pdf', 'C:\\\\omx_data\\\\Selskabsvedtægter\\\\NN_Articles_of_association_2023_After CapReduct.pdf', 'C:\\\\omx_data\\\\Selskabsvedtægter\\\\Orphazyme - Articles of Assocation - 25 March 2021.pdf', 'C:\\\\omx_data\\\\Selskabsvedtægter\\\\Scandinavian Tobacco Group Results of the AGM 2023.pdf', 'C:\\\\omx_data\\\\Selskabsvedtægter\\\\Vedtgter 060421.pdf', 'C:\\\\omx_data\\\\Selskabsvedtægter\\\\Vedtgter 080421.pdf', 'C:\\\\omx_data\\\\Selskabsvedtægter\\\\Vedtgter 140423.pdf', 'C:\\\\omx_data\\\\Selskabsvedtægter\\\\Vedtgter 2021 v2 DK endelig.pdf', 'C:\\\\omx_data\\\\Selskabsvedtægter\\\\Vedtgter 20210325.pdf', 'C:\\\\omx_data\\\\Selskabsvedtægter\\\\Vedtgter 2022 v1 DK endelig.pdf', 'C:\\\\omx_data\\\\Selskabsvedtægter\\\\Vedtgter 2022 v2 DK endelig.pdf', 'C:\\\\omx_data\\\\Selskabsvedtægter\\\\Vedtgter 2023 v1 DA endelig.pdf', 'C:\\\\omx_data\\\\Selskabsvedtægter\\\\Vedtgter 2023 v2 DA endelig.pdf', 'C:\\\\omx_data\\\\Selskabsvedtægter\\\\Vedtgter 240423.pdf', 'C:\\\\omx_data\\\\Selskabsvedtægter\\\\Vedtgter 280621.pdf', 'C:\\\\omx_data\\\\Selskabsvedtægter\\\\Vedtgter 290422.pdf', 'C:\\\\omx_data\\\\Selskabsvedtægter\\\\Vedtgter AGM 2022_Agat Ejendomme.pdf', 'C:\\\\omx_data\\\\Selskabsvedtægter\\\\Vedtgter Ennogie Solar Group AS 240222.pdf', 'C:\\\\omx_data\\\\Selskabsvedtægter\\\\Vedtgter for Ringkjbing Landbobank A-S - 2021 v1.pdf', 'C:\\\\omx_data\\\\Selskabsvedtægter\\\\Vedtgter.pdf', 'C:\\\\omx_data\\\\Selskabsvedtægter\\\\Vedtgter_2021.pdf', 'C:\\\\omx_data\\\\Selskabsvedtægter\\\\Vedtgter_Investeringsforeningen Wealth Invest_Godkendt af Finanstilsynet 31 august 2023.pdf', 'C:\\\\omx_data\\\\Selskabsvedtægter\\\\xx-2021_ZealandPharma_announcement_capital increase_vF.pdf', 'C:\\\\omx_data\\\\Storaktionærmeddelelser\\\\01040502.pdf', 'C:\\\\omx_data\\\\Storaktionærmeddelelser\\\\02077759.pdf', 'C:\\\\omx_data\\\\Storaktionærmeddelelser\\\\03024314.pdf', 'C:\\\\omx_data\\\\Storaktionærmeddelelser\\\\03215675.pdf', 'C:\\\\omx_data\\\\Storaktionærmeddelelser\\\\05084161.pdf', 'C:\\\\omx_data\\\\Storaktionærmeddelelser\\\\05168915.pdf', 'C:\\\\omx_data\\\\Storaktionærmeddelelser\\\\05231803.pdf', 'C:\\\\omx_data\\\\Storaktionærmeddelelser\\\\05253300.pdf', 'C:\\\\omx_data\\\\Storaktionærmeddelelser\\\\05263787.pdf', 'C:\\\\omx_data\\\\Storaktionærmeddelelser\\\\05_2023_Storaktionrmeddelelse.pdf', 'C:\\\\omx_data\\\\Storaktionærmeddelelser\\\\06092145.pdf', 'C:\\\\omx_data\\\\Storaktionærmeddelelser\\\\08083335.pdf', 'C:\\\\omx_data\\\\Storaktionærmeddelelser\\\\08083342.pdf', 'C:\\\\omx_data\\\\Storaktionærmeddelelser\\\\09080718.pdf', 'C:\\\\omx_data\\\\Storaktionærmeddelelser\\\\10-2023 Selskabsmeddelelse - Storaktionrmeddelelse Danske Andelskassers Bank.pdf', 'C:\\\\omx_data\\\\Storaktionærmeddelelser\\\\19 Major shareholder.pdf', 'C:\\\\omx_data\\\\Storaktionærmeddelelser\\\\20 Major shareholder.pdf', 'C:\\\\omx_data\\\\Storaktionærmeddelelser\\\\2023-02-07 - Major shareholder announcement - going below 5 of share capital and voting rights.pdf', 'C:\\\\omx_data\\\\Storaktionærmeddelelser\\\\2023-09 Storaktionrmeddelelse 20230525.pdf', 'C:\\\\omx_data\\\\Storaktionærmeddelelser\\\\20230104 - ISS Announcement - Major Shareholder Announcement.pdf', 'C:\\\\omx_data\\\\Storaktionærmeddelelser\\\\20230130 Storaktionrmeddelelse.pdf', 'C:\\\\omx_data\\\\Storaktionærmeddelelser\\\\20230202 Storaktionrmeddelelse Atlas.pdf', 'C:\\\\omx_data\\\\Storaktionærmeddelelser\\\\20230202 Storaktionrmeddelelse Bossen.pdf', 'C:\\\\omx_data\\\\Storaktionærmeddelelser\\\\20230202 Storaktionrmeddelelse Cooper.pdf', 'C:\\\\omx_data\\\\Storaktionærmeddelelser\\\\20230202 Storaktionrmeddelelse HCH.pdf', 'C:\\\\omx_data\\\\Storaktionærmeddelelser\\\\20230202 Storaktionrmeddelelse PWH.pdf', 'C:\\\\omx_data\\\\Storaktionærmeddelelser\\\\20230331 Storaktionrmeddelelse HCH.pdf', 'C:\\\\omx_data\\\\Storaktionærmeddelelser\\\\20230414 Storaktionrmeddelelse.pdf', 'C:\\\\omx_data\\\\Storaktionærmeddelelser\\\\20230427 - ISS Announcement - Major Shareholder Announcement.pdf', 'C:\\\\omx_data\\\\Storaktionærmeddelelser\\\\20230502 Storaktionrmeddelelse.pdf', 'C:\\\\omx_data\\\\Storaktionærmeddelelser\\\\20230524 Storaktionrmeddelelse.pdf', 'C:\\\\omx_data\\\\Storaktionærmeddelelser\\\\20230525 Storaktionrmeddelelse.pdf', 'C:\\\\omx_data\\\\Storaktionærmeddelelser\\\\20230609 - Storaktionrmeddelelse.pdf', 'C:\\\\omx_data\\\\Storaktionærmeddelelser\\\\21_2023 Green Hydrogen Systems - Major shareholder announcement.pdf', 'C:\\\\omx_data\\\\Storaktionærmeddelelser\\\\22 Major shareholder.pdf', 'C:\\\\omx_data\\\\Storaktionærmeddelelser\\\\23 Announcement_11082023_Notification of major shareholding.pdf', 'C:\\\\omx_data\\\\Storaktionærmeddelelser\\\\23 Major shareholder.pdf', 'C:\\\\omx_data\\\\Storaktionærmeddelelser\\\\24_03072023_Major shareholder announcement.pdf', 'C:\\\\omx_data\\\\Storaktionærmeddelelser\\\\27042023 Storaktionrmeddelelse Nordflint DA.pdf', 'C:\\\\omx_data\\\\Storaktionærmeddelelser\\\\27_2023 Green Hydrogen Systems - Major shareholder announcement.pdf', 'C:\\\\omx_data\\\\Storaktionærmeddelelser\\\\36_06092023_Major shareholder announcement.pdf', 'C:\\\\omx_data\\\\Storaktionærmeddelelser\\\\37_08092023_Major shareholder announcement.pdf', 'C:\\\\omx_data\\\\Storaktionærmeddelelser\\\\3_2023 Company Announcement - Major shareholder announcement.pdf', 'C:\\\\omx_data\\\\Storaktionærmeddelelser\\\\41_25092023_Major shareholder announcement.pdf', 'C:\\\\omx_data\\\\Storaktionærmeddelelser\\\\43_29092023_Major shareholder announcement.pdf', 'C:\\\\omx_data\\\\Storaktionærmeddelelser\\\\534 - Treasury shares reduced below 5 of the share capital and voting rights.pdf', 'C:\\\\omx_data\\\\Storaktionærmeddelelser\\\\537 - Major shareholder announcement.pdf', 'C:\\\\omx_data\\\\Storaktionærmeddelelser\\\\591390_Major_shareholder_notification_Asetek_over_5_16_05_2023.pdf', 'C:\\\\omx_data\\\\Storaktionærmeddelelser\\\\Announcement 13 - Major shareholder notification.pdf', 'C:\\\\omx_data\\\\Storaktionærmeddelelser\\\\Announcement 15 - Major shareholder notification.pdf', 'C:\\\\omx_data\\\\Storaktionærmeddelelser\\\\Announcement 17 - Major shareholder notification.pdf', 'C:\\\\omx_data\\\\Storaktionærmeddelelser\\\\Announcement 2 - Major shareholder notification.pdf', 'C:\\\\omx_data\\\\Storaktionærmeddelelser\\\\Announcement 36 - Major shareholder notification.pdf', 'C:\\\\omx_data\\\\Storaktionærmeddelelser\\\\Announcement 4 - Major shareholder notification.pdf', 'C:\\\\omx_data\\\\Storaktionærmeddelelser\\\\Announcement 5 - Major shareholder notification.pdf', 'C:\\\\omx_data\\\\Storaktionærmeddelelser\\\\Announcement346_Change_capital_large_shareholder.pdf', 'C:\\\\omx_data\\\\Storaktionærmeddelelser\\\\Company Announcement no 22 2023.pdf', 'C:\\\\omx_data\\\\Storaktionærmeddelelser\\\\Company Announcement no 23 2023.pdf', 'C:\\\\omx_data\\\\Storaktionærmeddelelser\\\\Disclosure form _Royal Unibrew_BlackRock_2023-09-07.pdf', 'C:\\\\omx_data\\\\Storaktionærmeddelelser\\\\Disclosure form_Royal Unibrew_BlackRock_2023-09-06.pdf', 'C:\\\\omx_data\\\\Storaktionærmeddelelser\\\\Disclosure_Form_Royal_Unibrew_AS_Invesco Ltd.pdf', 'C:\\\\omx_data\\\\Storaktionærmeddelelser\\\\Disclosure_Form_Royal_Unibrew_AS_Invesco Ltd_21082023.pdf', 'C:\\\\omx_data\\\\Storaktionærmeddelelser\\\\Download announcement as PDF.pdf', 'C:\\\\omx_data\\\\Storaktionærmeddelelser\\\\FBM 2 - Brndby IF - Storaktionrmeddelelse.pdf', 'C:\\\\omx_data\\\\Storaktionærmeddelelser\\\\Fond-RU-11-2023-uk - Major shareholder announcement.pdf', 'C:\\\\omx_data\\\\Storaktionærmeddelelser\\\\Fond-RU-11-2023-uk_appendix_BlackRock notification.pdf', 'C:\\\\omx_data\\\\Storaktionærmeddelelser\\\\Fond-RU-12-2023-uk - Major shareholder announcement.pdf', 'C:\\\\omx_data\\\\Storaktionærmeddelelser\\\\Fond-RU-12-2023-uk_appendix_BlackRock notification.pdf', 'C:\\\\omx_data\\\\Storaktionærmeddelelser\\\\Fond-RU-21-2023-uk - Major shareholder announcement.pdf', 'C:\\\\omx_data\\\\Storaktionærmeddelelser\\\\Fond-RU-22-2023-uk - Major shareholder announcement.pdf', 'C:\\\\omx_data\\\\Storaktionærmeddelelser\\\\Fond-RU-24-2023-uk - Major shareholder announcement.pdf', 'C:\\\\omx_data\\\\Storaktionærmeddelelser\\\\Fond-RU-25-2023-uk - Major shareholder announcement.pdf', 'C:\\\\omx_data\\\\Storaktionærmeddelelser\\\\Fond-RU-5-2023-uk - Major shareholder announcement.pdf', 'C:\\\\omx_data\\\\Storaktionærmeddelelser\\\\Fond-RU-5-2023-uk_appendix_BlackRock notification.pdf', 'C:\\\\omx_data\\\\Storaktionærmeddelelser\\\\Fond-RU-6-2023-uk - Major shareholder announcement.pdf', 'C:\\\\omx_data\\\\Storaktionærmeddelelser\\\\Fond-RU-6-2023-uk_appendix_BlackRock notification.pdf', 'C:\\\\omx_data\\\\Storaktionærmeddelelser\\\\Fond-RU-7-2023-uk - Major shareholder announcement.pdf', 'C:\\\\omx_data\\\\Storaktionærmeddelelser\\\\Fond-RU-7-2023-uk_appendix_BlackRock notification.pdf', 'C:\\\\omx_data\\\\Storaktionærmeddelelser\\\\Fond-RU-8-2023-uk - Major shareholder announcement.pdf', 'C:\\\\omx_data\\\\Storaktionærmeddelelser\\\\Fond-RU-8-2023-uk_appendix_BlackRock notification.pdf', 'C:\\\\omx_data\\\\Storaktionærmeddelelser\\\\Gubra Notification Of Danske Bank Major Holding.pdf', 'C:\\\\omx_data\\\\Storaktionærmeddelelser\\\\Major shareholder announcement.pdf', 'C:\\\\omx_data\\\\Storaktionærmeddelelser\\\\Nasdaq - Storaktionrmeddelelse 04-01-2023.pdf', 'C:\\\\omx_data\\\\Storaktionærmeddelelser\\\\NKT notification - signed.pdf', 'C:\\\\omx_data\\\\Storaktionærmeddelelser\\\\Noble_0906.pdf', 'C:\\\\omx_data\\\\Storaktionærmeddelelser\\\\Orphazyme - Company announcement - Major shareholder announcement.pdf', 'C:\\\\omx_data\\\\Storaktionærmeddelelser\\\\Pandora_Company Announcement_No_784.pdf', 'C:\\\\omx_data\\\\Storaktionærmeddelelser\\\\Selskabsmeddelelse - Beholdning af egne aktier juni 2023.pdf', 'C:\\\\omx_data\\\\Storaktionærmeddelelser\\\\Selskabsmeddelelse - Besiddelse af egne aktier - august 2023.pdf', 'C:\\\\omx_data\\\\Storaktionærmeddelelser\\\\Selskabsmeddelelse 16_2023_Storaktionrmeddelelse.pdf', 'C:\\\\omx_data\\\\Storaktionærmeddelelser\\\\Selskabsmeddelelse 17_2023_Storaktionrmeddelelse.pdf', 'C:\\\\omx_data\\\\Storaktionærmeddelelser\\\\Selskabsmeddelelse 20_2023_Storaktionrmeddelelse.pdf', 'C:\\\\omx_data\\\\Storaktionærmeddelelser\\\\Selskabsmeddelelse nr 10-2023 Storaktionrmeddelelse.pdf', 'C:\\\\omx_data\\\\Storaktionærmeddelelser\\\\Selskabsmeddelelse nr 20-2023 Storaktionrmeddelelse.pdf', 'C:\\\\omx_data\\\\Storaktionærmeddelelser\\\\Selskabsmeddelelse nr 9-2023 Storaktionrmeddelelse.pdf', 'C:\\\\omx_data\\\\Storaktionærmeddelelser\\\\SE_20_2023_Major_Shareholder_Information_Pursuant_to_Section_30_of_the_Danish_Capital_Markets_Act.pdf', 'C:\\\\omx_data\\\\Storaktionærmeddelelser\\\\SM 10.pdf', 'C:\\\\omx_data\\\\Storaktionærmeddelelser\\\\Standardformular_Asetek unter 5 20230503.pdf', 'C:\\\\omx_data\\\\Storaktionærmeddelelser\\\\Storaktionrmeddelelse_2023.pdf', 'C:\\\\omx_data\\\\Storaktionærmeddelelser\\\\Storaktionrmeddelelse_Norges Bank_final.pdf', 'C:\\\\omx_data\\\\Storaktionærmeddelelser\\\\UIE major shareholder notification_29092023.pdf', 'C:\\\\omx_data\\\\Storaktionærmeddelelser\\\\UIE storaktionrmeddelelse_29092023.pdf', 'C:\\\\omx_data\\\\Årsrapport\\\\2022 Arsrapport BI Boligejendomme Final.pdf', 'C:\\\\omx_data\\\\Årsrapport\\\\2022 Arsrapport BI Erhvervsejendomme Final.pdf', 'C:\\\\omx_data\\\\Årsrapport\\\\2022 Arsrapport IF ValueInvest Danmark.pdf', 'C:\\\\omx_data\\\\Årsrapport\\\\2022 Arsrapport Investeringsforeningen BankInvest.pdf', 'C:\\\\omx_data\\\\Årsrapport\\\\2022 Arsrapport Investeringsforeningen Stonehenge.pdf', 'C:\\\\omx_data\\\\Årsrapport\\\\2022 Arsrapport Kapitalforeningen BankInvest Select.pdf', 'C:\\\\omx_data\\\\Årsrapport\\\\20220302-Zealand_Pharma-2022-Annual_Report.pdf', 'C:\\\\omx_data\\\\Årsrapport\\\\2022_CWW_Aarsrapport.pdf', 'C:\\\\omx_data\\\\Årsrapport\\\\220223_CA05_Genmab_2022_Annual_Report.pdf', 'C:\\\\omx_data\\\\Årsrapport\\\\5a IF PM - Arsrapport 2022 - Final.pdf', 'C:\\\\omx_data\\\\Årsrapport\\\\Aarsrapport 2022 - Danske Andelskassers Bank.pdf', 'C:\\\\omx_data\\\\Årsrapport\\\\AGF AS Aarsrapport 2022-23.pdf', 'C:\\\\omx_data\\\\Årsrapport\\\\Annual Report 2022.pdf', 'C:\\\\omx_data\\\\Årsrapport\\\\annual-report-nordea-2022.pdf', 'C:\\\\omx_data\\\\Årsrapport\\\\AO arsrapport 2022.pdf', 'C:\\\\omx_data\\\\Årsrapport\\\\APMM Annual Report 2022_pdf.pdf', 'C:\\\\omx_data\\\\Årsrapport\\\\Arsrapport 2022 - Brndby IF.pdf', 'C:\\\\omx_data\\\\Årsrapport\\\\Arsrapport 2022 - Investeringsforeningen Sydinvest.pdf', 'C:\\\\omx_data\\\\Årsrapport\\\\Arsrapport 2022 - Kap BLS - FINAL.pdf', 'C:\\\\omx_data\\\\Årsrapport\\\\Arsrapport 2022 - Vrdipapirfonden Sydinvest ny.pdf', 'C:\\\\omx_data\\\\Årsrapport\\\\Arsrapport 2022 - web.pdf', 'C:\\\\omx_data\\\\Årsrapport\\\\Arsrapport 2022 DAN.pdf', 'C:\\\\omx_data\\\\Årsrapport\\\\Arsrapport 2022 Investeringsforeningen Jyske Invest.pdf', 'C:\\\\omx_data\\\\Årsrapport\\\\Arsrapport 2022.pdf', 'C:\\\\omx_data\\\\Årsrapport\\\\Arsrapport 2022_2023-da.pdf', 'C:\\\\omx_data\\\\Årsrapport\\\\Arsrapport 2023 Vrdipapirfonden BankInvest.pdf', 'C:\\\\omx_data\\\\Årsrapport\\\\Arsrapport for verdipapirfondene SAM 2022.pdf', 'C:\\\\omx_data\\\\Årsrapport\\\\Arsrapport KF Epikur 2022.pdf', 'C:\\\\omx_data\\\\Årsrapport\\\\Arsrapport KF Fokus 2022.pdf', 'C:\\\\omx_data\\\\Årsrapport\\\\Arsrapport KF Pareto 2022.pdf', 'C:\\\\omx_data\\\\Årsrapport\\\\Arsrapport KF Penta 2022.pdf', 'C:\\\\omx_data\\\\Årsrapport\\\\Arsrapport KF Safe 2022.pdf', 'C:\\\\omx_data\\\\Årsrapport\\\\Arsrapport_2022.pdf', 'C:\\\\omx_data\\\\Årsrapport\\\\Atlantic Petroleum DK 2022 annual report_en.pdf', 'C:\\\\omx_data\\\\Årsrapport\\\\Bavarian Nordic Annual Report 2022.pdf', 'C:\\\\omx_data\\\\Årsrapport\\\\Boozt Annual And Sustainability Report 2022 ENG.pdf', 'C:\\\\omx_data\\\\Årsrapport\\\\BO_Annual report 2022-23.pdf', 'C:\\\\omx_data\\\\Årsrapport\\\\Carlsberg Group Annual Report 2022.pdf', 'C:\\\\omx_data\\\\Årsrapport\\\\cBrain - Arsrapport 2022.pdf', 'C:\\\\omx_data\\\\Årsrapport\\\\ChemoMetec_Arsrapport 2022-23_DK.pdf', 'C:\\\\omx_data\\\\Årsrapport\\\\Coop Opsparing Arsrapport 2022.pdf', 'C:\\\\omx_data\\\\Årsrapport\\\\Copenhagen Airports AS Group Annual Report 2022 UK.pdf', 'C:\\\\omx_data\\\\Årsrapport\\\\Copenhagen_Capital_Arsrapport_2022.pdf', 'C:\\\\omx_data\\\\Årsrapport\\\\DFDS_NO_10_24_02_2023_ANNUAL_REPORT_2022.pdf', 'C:\\\\omx_data\\\\Årsrapport\\\\Djurslands Bank Arsrapport 2022.pdf', 'C:\\\\omx_data\\\\Årsrapport\\\\DLR Kredit Arsrapport 2022.pdf', 'C:\\\\omx_data\\\\Årsrapport\\\\DSF Annual Report 2022.pdf', 'C:\\\\omx_data\\\\Årsrapport\\\\DSH annual report 2022.pdf', 'C:\\\\omx_data\\\\Årsrapport\\\\FirstFarms Annual Report 2022.pdf', 'C:\\\\omx_data\\\\Årsrapport\\\\FirstFarms Arsrapport 2022_PDF version.pdf', 'C:\\\\omx_data\\\\Årsrapport\\\\Flugger arsrapport 2022-23.pdf', 'C:\\\\omx_data\\\\Årsrapport\\\\FY22_Annual report.pdf', 'C:\\\\omx_data\\\\Årsrapport\\\\FY22_Annual report_vf.pdf', 'C:\\\\omx_data\\\\Årsrapport\\\\Fynske Bank Arsrapport 2022.pdf', 'C:\\\\omx_data\\\\Årsrapport\\\\GJ Annual report 2022.pdf', 'C:\\\\omx_data\\\\Årsrapport\\\\GN Annual Report 2022.pdf', 'C:\\\\omx_data\\\\Årsrapport\\\\GR - Arsrapport 2022 inklusiv SFDR.pdf', 'C:\\\\omx_data\\\\Årsrapport\\\\Green Hydrogen Systems - Annual Report 2022 v1.pdf', 'C:\\\\omx_data\\\\Årsrapport\\\\GreenMobility Annual Report 2022.pdf', 'C:\\\\omx_data\\\\Årsrapport\\\\Gyldendal arsrapport 2022.pdf', 'C:\\\\omx_data\\\\Årsrapport\\\\Handelsinvest arsrapport 2022 final.pdf', 'C:\\\\omx_data\\\\Årsrapport\\\\Hartmann Annual report 2022.pdf', 'C:\\\\omx_data\\\\Årsrapport\\\\Idavang Annual Report 2022.pdf', 'C:\\\\omx_data\\\\Årsrapport\\\\IF Formuepleje - Arsrapport 2022.pdf', 'C:\\\\omx_data\\\\Årsrapport\\\\IF SEBinvest arsrapport 2022.pdf', 'C:\\\\omx_data\\\\Årsrapport\\\\Jeudan_aarsrapport_2022.pdf', 'C:\\\\omx_data\\\\Årsrapport\\\\Jyske Bank Arsrapport 2022.pdf', 'C:\\\\omx_data\\\\Årsrapport\\\\Jyske Realkredit Arsrapport 2022.pdf', 'C:\\\\omx_data\\\\Årsrapport\\\\KF Wealth Invest Arsrapport 2022.pdf', 'C:\\\\omx_data\\\\Årsrapport\\\\KommuneKredit_Arsrapport_2022_DK.pdf', 'C:\\\\omx_data\\\\Årsrapport\\\\Nilfisk - Annual Report - 2022.pdf', 'C:\\\\omx_data\\\\Årsrapport\\\\NKT_Annual_Report_2022_final.pdf', 'C:\\\\omx_data\\\\Årsrapport\\\\NTG Annual Report 2022.pdf', 'C:\\\\omx_data\\\\Årsrapport\\\\Pandora Annual Report 2022.pdf', 'C:\\\\omx_data\\\\Årsrapport\\\\Park Street Annual Report 2022.pdf', 'C:\\\\omx_data\\\\Årsrapport\\\\Ress Life Investments AS - Annual Report 2022.pdf', 'C:\\\\omx_data\\\\Årsrapport\\\\ROVSING Annual Report 2022-2023_Final.pdf', 'C:\\\\omx_data\\\\Årsrapport\\\\SBAB Annual 2022_ENG.pdf', 'C:\\\\omx_data\\\\Årsrapport\\\\SBS Arsrapport 2022.pdf', 'C:\\\\omx_data\\\\Årsrapport\\\\SDG Invest Arsrapport 2022 - SAMLET.pdf', 'C:\\\\omx_data\\\\Årsrapport\\\\SE-2023-01_Annual Report 2022.pdf', 'C:\\\\omx_data\\\\Årsrapport\\\\SI_04_2023_Arsrapport2022_170323.pdf', 'C:\\\\omx_data\\\\Årsrapport\\\\SP Group Arsrapport 2022 - 24 03 23.pdf', 'C:\\\\omx_data\\\\Årsrapport\\\\STG Annual Report 2022.pdf', 'C:\\\\omx_data\\\\Årsrapport\\\\TCM_Annual report 2022.pdf', 'C:\\\\omx_data\\\\Årsrapport\\\\Tivoli AS - Arsrapport_2022.pdf', 'C:\\\\omx_data\\\\Årsrapport\\\\TRESU Investment Holding AS Annual Report 2022.pdf', 'C:\\\\omx_data\\\\Årsrapport\\\\Wealth_Invest_aarsrapport_2022.pdf']\n"
     ]
    }
   ],
   "source": [
    "print(found_files) # Finanskalender --- Forløb af generalforsamling --- Indkaldelse til generalforsamling --- Intern viden --- Selskabsvægter --- , Storaktionærmeddelser --- Årsrapport"
   ]
  },
  {
   "cell_type": "code",
   "execution_count": null,
   "metadata": {},
   "outputs": [
    {
     "name": "stdout",
     "output_type": "stream",
     "text": [
      "['C:\\\\omx_data\\\\Storaktionærmeddelelser\\\\NKT notification - signed.pdf', 'C:\\\\omx_data\\\\Forløb af generalforsamling\\\\06_Proceedings_AGM_29062023.pdf', 'C:\\\\omx_data\\\\Finanskalender\\\\Announcement337_Changes to the Financial Calendar_final.pdf', 'C:\\\\omx_data\\\\Indkaldelse til generalforsamling\\\\Bilag 3 - CV.pdf', 'C:\\\\omx_data\\\\Indkaldelse til generalforsamling\\\\236 - Indkaldelse ordinr GF 2023.pdf', 'C:\\\\omx_data\\\\Indkaldelse til generalforsamling\\\\03a_Annex_1_Notice_AGM_06062023.pdf', 'C:\\\\omx_data\\\\Forløb af generalforsamling\\\\20230427 AB Sveriges Sakerstallda Obligationer publ arsstamma_2023.pdf', 'C:\\\\omx_data\\\\Forløb af generalforsamling\\\\03109509.pdf', 'C:\\\\omx_data\\\\Årsrapport\\\\Arsrapport 2022 - Vrdipapirfonden Sydinvest ny.pdf', 'C:\\\\omx_data\\\\Selskabsvedtægter\\\\Vedtgter 2022 v2 DK endelig.pdf', 'C:\\\\omx_data\\\\Finanskalender\\\\Ress Life Investments AS - Company Announcement financial calendar 2023.pdf', 'C:\\\\omx_data\\\\Storaktionærmeddelelser\\\\21_2023 Green Hydrogen Systems - Major shareholder announcement.pdf', 'C:\\\\omx_data\\\\Intern viden\\\\DK_NR_25_28_07_2023_EKOL_TYRKISK_GODKENDELSE.pdf', 'C:\\\\omx_data\\\\Finanskalender\\\\Company announcement - update of RA release date.pdf', 'C:\\\\omx_data\\\\Finanskalender\\\\BO_2209_Financial calendar 2023-24_DK.pdf', 'C:\\\\omx_data\\\\Finanskalender\\\\Selskabsmeddelelse Optimum 2022 07 finanskalender.pdf', 'C:\\\\omx_data\\\\Forløb af generalforsamling\\\\SI_AGM_2023.pdf', 'C:\\\\omx_data\\\\Indkaldelse til generalforsamling\\\\2023 07 10 XGF Indkaldelse og dagsorden_Investeringsforening Wealth Invest.pdf', 'C:\\\\omx_data\\\\Selskabsvedtægter\\\\Articles of Association - January 25 2022 DK.pdf', 'C:\\\\omx_data\\\\Storaktionærmeddelelser\\\\534 - Treasury shares reduced below 5 of the share capital and voting rights.pdf', 'C:\\\\omx_data\\\\Finanskalender\\\\AS 1 2023 - Finanskalender.pdf', 'C:\\\\omx_data\\\\Storaktionærmeddelelser\\\\03215675.pdf', 'C:\\\\omx_data\\\\Forløb af generalforsamling\\\\Referat generalforsamling PO 12042023.pdf', 'C:\\\\omx_data\\\\Årsrapport\\\\Handelsinvest arsrapport 2022 final.pdf', 'C:\\\\omx_data\\\\Storaktionærmeddelelser\\\\Selskabsmeddelelse nr 9-2023 Storaktionrmeddelelse.pdf', 'C:\\\\omx_data\\\\Årsrapport\\\\DLR Kredit Arsrapport 2022.pdf', 'C:\\\\omx_data\\\\Årsrapport\\\\SBS Arsrapport 2022.pdf', 'C:\\\\omx_data\\\\Intern viden\\\\Company Announcement no 26.pdf', 'C:\\\\omx_data\\\\Forløb af generalforsamling\\\\Tivoli AS - Fondsbrsmeddelelse nr 6 - Forlb af generalforsamling 2023.pdf', 'C:\\\\omx_data\\\\Intern viden\\\\Ress Life Investments AS - Company Announcement 31-2023.pdf', 'C:\\\\omx_data\\\\Storaktionærmeddelelser\\\\20230609 - Storaktionrmeddelelse.pdf', 'C:\\\\omx_data\\\\Indkaldelse til generalforsamling\\\\Bilag B - Beskrivelse af bestyrelsesmedlemmer.pdf', 'C:\\\\omx_data\\\\Finanskalender\\\\11280986.pdf', 'C:\\\\omx_data\\\\Forløb af generalforsamling\\\\Course of Annual General Meeting 2023.pdf', 'C:\\\\omx_data\\\\Årsrapport\\\\Copenhagen Airports AS Group Annual Report 2022 UK.pdf', 'C:\\\\omx_data\\\\Årsrapport\\\\Ress Life Investments AS - Annual Report 2022.pdf', 'C:\\\\omx_data\\\\Indkaldelse til generalforsamling\\\\Multi_GF_dagsorden_2023_20_04_2023.pdf', 'C:\\\\omx_data\\\\Årsrapport\\\\GR - Arsrapport 2022 inklusiv SFDR.pdf', 'C:\\\\omx_data\\\\Forløb af generalforsamling\\\\BO_2304_Beslutninger fra den ordinre generalforsamling 2023.pdf', 'C:\\\\omx_data\\\\Forløb af generalforsamling\\\\Selskabsmeddelelse_20230330.pdf', 'C:\\\\omx_data\\\\Indkaldelse til generalforsamling\\\\LSI_Vedtgter_GF 2023_TC-version.pdf', 'C:\\\\omx_data\\\\Årsrapport\\\\SE-2023-01_Annual Report 2022.pdf', 'C:\\\\omx_data\\\\Finanskalender\\\\Selskabsmeddelelse 3_2023_Korrigeret_finanskalender_2023.pdf', 'C:\\\\omx_data\\\\Intern viden\\\\2023-20 Finanstilsynet har godkendt fusionen af Totalbanken AS og Sparekassen Danmark.pdf', 'C:\\\\omx_data\\\\Finanskalender\\\\Tivoli AS - Fondsbrsmeddelelse nr 11 - Finanskalender 2023.pdf', 'C:\\\\omx_data\\\\Indkaldelse til generalforsamling\\\\Remuneration Report Ress Life Investments AS.pdf', 'C:\\\\omx_data\\\\Indkaldelse til generalforsamling\\\\NNIT - Notice to convene AGM including Annex A.pdf', 'C:\\\\omx_data\\\\Storaktionærmeddelelser\\\\591390_Major_shareholder_notification_Asetek_over_5_16_05_2023.pdf', 'C:\\\\omx_data\\\\Indkaldelse til generalforsamling\\\\Bilag 1C - Arsrapport KF Pareto 2022.pdf', 'C:\\\\omx_data\\\\Finanskalender\\\\FB_Investin_finanskalender_2023_26_01_23.pdf', 'C:\\\\omx_data\\\\Intern viden\\\\SM 28.pdf', 'C:\\\\omx_data\\\\Selskabsvedtægter\\\\NN_Articles_of_association_2023_After CapReduct.pdf', 'C:\\\\omx_data\\\\Forløb af generalforsamling\\\\2023-04 Beslutninger pa den ordinre generalforsamling.pdf', 'C:\\\\omx_data\\\\Intern viden\\\\2023-18 Fusion af Totalbanken AS og Sparekassen Danmark vedtaget af reprsentantskabet i Sparekassen Danmark.pdf', 'C:\\\\omx_data\\\\Finanskalender\\\\Meddelelse 15 2022.pdf', 'C:\\\\omx_data\\\\Selskabsvedtægter\\\\Vedtgter Ennogie Solar Group AS 240222.pdf', 'C:\\\\omx_data\\\\Indkaldelse til generalforsamling\\\\DK Fuldmagt 2023.pdf', 'C:\\\\omx_data\\\\Storaktionærmeddelelser\\\\Fond-RU-5-2023-uk - Major shareholder announcement.pdf', 'C:\\\\omx_data\\\\Storaktionærmeddelelser\\\\Download announcement as PDF.pdf', 'C:\\\\omx_data\\\\Indkaldelse til generalforsamling\\\\UK Proxy 2023.pdf', 'C:\\\\omx_data\\\\Storaktionærmeddelelser\\\\20230130 Storaktionrmeddelelse.pdf', 'C:\\\\omx_data\\\\Forløb af generalforsamling\\\\Pandora_Company Announcement_No_777.pdf', 'C:\\\\omx_data\\\\Finanskalender\\\\Fondsbrsmeddelelse - Finanskalender 2023_Fokus_Signed.pdf', 'C:\\\\omx_data\\\\Finanskalender\\\\FB_Inv_Nykredit_Invest_finanskalender_2023_28_12_2022.pdf', 'C:\\\\omx_data\\\\Årsrapport\\\\2022 Arsrapport Investeringsforeningen Stonehenge.pdf', 'C:\\\\omx_data\\\\Indkaldelse til generalforsamling\\\\11-2023 Selskabsmeddelelse- Generalforsamling i Danske Andelskassers Bank.pdf', 'C:\\\\omx_data\\\\Indkaldelse til generalforsamling\\\\Dagsorden 2023 - Inkl Bilag A og Bilag B.pdf', 'C:\\\\omx_data\\\\Finanskalender\\\\Meddelelse 224 - Finanskalender 2022-23.pdf', 'C:\\\\omx_data\\\\Årsrapport\\\\Nilfisk - Annual Report - 2022.pdf', 'C:\\\\omx_data\\\\Forløb af generalforsamling\\\\03109454.pdf', 'C:\\\\omx_data\\\\Årsrapport\\\\Djurslands Bank Arsrapport 2022.pdf', 'C:\\\\omx_data\\\\Årsrapport\\\\Flugger arsrapport 2022-23.pdf', 'C:\\\\omx_data\\\\Intern viden\\\\Selskabsmeddelelse nr 8 - 2023.pdf', 'C:\\\\omx_data\\\\Storaktionærmeddelelser\\\\Fond-RU-8-2023-uk_appendix_BlackRock notification.pdf', 'C:\\\\omx_data\\\\Intern viden\\\\07174496.pdf', 'C:\\\\omx_data\\\\Forløb af generalforsamling\\\\DFDS_NR_16_22_03_2023_GF.pdf', 'C:\\\\omx_data\\\\Intern viden\\\\10_Upgrade_Financial_Expectations_15082023.pdf', 'C:\\\\omx_data\\\\Indkaldelse til generalforsamling\\\\PM Kallelse till arssstamma i SBAB Bank AB publ 2023-03-30.pdf', 'C:\\\\omx_data\\\\Forløb af generalforsamling\\\\Selskabsmeddelelse 4 2023_2024.pdf', 'C:\\\\omx_data\\\\Indkaldelse til generalforsamling\\\\Bilag 1F - IF Formuepleje - Arsrapport 2022.pdf', 'C:\\\\omx_data\\\\Storaktionærmeddelelser\\\\Selskabsmeddelelse nr 10-2023 Storaktionrmeddelelse.pdf', 'C:\\\\omx_data\\\\Finanskalender\\\\Fondsbrsmeddelelse - Finanskalender 2023_Pareto_Signed.pdf', 'C:\\\\omx_data\\\\Storaktionærmeddelelser\\\\Announcement 36 - Major shareholder notification.pdf', 'C:\\\\omx_data\\\\Årsrapport\\\\AO arsrapport 2022.pdf', 'C:\\\\omx_data\\\\Forløb af generalforsamling\\\\FB_MMI_forloeb_af_generalforsamlingen_20_04_2023.pdf', 'C:\\\\omx_data\\\\Selskabsvedtægter\\\\Forslag til vedtgtsndringer 2023.pdf', 'C:\\\\omx_data\\\\Årsrapport\\\\STG Annual Report 2022.pdf', 'C:\\\\omx_data\\\\Forløb af generalforsamling\\\\Download announcement as PDF.pdf', 'C:\\\\omx_data\\\\Selskabsvedtægter\\\\14_2022_Coloplast AS_Nye vedtgter.pdf', 'C:\\\\omx_data\\\\Intern viden\\\\2023-19 Referat af ekstraordinr generalforsamling i Totalbanken AS.pdf', 'C:\\\\omx_data\\\\Indkaldelse til generalforsamling\\\\Bilag 2A - 2023-04-27  - Vedtgter_KF Epikur_Mark-up.pdf', 'C:\\\\omx_data\\\\Storaktionærmeddelelser\\\\Noble_0906.pdf', 'C:\\\\omx_data\\\\Selskabsvedtægter\\\\xx-2021_ZealandPharma_announcement_capital increase_vF.pdf', 'C:\\\\omx_data\\\\Forløb af generalforsamling\\\\SM 07.pdf', 'C:\\\\omx_data\\\\Indkaldelse til generalforsamling\\\\Indkaldelse OGF BI Erhvervsejendomme 2023.pdf', 'C:\\\\omx_data\\\\Finanskalender\\\\Finanskalender 2023 - SEBinvest.pdf', 'C:\\\\omx_data\\\\Indkaldelse til generalforsamling\\\\2023 04 20 - Dagsorden_Investeringsforeningen Maj Invest.pdf', 'C:\\\\omx_data\\\\Årsrapport\\\\Park Street Annual Report 2022.pdf', 'C:\\\\omx_data\\\\Indkaldelse til generalforsamling\\\\Green Hydrogen Systems - Annual Report 2022.pdf', 'C:\\\\omx_data\\\\Intern viden\\\\Brsmeddelelse justerede forventninger til 2023 3082023 2023-08-30 16_41_15.pdf', 'C:\\\\omx_data\\\\Indkaldelse til generalforsamling\\\\Bilag 2 - CV for kandidater pa valg 2023.pdf', 'C:\\\\omx_data\\\\Finanskalender\\\\Finanskalenderen 2024.pdf', 'C:\\\\omx_data\\\\Forløb af generalforsamling\\\\Selskabsmeddelelse forlb af generalforsamling i MTHH 2023.pdf', 'C:\\\\omx_data\\\\Storaktionærmeddelelser\\\\05_2023_Storaktionrmeddelelse.pdf', 'C:\\\\omx_data\\\\Indkaldelse til generalforsamling\\\\GJ Remuneration report 2022.pdf', 'C:\\\\omx_data\\\\Forløb af generalforsamling\\\\Selskabsmeddelelse nr 2 2023.pdf', 'C:\\\\omx_data\\\\Selskabsvedtægter\\\\Articles of Association - February 22 2022 DK.pdf', 'C:\\\\omx_data\\\\Intern viden\\\\539 - HH International AS lowers financial guidance for 2023.pdf', 'C:\\\\omx_data\\\\Intern viden\\\\SM 25.pdf', 'C:\\\\omx_data\\\\Forløb af generalforsamling\\\\230412_08_Company_Announcement.pdf', 'C:\\\\omx_data\\\\Indkaldelse til generalforsamling\\\\Bilag 1D - Arsrapport KF Penta 2022.pdf', 'C:\\\\omx_data\\\\Årsrapport\\\\SI_04_2023_Arsrapport2022_170323.pdf', 'C:\\\\omx_data\\\\Indkaldelse til generalforsamling\\\\6 Notice to Convene the Annual General Meeting 2023.pdf', 'C:\\\\omx_data\\\\Årsrapport\\\\Jyske Bank Arsrapport 2022.pdf', 'C:\\\\omx_data\\\\Selskabsvedtægter\\\\Scandinavian Tobacco Group Results of the AGM 2023.pdf', 'C:\\\\omx_data\\\\Indkaldelse til generalforsamling\\\\Bilag 1B - Arsrapport KF Fokus 2022.pdf', 'C:\\\\omx_data\\\\Storaktionærmeddelelser\\\\20230414 Storaktionrmeddelelse.pdf', 'C:\\\\omx_data\\\\Intern viden\\\\Fondsbrsmeddelelse - formandsskifte august 2023.pdf', 'C:\\\\omx_data\\\\Storaktionærmeddelelser\\\\20230331 Storaktionrmeddelelse HCH.pdf', 'C:\\\\omx_data\\\\Intern viden\\\\Aarsleff selskabsmeddelelse 08 2023 DK.pdf', 'C:\\\\omx_data\\\\Årsrapport\\\\Arsrapport KF Fokus 2022.pdf', 'C:\\\\omx_data\\\\Storaktionærmeddelelser\\\\SM 10.pdf', 'C:\\\\omx_data\\\\Forløb af generalforsamling\\\\20230427 AB Sveriges Sakerstallda Obligationer publ arsstamma 2023.pdf', 'C:\\\\omx_data\\\\Selskabsvedtægter\\\\Articles of Association - June 20 2023 DK.pdf', 'C:\\\\omx_data\\\\Selskabsvedtægter\\\\Articles of Association - April 13 2021 II DK.pdf', 'C:\\\\omx_data\\\\Finanskalender\\\\Selskabsmeddelelse 16_2022_SIG_Finanskalender_2023.pdf', 'C:\\\\omx_data\\\\Finanskalender\\\\FB_Plac_Nykredit_Invest_finanskalender_2023_28_12_2022.pdf', 'C:\\\\omx_data\\\\Forløb af generalforsamling\\\\04138238.pdf', 'C:\\\\omx_data\\\\Forløb af generalforsamling\\\\Appendix 1 - New members of  the Board of Directors of Orphazyme.pdf', 'C:\\\\omx_data\\\\Årsrapport\\\\GJ Annual report 2022.pdf', 'C:\\\\omx_data\\\\Årsrapport\\\\FY22_Annual report_vf.pdf', 'C:\\\\omx_data\\\\Storaktionærmeddelelser\\\\27_2023 Green Hydrogen Systems - Major shareholder announcement.pdf', 'C:\\\\omx_data\\\\Finanskalender\\\\Finanskalender Nykredit-koncernen 2023 DK.pdf', 'C:\\\\omx_data\\\\Intern viden\\\\2023-32-da.pdf', 'C:\\\\omx_data\\\\Intern viden\\\\2023-22 Sletning fra handel og ophr af officiel notering.pdf', 'C:\\\\omx_data\\\\Storaktionærmeddelelser\\\\Disclosure form _Royal Unibrew_BlackRock_2023-09-07.pdf', 'C:\\\\omx_data\\\\Selskabsvedtægter\\\\2021 03 16 Vedtgter IF Wealth Invest.pdf', 'C:\\\\omx_data\\\\Selskabsvedtægter\\\\Articles of Association ENG.pdf', 'C:\\\\omx_data\\\\Indkaldelse til generalforsamling\\\\Appendix 1 - Candidates for the Board of Directors.pdf', 'C:\\\\omx_data\\\\Selskabsvedtægter\\\\Vedtgter for Ringkjbing Landbobank A-S - 2021 v1.pdf', 'C:\\\\omx_data\\\\Finanskalender\\\\18_2023 Company Announcement.pdf', 'C:\\\\omx_data\\\\Forløb af generalforsamling\\\\10_2023 Green Hydrogen Systems - Resolutions Annual General Meeting v1.pdf', 'C:\\\\omx_data\\\\Årsrapport\\\\BO_Annual report 2022-23.pdf', 'C:\\\\omx_data\\\\Årsrapport\\\\220223_CA05_Genmab_2022_Annual_Report.pdf', 'C:\\\\omx_data\\\\Årsrapport\\\\FY22_Annual report.pdf', 'C:\\\\omx_data\\\\Årsrapport\\\\TRESU Investment Holding AS Annual Report 2022.pdf', 'C:\\\\omx_data\\\\Årsrapport\\\\Arsrapport KF Safe 2022.pdf', 'C:\\\\omx_data\\\\Intern viden\\\\ISS Announcement - France.pdf', 'C:\\\\omx_data\\\\Forløb af generalforsamling\\\\CA FLSmidth Resume af ordinr generalforsamling DK 2023.pdf', 'C:\\\\omx_data\\\\Årsrapport\\\\APMM Annual Report 2022_pdf.pdf', 'C:\\\\omx_data\\\\Finanskalender\\\\08_2022_Financial Calendar 2022-23 - Coloplast BV.pdf', 'C:\\\\omx_data\\\\Storaktionærmeddelelser\\\\Fond-RU-6-2023-uk - Major shareholder announcement.pdf', 'C:\\\\omx_data\\\\Selskabsvedtægter\\\\Articles of Association - February 24 2023 DK.pdf', 'C:\\\\omx_data\\\\Forløb af generalforsamling\\\\Forlb af ordinr generalforsamling.pdf', 'C:\\\\omx_data\\\\Selskabsvedtægter\\\\Articles of Association - July 5 2022 DK.pdf', 'C:\\\\omx_data\\\\Forløb af generalforsamling\\\\03301526.pdf', 'C:\\\\omx_data\\\\Indkaldelse til generalforsamling\\\\EAC Invest AS - AGM 2023 Indkaldelse.pdf', 'C:\\\\omx_data\\\\Storaktionærmeddelelser\\\\23 Announcement_11082023_Notification of major shareholding.pdf', 'C:\\\\omx_data\\\\Årsrapport\\\\Jeudan_aarsrapport_2022.pdf', 'C:\\\\omx_data\\\\Storaktionærmeddelelser\\\\Disclosure_Form_Royal_Unibrew_AS_Invesco Ltd_21082023.pdf', 'C:\\\\omx_data\\\\Intern viden\\\\190723-ca35-epcoritamab-DLBCL-CHMP Opinion.pdf', 'C:\\\\omx_data\\\\Forløb af generalforsamling\\\\Development of AGM_2023.pdf', 'C:\\\\omx_data\\\\Selskabsvedtægter\\\\Vedtgter 060421.pdf', 'C:\\\\omx_data\\\\Selskabsvedtægter\\\\Bavarian Nordic - Vedtgter.pdf', 'C:\\\\omx_data\\\\Finanskalender\\\\06306376.pdf', 'C:\\\\omx_data\\\\Indkaldelse til generalforsamling\\\\Indkaldelse OGF BI Boligejendomme 2023.pdf', 'C:\\\\omx_data\\\\Selskabsvedtægter\\\\2023 04 20 Vedtgter IF Maj Invest - FT godkendt.pdf', 'C:\\\\omx_data\\\\Finanskalender\\\\27 Finanskalender 2023.pdf', 'C:\\\\omx_data\\\\Storaktionærmeddelelser\\\\43_29092023_Major shareholder announcement.pdf', 'C:\\\\omx_data\\\\Indkaldelse til generalforsamling\\\\UK Registration 2023.pdf', 'C:\\\\omx_data\\\\Indkaldelse til generalforsamling\\\\Fuldmagtsblanket_INV Investin_OGF_21042023.pdf', 'C:\\\\omx_data\\\\Indkaldelse til generalforsamling\\\\2023-04-12_Selskabsmeddelelse_Indkaldelse til GF Safe_Signed.pdf', 'C:\\\\omx_data\\\\Finanskalender\\\\Finanskalender 2023.pdf', 'C:\\\\omx_data\\\\Indkaldelse til generalforsamling\\\\2023-14 Totalbanken indkalder til ekstraordinr generalforsamling 20230830.pdf', 'C:\\\\omx_data\\\\Storaktionærmeddelelser\\\\Pandora_Company Announcement_No_784.pdf', 'C:\\\\omx_data\\\\Årsrapport\\\\Atlantic Petroleum DK 2022 annual report_en.pdf', 'C:\\\\omx_data\\\\Finanskalender\\\\Ress Life Investments AS - Company Announcement amendment to financial calendar 2023.pdf', 'C:\\\\omx_data\\\\Selskabsvedtægter\\\\2023 04 19 Vedtgter IF Wealth Invest.pdf', 'C:\\\\omx_data\\\\Finanskalender\\\\Fondsbrsmeddelelse - Finanskalender 2023_Epikur_Signed.pdf', 'C:\\\\omx_data\\\\Selskabsvedtægter\\\\Forslag til vedtgtsndringer 2022.pdf', 'C:\\\\omx_data\\\\Forløb af generalforsamling\\\\2023-04-13 FBM 07-2023 Referat af generalforsamling DAN.pdf', 'C:\\\\omx_data\\\\Forløb af generalforsamling\\\\2023-04-28 - Selskabsmeddelelse - KF Fokus - Forlb ordinr generalforsamling_Final.pdf', 'C:\\\\omx_data\\\\Selskabsvedtægter\\\\2022 03 22  IF Wealth Invest Vedtgter - FT Godkendte.pdf', 'C:\\\\omx_data\\\\Selskabsvedtægter\\\\Vedtgter 280621.pdf', 'C:\\\\omx_data\\\\Forløb af generalforsamling\\\\Ekstraordinr_generalforsamling_Nykredit Realkredit_A_S_-2023-08-31_DK.pdf', 'C:\\\\omx_data\\\\Årsrapport\\\\Arsrapport 2022.pdf', 'C:\\\\omx_data\\\\Selskabsvedtægter\\\\Articles of Association DEN.pdf', 'C:\\\\omx_data\\\\Intern viden\\\\DK_NR_27_14_08_2023_RESULTATFORVENTNING_OPJUSTERING.pdf', 'C:\\\\omx_data\\\\Storaktionærmeddelelser\\\\Selskabsmeddelelse - Beholdning af egne aktier juni 2023.pdf', 'C:\\\\omx_data\\\\Storaktionærmeddelelser\\\\Fond-RU-5-2023-uk_appendix_BlackRock notification.pdf', 'C:\\\\omx_data\\\\Forløb af generalforsamling\\\\Referat-fra-ekstraordinr-generalforsamling-27-marts-2023 1.pdf', 'C:\\\\omx_data\\\\Indkaldelse til generalforsamling\\\\GJ Annual report 2022.pdf', 'C:\\\\omx_data\\\\Storaktionærmeddelelser\\\\Fond-RU-24-2023-uk - Major shareholder announcement.pdf', 'C:\\\\omx_data\\\\Storaktionærmeddelelser\\\\20230502 Storaktionrmeddelelse.pdf', 'C:\\\\omx_data\\\\Intern viden\\\\NKT_reserverer_kapacitet til_SSEN_Transmission .pdf', 'C:\\\\omx_data\\\\Selskabsvedtægter\\\\Articles of Association - May 17 2022 DK.pdf', 'C:\\\\omx_data\\\\Intern viden\\\\Selskabsmeddelelse nr 14-2023 AGF AS i forhandlinger om salg af Adam Daghim.pdf', 'C:\\\\omx_data\\\\Forløb af generalforsamling\\\\2023 04 19 - KF Wealth Invest Forlbsmeddelelse.pdf', 'C:\\\\omx_data\\\\Indkaldelse til generalforsamling\\\\AAB_ Brevstemme blanket_GF2023_v5.pdf', 'C:\\\\omx_data\\\\Indkaldelse til generalforsamling\\\\04116808.pdf', 'C:\\\\omx_data\\\\Storaktionærmeddelelser\\\\Company Announcement no 23 2023.pdf', 'C:\\\\omx_data\\\\Indkaldelse til generalforsamling\\\\Meddelelse om generalforsamling 2023.pdf', 'C:\\\\omx_data\\\\Finanskalender\\\\527 - Updated financial calendar for 2023.pdf', 'C:\\\\omx_data\\\\Indkaldelse til generalforsamling\\\\2023 04 21 Indkaldelse og dagsorden_IF Coop.pdf', 'C:\\\\omx_data\\\\Årsrapport\\\\Gyldendal arsrapport 2022.pdf', 'C:\\\\omx_data\\\\Finanskalender\\\\11_2023 Finanskalender 2023.pdf', 'C:\\\\omx_data\\\\Finanskalender\\\\Fondsbrsmeddelelse - Finanskalender 2023_IFF_Signed.pdf', 'C:\\\\omx_data\\\\Finanskalender\\\\Finanskalender 2023_24 RIAS.pdf', 'C:\\\\omx_data\\\\Storaktionærmeddelelser\\\\Selskabsmeddelelse nr 20-2023 Storaktionrmeddelelse.pdf', 'C:\\\\omx_data\\\\Finanskalender\\\\Fond-RU-45-2022-uk.pdf', 'C:\\\\omx_data\\\\Årsrapport\\\\2022_CWW_Aarsrapport.pdf', 'C:\\\\omx_data\\\\Indkaldelse til generalforsamling\\\\Indkaldelse-til-ekstraordinr-generalforsamling-23-maj-2023.pdf', 'C:\\\\omx_data\\\\Selskabsvedtægter\\\\Vedtgter 140423.pdf', 'C:\\\\omx_data\\\\Selskabsvedtægter\\\\Articles of Association - March 29 2022 DK.pdf', 'C:\\\\omx_data\\\\Indkaldelse til generalforsamling\\\\2023-04-12_Selskabsmeddelelse_Indkaldelse til GF Pareto_Signed.pdf', 'C:\\\\omx_data\\\\Indkaldelse til generalforsamling\\\\Blanket til Fuldmagt og Brevstemme ved Tivolis Generalforsamling.pdf', 'C:\\\\omx_data\\\\Storaktionærmeddelelser\\\\08083342.pdf', 'C:\\\\omx_data\\\\Forløb af generalforsamling\\\\Selskabsmeddelelse Optimum 2023 03 forlb af generalforsamling.pdf', 'C:\\\\omx_data\\\\Forløb af generalforsamling\\\\2023-05 Referat af ordinr generalforsamling 20230330.pdf', 'C:\\\\omx_data\\\\Selskabsvedtægter\\\\2022 01 14 Vedtgter IF Wealth Invest.pdf', 'C:\\\\omx_data\\\\Indkaldelse til generalforsamling\\\\20230403 - COMPARE - gldende vedtgter med foreslaede vedtgter pr 25042023.pdf', 'C:\\\\omx_data\\\\Årsrapport\\\\2022 Arsrapport Kapitalforeningen BankInvest Select.pdf', 'C:\\\\omx_data\\\\Intern viden\\\\CK93-pr-14-juli-2023.pdf', 'C:\\\\omx_data\\\\Forløb af generalforsamling\\\\Orphazyme - Company announcement - Resolutions passed at the Annual General Meeting.pdf', 'C:\\\\omx_data\\\\Finanskalender\\\\SI_23_2022_Finanskalender2023_291222.pdf', 'C:\\\\omx_data\\\\Årsrapport\\\\DFDS_NO_10_24_02_2023_ANNUAL_REPORT_2022.pdf', 'C:\\\\omx_data\\\\Intern viden\\\\Gubra AS announces signing of collaboration agreement with Hemab ApS.pdf', 'C:\\\\omx_data\\\\Indkaldelse til generalforsamling\\\\PM Kallelse till arssstamma i AB Sveriges Sakerstallda Obligationer publ 2023-03-30.pdf', 'C:\\\\omx_data\\\\Storaktionærmeddelelser\\\\03024314.pdf', 'C:\\\\omx_data\\\\Intern viden\\\\CK93-pr-22-september-2023.pdf', 'C:\\\\omx_data\\\\Selskabsvedtægter\\\\2021 01 12 Vedtgter IF Wealth Invest.pdf', 'C:\\\\omx_data\\\\Finanskalender\\\\Finanskalender 2022_23 RIAS.pdf', 'C:\\\\omx_data\\\\Finanskalender\\\\Updated Financial Calendar for 2022 H1 update.pdf', 'C:\\\\omx_data\\\\Finanskalender\\\\Finanskalender for 2023.pdf', 'C:\\\\omx_data\\\\Intern viden\\\\CA-11-2023.pdf', 'C:\\\\omx_data\\\\Indkaldelse til generalforsamling\\\\Meddelelse_nr4_2023.pdf', 'C:\\\\omx_data\\\\Forløb af generalforsamling\\\\04034042.pdf', 'C:\\\\omx_data\\\\Indkaldelse til generalforsamling\\\\AGM Notice and Agenda 19042023.pdf', 'C:\\\\omx_data\\\\Årsrapport\\\\Arsrapport for verdipapirfondene SAM 2022.pdf', 'C:\\\\omx_data\\\\Selskabsvedtægter\\\\Articles of Association - September 20 2022 DK.pdf', 'C:\\\\omx_data\\\\Årsrapport\\\\GreenMobility Annual Report 2022.pdf', 'C:\\\\omx_data\\\\Forløb af generalforsamling\\\\20230427 SBAB Bank AB publ arsstamma 2023.pdf', 'C:\\\\omx_data\\\\Storaktionærmeddelelser\\\\Disclosure form_Royal Unibrew_BlackRock_2023-09-06.pdf', 'C:\\\\omx_data\\\\Forløb af generalforsamling\\\\Meddelelse 6 2023.pdf', 'C:\\\\omx_data\\\\Storaktionærmeddelelser\\\\06092145.pdf', 'C:\\\\omx_data\\\\Storaktionærmeddelelser\\\\UIE storaktionrmeddelelse_29092023.pdf', 'C:\\\\omx_data\\\\Indkaldelse til generalforsamling\\\\AGM Notice of Attendance Form 19042023.pdf', 'C:\\\\omx_data\\\\Finanskalender\\\\Jyske Banks Finanskalender 2023.pdf', 'C:\\\\omx_data\\\\Intern viden\\\\Q223 preliminary figures and updated 2023.pdf', 'C:\\\\omx_data\\\\Selskabsvedtægter\\\\Articles of Association - May 11 2021 DK.pdf', 'C:\\\\omx_data\\\\Årsrapport\\\\Tivoli AS - Arsrapport_2022.pdf', 'C:\\\\omx_data\\\\Indkaldelse til generalforsamling\\\\Indkaldelse til EXGF 2023  08 16 Nykredit Realkredit.pdf', 'C:\\\\omx_data\\\\Storaktionærmeddelelser\\\\Storaktionrmeddelelse_Norges Bank_final.pdf', 'C:\\\\omx_data\\\\Intern viden\\\\Company announcement no 14 2023 Excess Free Cashflow Repayment.pdf', 'C:\\\\omx_data\\\\Selskabsvedtægter\\\\Vedtgter 2021 v2 DK endelig.pdf', 'C:\\\\omx_data\\\\Selskabsvedtægter\\\\2023 01 30 Vedtgter IF Wealth Invest.pdf', 'C:\\\\omx_data\\\\Finanskalender\\\\FB_MMI_finanskalender_2023_28_12_2022.pdf', 'C:\\\\omx_data\\\\Selskabsvedtægter\\\\2020 12 03 Vedtgter IF Wealth Invest.pdf', 'C:\\\\omx_data\\\\Intern viden\\\\2023-08-15 FBM 10-2023 DK.pdf', 'C:\\\\omx_data\\\\Intern viden\\\\Download selskabsmeddelelse.pdf', 'C:\\\\omx_data\\\\Forløb af generalforsamling\\\\2023 04 19 - IF SEBinvest forlbsmeddelelse.pdf', 'C:\\\\omx_data\\\\Finanskalender\\\\noble_0302.pdf', 'C:\\\\omx_data\\\\Forløb af generalforsamling\\\\Results of the Annual General Meeting 2023.pdf', 'C:\\\\omx_data\\\\Storaktionærmeddelelser\\\\Fond-RU-7-2023-uk - Major shareholder announcement.pdf', 'C:\\\\omx_data\\\\Storaktionærmeddelelser\\\\20 Major shareholder.pdf', 'C:\\\\omx_data\\\\Forløb af generalforsamling\\\\04-2023 Forlb af ordinr generalforsamling.pdf', 'C:\\\\omx_data\\\\Intern viden\\\\Gubra raises financial guidance for full-year 2023.pdf', 'C:\\\\omx_data\\\\Storaktionærmeddelelser\\\\Standardformular_Asetek unter 5 20230503.pdf', 'C:\\\\omx_data\\\\Selskabsvedtægter\\\\Vedtgter AGM 2022_Agat Ejendomme.pdf', 'C:\\\\omx_data\\\\Årsrapport\\\\Pandora Annual Report 2022.pdf', 'C:\\\\omx_data\\\\Finanskalender\\\\MTH_Selskabsmeddelelse 20_2022.pdf', 'C:\\\\omx_data\\\\Storaktionærmeddelelser\\\\Fond-RU-12-2023-uk - Major shareholder announcement.pdf', 'C:\\\\omx_data\\\\Finanskalender\\\\06306377.pdf', 'C:\\\\omx_data\\\\Forløb af generalforsamling\\\\Protokollat_resund_underskrevet.pdf', 'C:\\\\omx_data\\\\Selskabsvedtægter\\\\Articles of Association ISS AS.pdf', 'C:\\\\omx_data\\\\Selskabsvedtægter\\\\20230131 Opdateret vedtgter.pdf', 'C:\\\\omx_data\\\\Intern viden\\\\230928_16_Company_Announcement.pdf', 'C:\\\\omx_data\\\\Selskabsvedtægter\\\\Articles of Association - September 27 2022 DK.pdf', 'C:\\\\omx_data\\\\Indkaldelse til generalforsamling\\\\08_2023 Green Hydrogen Systems - Notice convening the Annual General Meeting v1.pdf', 'C:\\\\omx_data\\\\Storaktionærmeddelelser\\\\Gubra Notification Of Danske Bank Major Holding.pdf', 'C:\\\\omx_data\\\\Storaktionærmeddelelser\\\\02077759.pdf', 'C:\\\\omx_data\\\\Indkaldelse til generalforsamling\\\\Notice of Annual General Meeting in Boozt AB.pdf', 'C:\\\\omx_data\\\\Intern viden\\\\07174497.pdf', 'C:\\\\omx_data\\\\Selskabsvedtægter\\\\2021 11 01 Vedtgter IF Wealth Invest - FT Godkendt.pdf', 'C:\\\\omx_data\\\\Årsrapport\\\\Arsrapport 2022 - Brndby IF.pdf', 'C:\\\\omx_data\\\\Årsrapport\\\\Coop Opsparing Arsrapport 2022.pdf', 'C:\\\\omx_data\\\\Årsrapport\\\\Copenhagen_Capital_Arsrapport_2022.pdf', 'C:\\\\omx_data\\\\Indkaldelse til generalforsamling\\\\236 - bilag 1 bestyrelsesmedlemmer.pdf', 'C:\\\\omx_data\\\\Finanskalender\\\\Maj Invest Finanskalender 2023.pdf', 'C:\\\\omx_data\\\\Finanskalender\\\\SM 20.pdf', 'C:\\\\omx_data\\\\Forløb af generalforsamling\\\\9 2023 Company Announcement.pdf', 'C:\\\\omx_data\\\\Selskabsvedtægter\\\\Articles of Association - June 9 2022 DK.pdf', 'C:\\\\omx_data\\\\Finanskalender\\\\AS 18 2023 - Finanskalender.pdf', 'C:\\\\omx_data\\\\Årsrapport\\\\Arsrapport 2022 DAN.pdf', 'C:\\\\omx_data\\\\Intern viden\\\\07_2023_Coloplast_offentliggr_gennemfrelse_af_udbud_af_nye_B_aktier.pdf', 'C:\\\\omx_data\\\\Indkaldelse til generalforsamling\\\\Bilag 2B - 2023-04-27 - Vedtgter_KF Fokus_Mark-up.pdf', 'C:\\\\omx_data\\\\Finanskalender\\\\Change to Financial calendar 2022 UK.pdf', 'C:\\\\omx_data\\\\Selskabsvedtægter\\\\Vedtgter.pdf', 'C:\\\\omx_data\\\\Forløb af generalforsamling\\\\BULLETIN FROM THE ANNUAL GENERAL MEETING IN BOOZT AB ON 26 APRIL 2023.pdf', 'C:\\\\omx_data\\\\Intern viden\\\\Selskabsmeddelelse_financial outlook 2023_DK.pdf', 'C:\\\\omx_data\\\\Selskabsvedtægter\\\\Articles of Association - December 14 2021 DK.pdf', 'C:\\\\omx_data\\\\Indkaldelse til generalforsamling\\\\DK Brevstemme 2023.pdf', 'C:\\\\omx_data\\\\Indkaldelse til generalforsamling\\\\2023-04-12_Selskabsmeddelelse_Indkaldelse til GF Penta_Signed.pdf', 'C:\\\\omx_data\\\\Storaktionærmeddelelser\\\\Announcement 2 - Major shareholder notification.pdf', 'C:\\\\omx_data\\\\Intern viden\\\\FLSmidth Company Announcement no16 2023.pdf', 'C:\\\\omx_data\\\\Storaktionærmeddelelser\\\\05084161.pdf', 'C:\\\\omx_data\\\\Storaktionærmeddelelser\\\\10-2023 Selskabsmeddelelse - Storaktionrmeddelelse Danske Andelskassers Bank.pdf', 'C:\\\\omx_data\\\\Intern viden\\\\Selskabsmeddelelse nr 13-2023 Forventninger til 2023-24.pdf', 'C:\\\\omx_data\\\\Indkaldelse til generalforsamling\\\\Arsrapport for 2022 for resund_underskrevet.pdf', 'C:\\\\omx_data\\\\Finanskalender\\\\ESG_37_Finanskalender2023.pdf', 'C:\\\\omx_data\\\\Intern viden\\\\Ekstraordinaere indfrielser_dk.pdf', 'C:\\\\omx_data\\\\Årsrapport\\\\NTG Annual Report 2022.pdf', 'C:\\\\omx_data\\\\Finanskalender\\\\Company calendar 2023 DA.pdf', 'C:\\\\omx_data\\\\Indkaldelse til generalforsamling\\\\EAC Invest AS - AGM 2023 - Bilag 1 - Bestyrelseskandidater.pdf', 'C:\\\\omx_data\\\\Finanskalender\\\\Company announcement no 13 2022-23 -  Financial Calendar 2023-24.pdf', 'C:\\\\omx_data\\\\Indkaldelse til generalforsamling\\\\Meddelelse nr 2 i 2023 Indkaldelse til GF 1.pdf', 'C:\\\\omx_data\\\\Selskabsvedtægter\\\\Articles of Association - November 22 2021 DK.pdf', 'C:\\\\omx_data\\\\Forløb af generalforsamling\\\\18_2023 Beslutninger pa Trygs ordinaere generalforsamling.pdf', 'C:\\\\omx_data\\\\Forløb af generalforsamling\\\\Referat-fra-ordinr-generalforsamling-21-februar-2023.pdf', 'C:\\\\omx_data\\\\Finanskalender\\\\Finanskalender 2024.pdf', 'C:\\\\omx_data\\\\Indkaldelse til generalforsamling\\\\CopCap_Vederlagsrapport2022.pdf', 'C:\\\\omx_data\\\\Forløb af generalforsamling\\\\2023 04 Forlb af ordinr generalforsaling i DLR Kredit.pdf', 'C:\\\\omx_data\\\\Intern viden\\\\Selskabsmeddelelse_20230901.pdf', 'C:\\\\omx_data\\\\Intern viden\\\\Meddelelse 10 2023.pdf', 'C:\\\\omx_data\\\\Finanskalender\\\\40 - 2022 12 23 Finanskalender 2023.pdf', 'C:\\\\omx_data\\\\Indkaldelse til generalforsamling\\\\GF-indk KFAI 2023-04-18.pdf', 'C:\\\\omx_data\\\\Intern viden\\\\Opjustering af resultatforventning for regnsakbsaret 2022-23.pdf', 'C:\\\\omx_data\\\\Årsrapport\\\\5a IF PM - Arsrapport 2022 - Final.pdf', 'C:\\\\omx_data\\\\Indkaldelse til generalforsamling\\\\Indkaldelse til ordinr generalforsamling 2023.pdf', 'C:\\\\omx_data\\\\Indkaldelse til generalforsamling\\\\Dagsorden OGF-fuldstndige forslag-overflytningsplan samlet_31032023.pdf', 'C:\\\\omx_data\\\\Indkaldelse til generalforsamling\\\\CopCap_Maltal.pdf', 'C:\\\\omx_data\\\\Indkaldelse til generalforsamling\\\\Bilag 1.pdf', 'C:\\\\omx_data\\\\Storaktionærmeddelelser\\\\37_08092023_Major shareholder announcement.pdf', 'C:\\\\omx_data\\\\Forløb af generalforsamling\\\\2023-04-28 - Selskabsmeddelelse - KF Penta - Forlb ordinr generalforsamling_Final.pdf', 'C:\\\\omx_data\\\\Årsrapport\\\\DSF Annual Report 2022.pdf', 'C:\\\\omx_data\\\\Indkaldelse til generalforsamling\\\\KFAI AR2022.pdf', 'C:\\\\omx_data\\\\Indkaldelse til generalforsamling\\\\Referat-fra-ekstraordinr-generalforsamling-27-marts-2023.pdf', 'C:\\\\omx_data\\\\Selskabsvedtægter\\\\2022 09 16 Vedtgter IF Wealth Invest - FT godkendte.pdf', 'C:\\\\omx_data\\\\Forløb af generalforsamling\\\\2023 04 19 - IF Wealth Invest Forlbsmeddelelse.pdf', 'C:\\\\omx_data\\\\Storaktionærmeddelelser\\\\05253300.pdf', 'C:\\\\omx_data\\\\Forløb af generalforsamling\\\\Referat af generalforsamling.pdf', 'C:\\\\omx_data\\\\Storaktionærmeddelelser\\\\Selskabsmeddelelse - Besiddelse af egne aktier - august 2023.pdf', 'C:\\\\omx_data\\\\Indkaldelse til generalforsamling\\\\Ladda ned som PDF.pdf', 'C:\\\\omx_data\\\\Indkaldelse til generalforsamling\\\\Indkaldelse med dagsorden og fuldstndige forslag - OGF - IF PM - 2023-04-27.pdf', 'C:\\\\omx_data\\\\Forløb af generalforsamling\\\\AGM 2023 - Remuneration Policy.pdf', 'C:\\\\omx_data\\\\Storaktionærmeddelelser\\\\01040502.pdf', 'C:\\\\omx_data\\\\Selskabsvedtægter\\\\Articles of Association - August 16 2022 DK.pdf', 'C:\\\\omx_data\\\\Intern viden\\\\20-2023 Forventninger 2023.pdf', 'C:\\\\omx_data\\\\Finanskalender\\\\Dantax Kalender 2223.pdf', 'C:\\\\omx_data\\\\Finanskalender\\\\08_2022_Finanskalender 2022-23.pdf', 'C:\\\\omx_data\\\\Intern viden\\\\CK93-pr-11-august-2023.pdf', 'C:\\\\omx_data\\\\Indkaldelse til generalforsamling\\\\GF230426 Indkaldelse.pdf', 'C:\\\\omx_data\\\\Indkaldelse til generalforsamling\\\\CopCap_Incitamentsaflnning.pdf', 'C:\\\\omx_data\\\\Finanskalender\\\\Financial Calendar for 2023.pdf', 'C:\\\\omx_data\\\\Selskabsvedtægter\\\\NN_Articles_of_Association_2022_After CapReduction.pdf', 'C:\\\\omx_data\\\\Indkaldelse til generalforsamling\\\\Bilag 2 - Vedtgter BI Erhvervsejendomme 2023.pdf', 'C:\\\\omx_data\\\\Selskabsvedtægter\\\\2023 01 10 Vedtgter IF Wealth Invest.pdf', 'C:\\\\omx_data\\\\Indkaldelse til generalforsamling\\\\APPENDIX 2 - Updated Articles of Association mark-up.pdf', 'C:\\\\omx_data\\\\Intern viden\\\\CK93-pr-25-august-2023.pdf', 'C:\\\\omx_data\\\\Intern viden\\\\CK93-pr-21-juli-2023.pdf', 'C:\\\\omx_data\\\\Forløb af generalforsamling\\\\FM_07_23DK_23032023.pdf', 'C:\\\\omx_data\\\\Storaktionærmeddelelser\\\\Announcement 17 - Major shareholder notification.pdf', 'C:\\\\omx_data\\\\Forløb af generalforsamling\\\\2023 04 21 Forlbsmeddelelse IF Coop Opsparing.pdf', 'C:\\\\omx_data\\\\Forløb af generalforsamling\\\\Meddelelse_nr3_2023.pdf', 'C:\\\\omx_data\\\\Forløb af generalforsamling\\\\2023_51_Novozymes_extraordinary_shareholders_meeting_resolutions.pdf', 'C:\\\\omx_data\\\\Intern viden\\\\Ress Life Investments AS - Company Announcement 24.pdf', 'C:\\\\omx_data\\\\Storaktionærmeddelelser\\\\Fond-RU-21-2023-uk - Major shareholder announcement.pdf', 'C:\\\\omx_data\\\\Indkaldelse til generalforsamling\\\\Bilag 2C - 2023-04-27  - Vedtgter_KF Pareto_Mark-up.pdf', 'C:\\\\omx_data\\\\Indkaldelse til generalforsamling\\\\Orphazyme - Company announcement - Notice to convene AGM 2023.pdf', 'C:\\\\omx_data\\\\Forløb af generalforsamling\\\\AGM 2023__Forlb.pdf', 'C:\\\\omx_data\\\\Indkaldelse til generalforsamling\\\\Fuldmagtsblanket - GF 2023 KF Safe.pdf', 'C:\\\\omx_data\\\\Indkaldelse til generalforsamling\\\\Indkaldelse til generalforsamling 2023.pdf', 'C:\\\\omx_data\\\\Årsrapport\\\\ChemoMetec_Arsrapport 2022-23_DK.pdf', 'C:\\\\omx_data\\\\Intern viden\\\\CA OCW1 - dansk.pdf', 'C:\\\\omx_data\\\\Indkaldelse til generalforsamling\\\\Kallelse till arsstamma SCBC 2023.pdf', 'C:\\\\omx_data\\\\Indkaldelse til generalforsamling\\\\Bilag A - Vederlagsrapport 2022.pdf', 'C:\\\\omx_data\\\\Selskabsvedtægter\\\\Articles of Association - September 21 2021 DK.pdf', 'C:\\\\omx_data\\\\Indkaldelse til generalforsamling\\\\Indk_OGF_BLS_18042023_28032023.pdf', 'C:\\\\omx_data\\\\Finanskalender\\\\Finansiel_kalender_2022_2023_DK.pdf', 'C:\\\\omx_data\\\\Finanskalender\\\\FMB 11  - Brndby IF - Finanskalender 2023 og 20224.pdf', 'C:\\\\omx_data\\\\Intern viden\\\\280723_CA36_Updated Guidance.pdf', 'C:\\\\omx_data\\\\Storaktionærmeddelelser\\\\2023-02-07 - Major shareholder announcement - going below 5 of share capital and voting rights.pdf', 'C:\\\\omx_data\\\\Finanskalender\\\\Finansiel_kalender_2023_2024_DK.pdf', 'C:\\\\omx_data\\\\Selskabsvedtægter\\\\2023 06 06 IF Wealth Invest Vedtgt - FT godkendt.pdf', 'C:\\\\omx_data\\\\Selskabsvedtægter\\\\13- ISS Announcement - Updated AoA April 2021.pdf', 'C:\\\\omx_data\\\\Forløb af generalforsamling\\\\20230419 Forlb af ordinr generalforsamling - Investeringsforeningen Sparinvest.pdf', 'C:\\\\omx_data\\\\Forløb af generalforsamling\\\\2023_35_Novozymes_annual_shareholders_meeting_resolutions.pdf', 'C:\\\\omx_data\\\\Indkaldelse til generalforsamling\\\\Fuldmagtsblanket - GF 2023 KF Epikur.pdf', 'C:\\\\omx_data\\\\Forløb af generalforsamling\\\\03226505.pdf', 'C:\\\\omx_data\\\\Selskabsvedtægter\\\\2022 02 03 Vedtgter IF Maj Invest.pdf', 'C:\\\\omx_data\\\\Årsrapport\\\\2022 Arsrapport Investeringsforeningen BankInvest.pdf', 'C:\\\\omx_data\\\\Intern viden\\\\Company announcement no 12 2023 Summons to Written Resolutions Sep 2023.pdf', 'C:\\\\omx_data\\\\Indkaldelse til generalforsamling\\\\Nasdaq referat af OGF 2023 - Totalkredit_dk.pdf', 'C:\\\\omx_data\\\\Indkaldelse til generalforsamling\\\\Green Hydrogen Systems - Remuneration Report 2022.pdf', 'C:\\\\omx_data\\\\Intern viden\\\\18-2023 Salg af kontraktrettighed.pdf', 'C:\\\\omx_data\\\\Indkaldelse til generalforsamling\\\\APPENDIX 1 - Updated Remuneration Policy mark-up.pdf', 'C:\\\\omx_data\\\\Årsrapport\\\\2022 Arsrapport BI Erhvervsejendomme Final.pdf', 'C:\\\\omx_data\\\\Storaktionærmeddelelser\\\\19 Major shareholder.pdf', 'C:\\\\omx_data\\\\Finanskalender\\\\Announcement347_Financial Calendar 2023-24.pdf', 'C:\\\\omx_data\\\\Selskabsvedtægter\\\\210427_NN_Articles_of_Association_2021.pdf', 'C:\\\\omx_data\\\\Årsrapport\\\\Arsrapport KF Epikur 2022.pdf', 'C:\\\\omx_data\\\\Selskabsvedtægter\\\\2021 04 22 Vedtgter SEBinvest.pdf', 'C:\\\\omx_data\\\\Storaktionærmeddelelser\\\\Fond-RU-12-2023-uk_appendix_BlackRock notification.pdf', 'C:\\\\omx_data\\\\Finanskalender\\\\535 - Updated financial calendar for 2023.pdf', 'C:\\\\omx_data\\\\Selskabsvedtægter\\\\2022 04 21 Vedtgter IF Maj Invest.pdf', 'C:\\\\omx_data\\\\Forløb af generalforsamling\\\\ENDELIG - Forlb af generalforsamling.pdf', 'C:\\\\omx_data\\\\Finanskalender\\\\Finanskalenderen 2023.pdf', 'C:\\\\omx_data\\\\Indkaldelse til generalforsamling\\\\GreenMobility AGM 2023 - Notice to convene.pdf', 'C:\\\\omx_data\\\\Forløb af generalforsamling\\\\2023-04-28 - Selskabsmeddelelse - KF Safe - Forlb ordinr generalforsamling_Final.pdf', 'C:\\\\omx_data\\\\Finanskalender\\\\Meddelelse nr 11 i 2022 finanskalender 2023.pdf', 'C:\\\\omx_data\\\\Indkaldelse til generalforsamling\\\\02-2023 Indkaldelse til ordinr generalforsamling.pdf', 'C:\\\\omx_data\\\\Indkaldelse til generalforsamling\\\\Bilag 3 - Vedtgter BI Boligejendomme 2023.pdf', 'C:\\\\omx_data\\\\Forløb af generalforsamling\\\\Selskabsmeddelelse nr 2023-11 referat fra generalforsamling.pdf', 'C:\\\\omx_data\\\\Indkaldelse til generalforsamling\\\\CopCap_Dataetik.pdf', 'C:\\\\omx_data\\\\Årsrapport\\\\Bavarian Nordic Annual Report 2022.pdf', 'C:\\\\omx_data\\\\Årsrapport\\\\IF Formuepleje - Arsrapport 2022.pdf', 'C:\\\\omx_data\\\\Finanskalender\\\\DFDS_NR_33_12_12_2022_FINANSKALENDER.pdf', 'C:\\\\omx_data\\\\Finanskalender\\\\IF Coop Opsparing - Finanskalender 2023.pdf', 'C:\\\\omx_data\\\\Indkaldelse til generalforsamling\\\\Bilag 2D - 2023-04-27 - Vedtgter_KF Penta_Mark-up.pdf', 'C:\\\\omx_data\\\\Finanskalender\\\\220907_Company announcement.pdf', 'C:\\\\omx_data\\\\Intern viden\\\\230810_13_Company_Announcement.pdf', 'C:\\\\omx_data\\\\Intern viden\\\\DFDS_NR_31_17_09_2023_AKKVISITION_GIBRALTAR.pdf', 'C:\\\\omx_data\\\\Indkaldelse til generalforsamling\\\\Nasdaq referat af OGF 2023 - Nykredit Bank_dk.pdf', 'C:\\\\omx_data\\\\Finanskalender\\\\Fondsbrsmeddelelse - Finanskalender 2023_Safe_Signed.pdf', 'C:\\\\omx_data\\\\Årsrapport\\\\FirstFarms Annual Report 2022.pdf', 'C:\\\\omx_data\\\\Selskabsvedtægter\\\\Vedtgter 2023 v2 DA endelig.pdf', 'C:\\\\omx_data\\\\Årsrapport\\\\Hartmann Annual report 2022.pdf', 'C:\\\\omx_data\\\\Forløb af generalforsamling\\\\AS 7 2023 - Resultat af afholdt generalforsamling.pdf', 'C:\\\\omx_data\\\\Forløb af generalforsamling\\\\Ladda ned som PDF.pdf', 'C:\\\\omx_data\\\\Intern viden\\\\Ress Life Investments AS - Company Announcement 26-2023.pdf', 'C:\\\\omx_data\\\\Forløb af generalforsamling\\\\Fuldmagtsblanket_INVInvestin_EGF_06072023.pdf', 'C:\\\\omx_data\\\\Indkaldelse til generalforsamling\\\\Vederlagsrapport 2022-2023.pdf', 'C:\\\\omx_data\\\\Årsrapport\\\\Boozt Annual And Sustainability Report 2022 ENG.pdf', 'C:\\\\omx_data\\\\Finanskalender\\\\Financial calendar_Company_Announcement_2021_22_no_14.pdf', 'C:\\\\omx_data\\\\Forløb af generalforsamling\\\\Forlb af ordinr generalforsamling 2023 meddelelse 2.pdf', 'C:\\\\omx_data\\\\Indkaldelse til generalforsamling\\\\BM_03_2023_Indkaldelse_til_ordinr_generalforsamling.pdf', 'C:\\\\omx_data\\\\Selskabsvedtægter\\\\2023 04 19 Vedtgter KF Wealth Invest.pdf', 'C:\\\\omx_data\\\\Intern viden\\\\Norwegian court rules in favor of Boozt in dispute with the Norwegian Tax Administration Skatteetaten.pdf', 'C:\\\\omx_data\\\\Intern viden\\\\Selskabsmeddelelse.pdf', 'C:\\\\omx_data\\\\Storaktionærmeddelelser\\\\20230202 Storaktionrmeddelelse Cooper.pdf', 'C:\\\\omx_data\\\\Finanskalender\\\\Meddelelse_nr8_2022.pdf', 'C:\\\\omx_data\\\\Finanskalender\\\\rsteds finanskalender for 2023.pdf', 'C:\\\\omx_data\\\\Forløb af generalforsamling\\\\Selskabsmeddelelse 11_2023 referat fra generalforsamlingen.pdf', 'C:\\\\omx_data\\\\Finanskalender\\\\1_2023 Company Announcement.pdf', 'C:\\\\omx_data\\\\Finanskalender\\\\SE-2022-15_DA.pdf', 'C:\\\\omx_data\\\\Indkaldelse til generalforsamling\\\\Notice AGM 2023.pdf', 'C:\\\\omx_data\\\\Forløb af generalforsamling\\\\SE-2023-05_DA.pdf', 'C:\\\\omx_data\\\\Indkaldelse til generalforsamling\\\\IAI Vedtgter juni 2023 markup.pdf', 'C:\\\\omx_data\\\\Forløb af generalforsamling\\\\2023-08-16 - referat.pdf', 'C:\\\\omx_data\\\\Årsrapport\\\\Arsrapport 2022 - web.pdf', 'C:\\\\omx_data\\\\Årsrapport\\\\Arsrapport_2022.pdf', 'C:\\\\omx_data\\\\Forløb af generalforsamling\\\\Pandora_Company Announcement_No_771.pdf', 'C:\\\\omx_data\\\\Storaktionærmeddelelser\\\\20230202 Storaktionrmeddelelse Bossen.pdf', 'C:\\\\omx_data\\\\Indkaldelse til generalforsamling\\\\2023-04-12_Indkaldelse til GF IFF_Signed.pdf', 'C:\\\\omx_data\\\\Forløb af generalforsamling\\\\04148924.pdf', 'C:\\\\omx_data\\\\Forløb af generalforsamling\\\\02077851.pdf', 'C:\\\\omx_data\\\\Selskabsvedtægter\\\\Vedtgter 2022 v1 DK endelig.pdf', 'C:\\\\omx_data\\\\Forløb af generalforsamling\\\\Fond-RU-14-2023-uk - Annual General Meeting.pdf', 'C:\\\\omx_data\\\\Storaktionærmeddelelser\\\\20230524 Storaktionrmeddelelse.pdf', 'C:\\\\omx_data\\\\Forløb af generalforsamling\\\\08_13032023_AGM summary.pdf', 'C:\\\\omx_data\\\\Storaktionærmeddelelser\\\\20230202 Storaktionrmeddelelse Atlas.pdf', 'C:\\\\omx_data\\\\Storaktionærmeddelelser\\\\Selskabsmeddelelse 20_2023_Storaktionrmeddelelse.pdf', 'C:\\\\omx_data\\\\Finanskalender\\\\SM 39.pdf', 'C:\\\\omx_data\\\\Forløb af generalforsamling\\\\Referat-fra-ekstraordinr-generalforsamling-23-maj-2023.pdf', 'C:\\\\omx_data\\\\Forløb af generalforsamling\\\\Download selskabsmeddelelse.pdf', 'C:\\\\omx_data\\\\Storaktionærmeddelelser\\\\Fond-RU-8-2023-uk - Major shareholder announcement.pdf', 'C:\\\\omx_data\\\\Intern viden\\\\230904_CA39_innovaTV 301 Topline Results.pdf', 'C:\\\\omx_data\\\\Indkaldelse til generalforsamling\\\\Dagsorden - ordinr generalforsamling 2023.pdf', 'C:\\\\omx_data\\\\Indkaldelse til generalforsamling\\\\Download selskabsmeddelelse.pdf', 'C:\\\\omx_data\\\\Intern viden\\\\PR230808-SELECT.pdf', 'C:\\\\omx_data\\\\Indkaldelse til generalforsamling\\\\Dagsorden og fuldstndige forslag.pdf', 'C:\\\\omx_data\\\\Storaktionærmeddelelser\\\\Selskabsmeddelelse 16_2023_Storaktionrmeddelelse.pdf', 'C:\\\\omx_data\\\\Storaktionærmeddelelser\\\\05168915.pdf', 'C:\\\\omx_data\\\\Finanskalender\\\\2022-12-21 FBM65-22 Finanskalender DAN.pdf', 'C:\\\\omx_data\\\\Årsrapport\\\\AGF AS Aarsrapport 2022-23.pdf', 'C:\\\\omx_data\\\\Intern viden\\\\Company announcement no 13 2023 notice from written resolution.pdf', 'C:\\\\omx_data\\\\Indkaldelse til generalforsamling\\\\Generalforsamlingsindkaldelse.pdf', 'C:\\\\omx_data\\\\Intern viden\\\\CK93-pr-8-september-2023.pdf', 'C:\\\\omx_data\\\\Indkaldelse til generalforsamling\\\\Fuldmagtsblanket - GF 2023 IF Formuepleje.pdf', 'C:\\\\omx_data\\\\Indkaldelse til generalforsamling\\\\Fuldmagtsblanket - GF 2023 KF Fokus.pdf', 'C:\\\\omx_data\\\\Forløb af generalforsamling\\\\SI_10_2023_ForlbAGM200423.pdf', 'C:\\\\omx_data\\\\Forløb af generalforsamling\\\\FB_Plac_Nykredit_Invest_forloeb_GF_12_04_2023.pdf', 'C:\\\\omx_data\\\\Intern viden\\\\CK93-pr-4-august-2023.pdf', 'C:\\\\omx_data\\\\Årsrapport\\\\NKT_Annual_Report_2022_final.pdf', 'C:\\\\omx_data\\\\Indkaldelse til generalforsamling\\\\Arsrapport for 2022 for Storeblt_underskrevet.pdf', 'C:\\\\omx_data\\\\Indkaldelse til generalforsamling\\\\GreenMobility AGM 2023 - Appendix 1 Candidates to the Board of Directors.pdf', 'C:\\\\omx_data\\\\Forløb af generalforsamling\\\\PR230323-Post-AGM-resolutions.pdf', 'C:\\\\omx_data\\\\Selskabsvedtægter\\\\10-2021 Articles of Association for Orphazyme.pdf', 'C:\\\\omx_data\\\\Forløb af generalforsamling\\\\2023-04-28 - Selskabsmeddelelse - KF Epikur - Forlb ordinr generalforsamling_Final.pdf', 'C:\\\\omx_data\\\\Indkaldelse til generalforsamling\\\\Notice to Convene AGM 2023.pdf', 'C:\\\\omx_data\\\\Intern viden\\\\Selskabsmeddelelse nr 9 - 2023.pdf', 'C:\\\\omx_data\\\\Storaktionærmeddelelser\\\\20230202 Storaktionrmeddelelse PWH.pdf', 'C:\\\\omx_data\\\\Indkaldelse til generalforsamling\\\\Bilag 1 - Vederlagspolitik for BI Boligejendomme 2023.pdf', 'C:\\\\omx_data\\\\Årsrapport\\\\Wealth_Invest_aarsrapport_2022.pdf', 'C:\\\\omx_data\\\\Storaktionærmeddelelser\\\\SE_20_2023_Major_Shareholder_Information_Pursuant_to_Section_30_of_the_Danish_Capital_Markets_Act.pdf', 'C:\\\\omx_data\\\\Selskabsvedtægter\\\\Articles of Association - January 28 2021 DK.pdf', 'C:\\\\omx_data\\\\Indkaldelse til generalforsamling\\\\CWW_INVESTERINGSFORENINGEN_Indkaldelse_GF_2023_FINAL 002.pdf', 'C:\\\\omx_data\\\\Selskabsvedtægter\\\\Vedtgter_2021.pdf', 'C:\\\\omx_data\\\\Intern viden\\\\2023-30-da.pdf', 'C:\\\\omx_data\\\\Finanskalender\\\\Finanskalender for Investeringsforeningen Sparinvest_26_01_2023.pdf', 'C:\\\\omx_data\\\\Intern viden\\\\CA_13_2023_Nine closing.pdf', 'C:\\\\omx_data\\\\Intern viden\\\\30_2023 Green Hydrogen Systems - Sebastian Koks Andreassen resigns as CEO.pdf', 'C:\\\\omx_data\\\\Forløb af generalforsamling\\\\Beslutninger pa den ordinre generalforsamling 2023 i rsted.pdf', 'C:\\\\omx_data\\\\Forløb af generalforsamling\\\\Scandinavian Tobacco Group Results of the AGM 2023.pdf', 'C:\\\\omx_data\\\\Årsrapport\\\\2022 Arsrapport BI Boligejendomme Final.pdf', 'C:\\\\omx_data\\\\Selskabsvedtægter\\\\2022_11_25_Vedtaegter_KF_Wealth_Invest.pdf', 'C:\\\\omx_data\\\\Intern viden\\\\230925_CA_TEPKINLY EMA Approval.pdf', 'C:\\\\omx_data\\\\Indkaldelse til generalforsamling\\\\Indkaldelse til ordinr generalforsamling SDG Invest 27-04-2023.pdf', 'C:\\\\omx_data\\\\Indkaldelse til generalforsamling\\\\Notice to Convene.pdf', 'C:\\\\omx_data\\\\Selskabsvedtægter\\\\Orphazyme - Articles of Assocation - 25 March 2021.pdf', 'C:\\\\omx_data\\\\Finanskalender\\\\Financial calendar 2022_revised.pdf', 'C:\\\\omx_data\\\\Indkaldelse til generalforsamling\\\\Indkaldelse - GF 2023 KFx5 IF Formuepleje_Final.pdf', 'C:\\\\omx_data\\\\Indkaldelse til generalforsamling\\\\Fuldmagts_brevstemmeblanket 003.pdf', 'C:\\\\omx_data\\\\Indkaldelse til generalforsamling\\\\Fulde forslag Tivolis ordinre generalforsamling og bilag 1.pdf', 'C:\\\\omx_data\\\\Storaktionærmeddelelser\\\\537 - Major shareholder announcement.pdf', 'C:\\\\omx_data\\\\Forløb af generalforsamling\\\\FB_Inv_Nykredit_Invest_Balance_Forloeb_GF_12_04_2023.pdf', 'C:\\\\omx_data\\\\Forløb af generalforsamling\\\\Noble_0503.pdf', 'C:\\\\omx_data\\\\Indkaldelse til generalforsamling\\\\04116815.pdf', 'C:\\\\omx_data\\\\Årsrapport\\\\cBrain - Arsrapport 2022.pdf', 'C:\\\\omx_data\\\\Selskabsvedtægter\\\\Articles of Association - December 13 2022 DK.pdf', 'C:\\\\omx_data\\\\Intern viden\\\\22_2023 Company Announcement.pdf', 'C:\\\\omx_data\\\\Selskabsvedtægter\\\\Articles of Association - February 25 2022 DK.pdf', 'C:\\\\omx_data\\\\Årsrapport\\\\Arsrapport 2022 - Kap BLS - FINAL.pdf', 'C:\\\\omx_data\\\\Forløb af generalforsamling\\\\20230425 Referat af den ordinre generalforsamling i Copenhagen Capital.pdf', 'C:\\\\omx_data\\\\Forløb af generalforsamling\\\\Selskabsmeddelelse 3 2023.pdf', 'C:\\\\omx_data\\\\Storaktionærmeddelelser\\\\27042023 Storaktionrmeddelelse Nordflint DA.pdf', 'C:\\\\omx_data\\\\Indkaldelse til generalforsamling\\\\2023 09 20 IF SEBinvest Dagsorden - med indstillinger.pdf', 'C:\\\\omx_data\\\\Årsrapport\\\\20220302-Zealand_Pharma-2022-Annual_Report.pdf', 'C:\\\\omx_data\\\\Intern viden\\\\Selskabsmeddelelse nr 16-2023 AGF AS i forhandlinger om salg af Thomas Kristensen .pdf', 'C:\\\\omx_data\\\\Forløb af generalforsamling\\\\04034041.pdf', 'C:\\\\omx_data\\\\Forløb af generalforsamling\\\\Prsentation kandidater 2023.pdf', 'C:\\\\omx_data\\\\Forløb af generalforsamling\\\\237 - Referat af ordinr generalforsamling 2023 Final.pdf', 'C:\\\\omx_data\\\\Forløb af generalforsamling\\\\Announcement 15 - Annual General Meeting 2023 - GN Store Nord.pdf', 'C:\\\\omx_data\\\\Indkaldelse til generalforsamling\\\\AGM Proxy and Postal Voting Form 19042023.pdf', 'C:\\\\omx_data\\\\Indkaldelse til generalforsamling\\\\SI _05_2023_AGM_290323.pdf', 'C:\\\\omx_data\\\\Forløb af generalforsamling\\\\13-2023 Selskabsmeddelelse - forlb af generalforsamling i Danske Andelskassers Bank 2023.pdf', 'C:\\\\omx_data\\\\Indkaldelse til generalforsamling\\\\Fond-RU-10-2023-uk - Notice to convene.pdf', 'C:\\\\omx_data\\\\Storaktionærmeddelelser\\\\Company Announcement no 22 2023.pdf', 'C:\\\\omx_data\\\\Forløb af generalforsamling\\\\FBM 9 - Forlb af ordinr generalforsamling 2023.pdf', 'C:\\\\omx_data\\\\Intern viden\\\\09079993.pdf', 'C:\\\\omx_data\\\\Indkaldelse til generalforsamling\\\\Bilag 1E - Arsrapport KF Safe 2022.pdf', 'C:\\\\omx_data\\\\Indkaldelse til generalforsamling\\\\GJ Remuneration and incentive policy 2023.pdf', 'C:\\\\omx_data\\\\Storaktionærmeddelelser\\\\20230525 Storaktionrmeddelelse.pdf', 'C:\\\\omx_data\\\\Årsrapport\\\\KF Wealth Invest Arsrapport 2022.pdf', 'C:\\\\omx_data\\\\Forløb af generalforsamling\\\\Meddelelse nr 5 i 2023 forlb af generalforsamling.pdf', 'C:\\\\omx_data\\\\Finanskalender\\\\FB_BLS_Invest_finanskalender_2023_12_01_2023.pdf', 'C:\\\\omx_data\\\\Årsrapport\\\\Arsrapport KF Penta 2022.pdf', 'C:\\\\omx_data\\\\Årsrapport\\\\Arsrapport 2022 - Investeringsforeningen Sydinvest.pdf', 'C:\\\\omx_data\\\\Selskabsvedtægter\\\\NN_Articles_of_Association_2022_PostAGM PreCapReduct.pdf', 'C:\\\\omx_data\\\\Storaktionærmeddelelser\\\\05263787.pdf', 'C:\\\\omx_data\\\\Indkaldelse til generalforsamling\\\\Bestillingsblanket Strategic Investments HJEMMESIDEVERSION 2023 - Final.pdf', 'C:\\\\omx_data\\\\Forløb af generalforsamling\\\\Company announcement no 4 Idavang 2023 Annual General Meeting 28-02-2023.pdf', 'C:\\\\omx_data\\\\Indkaldelse til generalforsamling\\\\Prsentation kandidater 2023.pdf', 'C:\\\\omx_data\\\\Selskabsvedtægter\\\\2023 04 19 Vedtgter SEBinvest - FT godkendt.pdf', 'C:\\\\omx_data\\\\Finanskalender\\\\Announcement 224 - Financial calendar 2022-23.pdf', 'C:\\\\omx_data\\\\Forløb af generalforsamling\\\\OMX forlb dk.pdf', 'C:\\\\omx_data\\\\Selskabsvedtægter\\\\Vedtgter 080421.pdf', 'C:\\\\omx_data\\\\Indkaldelse til generalforsamling\\\\Bilag 2E - 2023-04-27 - Vedtgter_KF Safe_Mark-up.pdf', 'C:\\\\omx_data\\\\Storaktionærmeddelelser\\\\Orphazyme - Company announcement - Major shareholder announcement.pdf', 'C:\\\\omx_data\\\\Storaktionærmeddelelser\\\\3_2023 Company Announcement - Major shareholder announcement.pdf', 'C:\\\\omx_data\\\\Finanskalender\\\\Financial Calendar 2023.pdf', 'C:\\\\omx_data\\\\Intern viden\\\\541 - HH International AS lowers financial guidance for 2023.pdf', 'C:\\\\omx_data\\\\Årsrapport\\\\GN Annual Report 2022.pdf', 'C:\\\\omx_data\\\\Storaktionærmeddelelser\\\\Announcement 15 - Major shareholder notification.pdf', 'C:\\\\omx_data\\\\Selskabsvedtægter\\\\Articles of Association - March 29 2023 DK.pdf', 'C:\\\\omx_data\\\\Storaktionærmeddelelser\\\\Fond-RU-25-2023-uk - Major shareholder announcement.pdf', 'C:\\\\omx_data\\\\Indkaldelse til generalforsamling\\\\Download announcement as PDF.pdf', 'C:\\\\omx_data\\\\Intern viden\\\\2023-12 Tidlig offentliggrelse af Halvarsrapport 2023 og opjusterede forventninger.pdf', 'C:\\\\omx_data\\\\Indkaldelse til generalforsamling\\\\DK Tilmelding 2023.pdf', 'C:\\\\omx_data\\\\Forløb af generalforsamling\\\\03226468.pdf', 'C:\\\\omx_data\\\\Intern viden\\\\CK93-pr-1-september-2023.pdf', 'C:\\\\omx_data\\\\Forløb af generalforsamling\\\\230412_08_Selskabsmeddelelse.pdf', 'C:\\\\omx_data\\\\Indkaldelse til generalforsamling\\\\Proxy_Postal vote form - AGM 2023.pdf', 'C:\\\\omx_data\\\\Intern viden\\\\CK93-pr-15-september-2023.pdf', 'C:\\\\omx_data\\\\Selskabsvedtægter\\\\Articles of Association - June 8 2023 DK.pdf', 'C:\\\\omx_data\\\\Intern viden\\\\19_2023 Company Announcement.pdf', 'C:\\\\omx_data\\\\Intern viden\\\\Fondsbrsmeddelelse nyvalg bestyrelse august 2023.pdf', 'C:\\\\omx_data\\\\Årsrapport\\\\ROVSING Annual Report 2022-2023_Final.pdf', 'C:\\\\omx_data\\\\Selskabsvedtægter\\\\Articles of Association - June 22 2021 DK.pdf', 'C:\\\\omx_data\\\\Selskabsvedtægter\\\\2022 03 22 Vedtgter SEBinvest - FT godkendt.pdf', 'C:\\\\omx_data\\\\Indkaldelse til generalforsamling\\\\03237372.pdf', 'C:\\\\omx_data\\\\Intern viden\\\\Company announcement no 10 2023 Sales July 2023.pdf', 'C:\\\\omx_data\\\\Storaktionærmeddelelser\\\\Announcement 4 - Major shareholder notification.pdf', 'C:\\\\omx_data\\\\Årsrapport\\\\Jyske Realkredit Arsrapport 2022.pdf', 'C:\\\\omx_data\\\\Storaktionærmeddelelser\\\\22 Major shareholder.pdf', 'C:\\\\omx_data\\\\Finanskalender\\\\Finanskalender 2023 - KF Wealth Invest.pdf', 'C:\\\\omx_data\\\\Finanskalender\\\\FB_Inv_Nykredit_Invest_Balance_finanskalender_2023_28_12_2022.pdf', 'C:\\\\omx_data\\\\Forløb af generalforsamling\\\\2023-04-28 - Selskabsmeddelelse - KF Pareto - Forlb ordinr generalforsamling_Final.pdf', 'C:\\\\omx_data\\\\Forløb af generalforsamling\\\\13-2023 Forlb OGF 2023.pdf', 'C:\\\\omx_data\\\\Selskabsvedtægter\\\\Articles of Association - July 6 2021 DK.pdf', 'C:\\\\omx_data\\\\Indkaldelse til generalforsamling\\\\Corporate Governance Statement 2022.pdf', 'C:\\\\omx_data\\\\Selskabsvedtægter\\\\Articles of Association - August 17 2021 DK.pdf', 'C:\\\\omx_data\\\\Storaktionærmeddelelser\\\\36_06092023_Major shareholder announcement.pdf', 'C:\\\\omx_data\\\\Selskabsvedtægter\\\\2022 10 27 Vedtgter IF Wealth Invest.pdf', 'C:\\\\omx_data\\\\Intern viden\\\\ISS Announcement - Outlook.pdf', 'C:\\\\omx_data\\\\Storaktionærmeddelelser\\\\Storaktionrmeddelelse_2023.pdf', 'C:\\\\omx_data\\\\Intern viden\\\\08021159.pdf', 'C:\\\\omx_data\\\\Årsrapport\\\\Green Hydrogen Systems - Annual Report 2022 v1.pdf', 'C:\\\\omx_data\\\\Forløb af generalforsamling\\\\AGM 2023 - Indkaldelse.pdf', 'C:\\\\omx_data\\\\Indkaldelse til generalforsamling\\\\Fuldmagtsblanket - GF 2023 KF Pareto.pdf', 'C:\\\\omx_data\\\\Storaktionærmeddelelser\\\\UIE major shareholder notification_29092023.pdf', 'C:\\\\omx_data\\\\Selskabsvedtægter\\\\2022 04 26 Vedtgter IF Wealth Invest.pdf', 'C:\\\\omx_data\\\\Forløb af generalforsamling\\\\2023-04-28 - IFF - Selskabsmeddelelse - Forlb ordinr generalforsamling_Final.pdf', 'C:\\\\omx_data\\\\Intern viden\\\\31_15082023_Upgrade earnings expectations.pdf', 'C:\\\\omx_data\\\\Indkaldelse til generalforsamling\\\\2023 05 DLR Kredit indkaldelse til ekstraordinr generalforsamling.pdf', 'C:\\\\omx_data\\\\Storaktionærmeddelelser\\\\41_25092023_Major shareholder announcement.pdf', 'C:\\\\omx_data\\\\Finanskalender\\\\ESG_01_2023_Finanskalender2023.pdf', 'C:\\\\omx_data\\\\Årsrapport\\\\annual-report-nordea-2022.pdf', 'C:\\\\omx_data\\\\Forløb af generalforsamling\\\\08 Announcement_23032023_Annual General Meeting - Summary.pdf', 'C:\\\\omx_data\\\\Indkaldelse til generalforsamling\\\\Notice - AGM 2023.pdf', 'C:\\\\omx_data\\\\Storaktionærmeddelelser\\\\20230104 - ISS Announcement - Major Shareholder Announcement.pdf', 'C:\\\\omx_data\\\\Storaktionærmeddelelser\\\\08083335.pdf', 'C:\\\\omx_data\\\\Selskabsvedtægter\\\\Articles of Association - January 24 2023 DK.pdf', 'C:\\\\omx_data\\\\Forløb af generalforsamling\\\\2023 04 20 - Maj Invest forlb af GF.pdf', 'C:\\\\omx_data\\\\Intern viden\\\\individual-solvency-need-nordea-kredit-2023-q2.pdf', 'C:\\\\omx_data\\\\Forløb af generalforsamling\\\\290303_CA17_Passing of AGM.pdf', 'C:\\\\omx_data\\\\Årsrapport\\\\Arsrapport KF Pareto 2022.pdf', 'C:\\\\omx_data\\\\Selskabsvedtægter\\\\2020 12 03 Vedtgter SEBinvest.pdf', 'C:\\\\omx_data\\\\Årsrapport\\\\Arsrapport 2022 Investeringsforeningen Jyske Invest.pdf', 'C:\\\\omx_data\\\\Indkaldelse til generalforsamling\\\\CopCap_Vederlagspolitik.pdf', 'C:\\\\omx_data\\\\Storaktionærmeddelelser\\\\Fond-RU-6-2023-uk_appendix_BlackRock notification.pdf', 'C:\\\\omx_data\\\\Forløb af generalforsamling\\\\Ress Life Investments AS - Company Announcement 2023 AGM.pdf', 'C:\\\\omx_data\\\\Forløb af generalforsamling\\\\Minutes from the annual general meeting on April 19 - 2023.pdf', 'C:\\\\omx_data\\\\Storaktionærmeddelelser\\\\20230202 Storaktionrmeddelelse HCH.pdf', 'C:\\\\omx_data\\\\Indkaldelse til generalforsamling\\\\Bestyrelse og direktion.pdf', 'C:\\\\omx_data\\\\Årsrapport\\\\DSH annual report 2022.pdf', 'C:\\\\omx_data\\\\Storaktionærmeddelelser\\\\Nasdaq - Storaktionrmeddelelse 04-01-2023.pdf', 'C:\\\\omx_data\\\\Forløb af generalforsamling\\\\ISS Announcement - AGM Results 2023.pdf', 'C:\\\\omx_data\\\\Finanskalender\\\\Download selskabsmeddelelse.pdf', 'C:\\\\omx_data\\\\Forløb af generalforsamling\\\\SE_08_2023_Passing_of_Columbus_Annual_General_Meeting_and_subsequent_constitution_of_the_Board_of_Directors.pdf', 'C:\\\\omx_data\\\\Finanskalender\\\\2022_24_Financial_calendar_2023.pdf', 'C:\\\\omx_data\\\\Intern viden\\\\Ress Life Investments AS - Company Announcement 30-2023.pdf', 'C:\\\\omx_data\\\\Indkaldelse til generalforsamling\\\\UK Postal Vote 2023.pdf', 'C:\\\\omx_data\\\\Selskabsvedtægter\\\\2022 04 26 Vedtgter SEBinvest.pdf', 'C:\\\\omx_data\\\\Årsrapport\\\\FirstFarms Arsrapport 2022_PDF version.pdf', 'C:\\\\omx_data\\\\Årsrapport\\\\Fynske Bank Arsrapport 2022.pdf', 'C:\\\\omx_data\\\\Selskabsvedtægter\\\\2021 10 15 Vedtgter IF Maj Invest.pdf', 'C:\\\\omx_data\\\\Selskabsvedtægter\\\\Articles of Association - August 15 2023 DK.pdf', 'C:\\\\omx_data\\\\Selskabsvedtægter\\\\Articles of Association - November 21 2022 DK.pdf', 'C:\\\\omx_data\\\\Intern viden\\\\2023-29-da.pdf', 'C:\\\\omx_data\\\\Indkaldelse til generalforsamling\\\\Kallelse SBAB arsstamma 2023.pdf', 'C:\\\\omx_data\\\\Indkaldelse til generalforsamling\\\\Notification of Attendance - AGM 2023.pdf', 'C:\\\\omx_data\\\\Intern viden\\\\Ress Life Investments AS - Company Announcement 29-2023.pdf', 'C:\\\\omx_data\\\\Indkaldelse til generalforsamling\\\\03_Notice_AGM_06062023.pdf', 'C:\\\\omx_data\\\\Finanskalender\\\\Fondsbrsmeddelelse - Finanskalender 2023_Penta_Signed.pdf', 'C:\\\\omx_data\\\\Årsrapport\\\\SBAB Annual 2022_ENG.pdf', 'C:\\\\omx_data\\\\Finanskalender\\\\07_2023 Green Hydrogen Systems - Financial calendar 2023_updated v1.pdf', 'C:\\\\omx_data\\\\Indkaldelse til generalforsamling\\\\2023-04-12_Selskabsmeddelelse_Indkaldelse til GF Epikur_Signed.pdf', 'C:\\\\omx_data\\\\Selskabsvedtægter\\\\Articles of Association - May 23 2023 DK.pdf', 'C:\\\\omx_data\\\\Storaktionærmeddelelser\\\\Fond-RU-11-2023-uk_appendix_BlackRock notification.pdf', 'C:\\\\omx_data\\\\Selskabsvedtægter\\\\Forslag til vedtgtsndringer 2021.pdf', 'C:\\\\omx_data\\\\Storaktionærmeddelelser\\\\FBM 2 - Brndby IF - Storaktionrmeddelelse.pdf', 'C:\\\\omx_data\\\\Selskabsvedtægter\\\\2021 08 23 Vedtgter IF Wealth Invest.pdf', 'C:\\\\omx_data\\\\Intern viden\\\\FMB 12  - Brndby IF - Resultatforventning_.pdf', 'C:\\\\omx_data\\\\Forløb af generalforsamling\\\\FB_Inv_Nykredit_Invest_forloeb_GF_12_04_2023.pdf', 'C:\\\\omx_data\\\\Forløb af generalforsamling\\\\Dagsorden med forslag og overflytningsplan_INV Investin_EGF 06072023_21062023.pdf', 'C:\\\\omx_data\\\\Selskabsvedtægter\\\\Articles of Association - September 12 2023 DK.pdf', 'C:\\\\omx_data\\\\Selskabsvedtægter\\\\Vedtgter 20210325.pdf', 'C:\\\\omx_data\\\\Intern viden\\\\Indberetning Jakob Mikkelsen Holding ApS - august 2023.pdf', 'C:\\\\omx_data\\\\Intern viden\\\\19-2023 Salg HH bekrftet.pdf', 'C:\\\\omx_data\\\\Intern viden\\\\NKT_vinder_rammeaftale_og_rekordordre_pa_fem_kabelprojekter.pdf', 'C:\\\\omx_data\\\\Årsrapport\\\\Idavang Annual Report 2022.pdf', 'C:\\\\omx_data\\\\Forløb af generalforsamling\\\\Generalforsamlingsforlb i Mns Bank 20230322.pdf', 'C:\\\\omx_data\\\\Storaktionærmeddelelser\\\\Selskabsmeddelelse 17_2023_Storaktionrmeddelelse.pdf', 'C:\\\\omx_data\\\\Finanskalender\\\\AS 17 2022 - Finanskalender.pdf', 'C:\\\\omx_data\\\\Storaktionærmeddelelser\\\\23 Major shareholder.pdf', 'C:\\\\omx_data\\\\Årsrapport\\\\Aarsrapport 2022 - Danske Andelskassers Bank.pdf', 'C:\\\\omx_data\\\\Årsrapport\\\\Annual Report 2022.pdf', 'C:\\\\omx_data\\\\Årsrapport\\\\TCM_Annual report 2022.pdf', 'C:\\\\omx_data\\\\Årsrapport\\\\IF SEBinvest arsrapport 2022.pdf', 'C:\\\\omx_data\\\\Storaktionærmeddelelser\\\\Announcement 5 - Major shareholder notification.pdf', 'C:\\\\omx_data\\\\Årsrapport\\\\SDG Invest Arsrapport 2022 - SAMLET.pdf', 'C:\\\\omx_data\\\\Forløb af generalforsamling\\\\Selskabsmeddelelse 5 2023_2024.pdf', 'C:\\\\omx_data\\\\Intern viden\\\\07202023_CA34_DARZALEX Q2 Sales.pdf', 'C:\\\\omx_data\\\\Finanskalender\\\\Opdatering af Jyske Banks Finanskalender 2023.pdf', 'C:\\\\omx_data\\\\Intern viden\\\\Aarsleff fjernvarme_program3 DK.pdf', 'C:\\\\omx_data\\\\Indkaldelse til generalforsamling\\\\2023 04 Indkaldelse generalforsamling.pdf', 'C:\\\\omx_data\\\\Intern viden\\\\230831_15_Company_Announcement.pdf', 'C:\\\\omx_data\\\\Indkaldelse til generalforsamling\\\\Bilag 1 - CV for kandidater pa valg 2023.pdf', 'C:\\\\omx_data\\\\Selskabsvedtægter\\\\Articles of Association - November 15 2022 DK.pdf', 'C:\\\\omx_data\\\\Finanskalender\\\\Vestjysk Bank Finanskalender 2023.pdf', 'C:\\\\omx_data\\\\Selskabsvedtægter\\\\Vedtgter_Investeringsforeningen Wealth Invest_Godkendt af Finanstilsynet 31 august 2023.pdf', 'C:\\\\omx_data\\\\Forløb af generalforsamling\\\\Protokollat_Storeblt_underskrevet.pdf', 'C:\\\\omx_data\\\\Storaktionærmeddelelser\\\\05231803.pdf', 'C:\\\\omx_data\\\\Forløb af generalforsamling\\\\Selskabsmeddelelse 2023-05.pdf', 'C:\\\\omx_data\\\\Forløb af generalforsamling\\\\20230301 DK Meddelelse om afholdt generalforsamling.pdf', 'C:\\\\omx_data\\\\Finanskalender\\\\18_2022 Green Hydrogen Systems - Financial calendar 2023.pdf', 'C:\\\\omx_data\\\\Intern viden\\\\Announcement 24 - Update of financial guidance for 2023.pdf', 'C:\\\\omx_data\\\\Finanskalender\\\\20230201 Opdateret Finanskalender.pdf', 'C:\\\\omx_data\\\\Indkaldelse til generalforsamling\\\\GJ Indkaldelse til generalforsamling_Notice annual general meeting - 2023.pdf', 'C:\\\\omx_data\\\\Selskabsvedtægter\\\\Articles of Association - February 26 2021 DK.pdf', 'C:\\\\omx_data\\\\Forløb af generalforsamling\\\\Protokollat af SDG Invest generalforsamling 27 04 2023 underskrevet.pdf', 'C:\\\\omx_data\\\\Finanskalender\\\\Company Announcement Financial calendar 2023.pdf', 'C:\\\\omx_data\\\\Indkaldelse til generalforsamling\\\\AS 6 2023 - Indkaldelse til generalforsamling.pdf', 'C:\\\\omx_data\\\\Selskabsvedtægter\\\\2023 04 21 Vedtgter IF Coop Opsparing - FT godkendt.pdf', 'C:\\\\omx_data\\\\Forløb af generalforsamling\\\\FMB 10  - Brndby IF - Konstituering af bestyrelsen.pdf', 'C:\\\\omx_data\\\\Finanskalender\\\\Finanskalender 2023 - Wealth Invest.pdf', 'C:\\\\omx_data\\\\Årsrapport\\\\Carlsberg Group Annual Report 2022.pdf', 'C:\\\\omx_data\\\\Storaktionærmeddelelser\\\\Announcement346_Change_capital_large_shareholder.pdf', 'C:\\\\omx_data\\\\Selskabsvedtægter\\\\2020 12 15 Vedtgter SEBinvest.pdf', 'C:\\\\omx_data\\\\Storaktionærmeddelelser\\\\Fond-RU-22-2023-uk - Major shareholder announcement.pdf', 'C:\\\\omx_data\\\\Finanskalender\\\\Announcement334_Financial_Calender.pdf', 'C:\\\\omx_data\\\\Intern viden\\\\CK93-pr-18-august-2023.pdf', 'C:\\\\omx_data\\\\Indkaldelse til generalforsamling\\\\Copenhagen Capital - Ansvarlighedsrapport 2022.pdf', 'C:\\\\omx_data\\\\Årsrapport\\\\KommuneKredit_Arsrapport_2022_DK.pdf', 'C:\\\\omx_data\\\\Intern viden\\\\CK93-pr-28-juli-2023.pdf', 'C:\\\\omx_data\\\\Indkaldelse til generalforsamling\\\\Nasdaq referat af OGF 2023 - Nykredit Realkredit_dk.pdf', 'C:\\\\omx_data\\\\Storaktionærmeddelelser\\\\Fond-RU-7-2023-uk_appendix_BlackRock notification.pdf', 'C:\\\\omx_data\\\\Finanskalender\\\\09_2023_Finanskalender_2023-24.pdf', 'C:\\\\omx_data\\\\Selskabsvedtægter\\\\2022 05 19 Vedtgter IF Wealth Invest.pdf', 'C:\\\\omx_data\\\\Indkaldelse til generalforsamling\\\\Bilag 1A - Arsrapport KF Epikur 2022.pdf', 'C:\\\\omx_data\\\\Indkaldelse til generalforsamling\\\\Oversigt bilag.pdf', 'C:\\\\omx_data\\\\Storaktionærmeddelelser\\\\Fond-RU-11-2023-uk - Major shareholder announcement.pdf', 'C:\\\\omx_data\\\\Storaktionærmeddelelser\\\\Major shareholder announcement.pdf', 'C:\\\\omx_data\\\\Intern viden\\\\Ress Life Investments AS - Company Announcement 25-2023.pdf', 'C:\\\\omx_data\\\\Selskabsvedtægter\\\\Articles of Association - March 2 2021 DK.pdf', 'C:\\\\omx_data\\\\Forløb af generalforsamling\\\\6 Forlb af GF.pdf', 'C:\\\\omx_data\\\\Selskabsvedtægter\\\\Vedtgter 2023 v1 DA endelig.pdf', 'C:\\\\omx_data\\\\Indkaldelse til generalforsamling\\\\2023-04-12_Selskabsmeddelelse_Indkaldelse til GF Fokus_Signed.pdf', 'C:\\\\omx_data\\\\Årsrapport\\\\SP Group Arsrapport 2022 - 24 03 23.pdf', 'C:\\\\omx_data\\\\Finanskalender\\\\Jyske Banks Finanskalender 2024.pdf', 'C:\\\\omx_data\\\\Finanskalender\\\\2022-14 Finanskalender 2023.pdf', 'C:\\\\omx_data\\\\Forløb af generalforsamling\\\\ESG_AGM_2023 Final.pdf', 'C:\\\\omx_data\\\\Intern viden\\\\2023-28-da.pdf', 'C:\\\\omx_data\\\\Finanskalender\\\\17 Announcement_16122022_2023 Financial Calendar.pdf', 'C:\\\\omx_data\\\\Storaktionærmeddelelser\\\\2023-09 Storaktionrmeddelelse 20230525.pdf', 'C:\\\\omx_data\\\\Finanskalender\\\\15-2022 Finanskalender 2023 Djurslands Bank.pdf', 'C:\\\\omx_data\\\\Storaktionærmeddelelser\\\\09080718.pdf', 'C:\\\\omx_data\\\\Selskabsvedtægter\\\\Vedtgter 290422.pdf', 'C:\\\\omx_data\\\\Finanskalender\\\\2022-12 Finanskalender 2023.pdf', 'C:\\\\omx_data\\\\Intern viden\\\\Gubra announces termination of collaboration with Bayer.pdf', 'C:\\\\omx_data\\\\Årsrapport\\\\Arsrapport 2022_2023-da.pdf', 'C:\\\\omx_data\\\\Selskabsvedtægter\\\\Vedtgter 240423.pdf', 'C:\\\\omx_data\\\\Årsrapport\\\\Arsrapport 2023 Vrdipapirfonden BankInvest.pdf', 'C:\\\\omx_data\\\\Intern viden\\\\Company announcement no 9 2023 Sales June 2023.pdf', 'C:\\\\omx_data\\\\Indkaldelse til generalforsamling\\\\Hartmann notice - EGM 12 July 2023.pdf', 'C:\\\\omx_data\\\\Storaktionærmeddelelser\\\\Disclosure_Form_Royal_Unibrew_AS_Invesco Ltd.pdf', 'C:\\\\omx_data\\\\Indkaldelse til generalforsamling\\\\Indkaldelse til ordinr generalforsamling 2023 SKAKO.pdf', 'C:\\\\omx_data\\\\Storaktionærmeddelelser\\\\24_03072023_Major shareholder announcement.pdf', 'C:\\\\omx_data\\\\Storaktionærmeddelelser\\\\20230427 - ISS Announcement - Major Shareholder Announcement.pdf', 'C:\\\\omx_data\\\\Intern viden\\\\Selskabsmeddelelse 7 - 2023.pdf', 'C:\\\\omx_data\\\\Finanskalender\\\\Company calendar 2024 DA.pdf', 'C:\\\\omx_data\\\\Selskabsvedtægter\\\\2020 12 09 Vedtgter IF Wealth Invest.pdf', 'C:\\\\omx_data\\\\Selskabsvedtægter\\\\Articles of Association - February 28 2023 DK.pdf', 'C:\\\\omx_data\\\\Indkaldelse til generalforsamling\\\\20230331 Artha Optimum GF Indkaldelse.pdf', 'C:\\\\omx_data\\\\Forløb af generalforsamling\\\\03215810.pdf', 'C:\\\\omx_data\\\\Storaktionærmeddelelser\\\\Announcement 13 - Major shareholder notification.pdf', 'C:\\\\omx_data\\\\Finanskalender\\\\Selskabsmeddelelse 10 2022.pdf', 'C:\\\\omx_data\\\\Forløb af generalforsamling\\\\Ordinr generalforsamling 2023 NKT .pdf', 'C:\\\\omx_data\\\\Indkaldelse til generalforsamling\\\\Noble_0323.pdf', 'C:\\\\omx_data\\\\Årsrapport\\\\2022 Arsrapport IF ValueInvest Danmark.pdf', 'C:\\\\omx_data\\\\Indkaldelse til generalforsamling\\\\Fuldmagtsblanket - GF 2023 KF Penta.pdf', 'C:\\\\omx_data\\\\Selskabsvedtægter\\\\Articles of Association - November 16 2021 DK.pdf', 'C:\\\\omx_data\\\\Finanskalender\\\\Ress Life Investments AS - Company Announcement financial calendar 2022-2023.pdf', 'C:\\\\omx_data\\\\Intern viden\\\\22-2023 Forventninger 2023.pdf', 'C:\\\\omx_data\\\\Forløb af generalforsamling\\\\2023-13-da.pdf', 'C:\\\\omx_data\\\\Indkaldelse til generalforsamling\\\\5 Indkaldelse - generalforsamling 2023.pdf', 'C:\\\\omx_data\\\\Finanskalender\\\\Finanskalender for Vrdipapirfonden Sparindex_26_01_2023.pdf', 'C:\\\\omx_data\\\\Finanskalender\\\\FBM nr 19 2022 - Finanskalender.pdf', 'C:\\\\omx_data\\\\Forløb af generalforsamling\\\\Forlb af generalforsamling 2023.pdf', 'C:\\\\omx_data\\\\Selskabsvedtægter\\\\Articles of Association - October 7 2021 DK.pdf']\n"
     ]
    }
   ],
   "source": [
    "# Shuffle list of files to get a random subset óf embeddings\n",
    "random.seed(42)\n",
    "\n",
    "shuffled_list = random.sample(found_files, len(found_files))\n",
    "print(shuffled_list)"
   ]
  },
  {
   "cell_type": "markdown",
   "metadata": {},
   "source": [
    "### Process docs"
   ]
  },
  {
   "cell_type": "code",
   "execution_count": null,
   "metadata": {},
   "outputs": [],
   "source": [
    "# Set hyperparameters\n",
    "CHUNKSIZE = 1000 \n",
    "CHUNKOVERLAP = 100"
   ]
  },
  {
   "cell_type": "code",
   "execution_count": null,
   "metadata": {},
   "outputs": [],
   "source": [
    "def preprocessing(doc, use_meta=False):\n",
    "    if use_meta:\n",
    "        page_content, metadata = doc.page_content, doc.metadata\n",
    "\n",
    "        #some processing\n",
    "        page_content_processed = re.sub(r'\\s+', ' ', page_content.replace(\"\\\\n\", \" \"))\n",
    "\n",
    "        dict_data = {'metadata': metadata}\n",
    "        dict_data['metadata']['text'] = page_content_processed\n",
    "        \n",
    "        return dict_data\n",
    "    else:\n",
    "        doc = str(doc)    \n",
    "        #Remove whitespace\n",
    "        full_text = re.sub(r'\\s+', ' ', doc.replace(\"\\\\n\", \" \")) \n",
    "\n",
    "    return full_text"
   ]
  },
  {
   "cell_type": "code",
   "execution_count": null,
   "metadata": {},
   "outputs": [],
   "source": [
    "def langchain_loader_splitter(list_pdf_paths, chunk_size, overlap):\n",
    "\n",
    "    list_of_docs = []\n",
    "    for pdf_path in tqdm(list_pdf_paths):    \n",
    "        try:\n",
    "            # Use load_and_split() to split the document into sentences\n",
    "            loader = PyPDFLoader(pdf_path)\n",
    "            data = loader.load()\n",
    "            text_splitter = RecursiveCharacterTextSplitter(chunk_size=chunk_size, chunk_overlap=overlap)\n",
    "            # will create the chunks in \"documents\"\n",
    "            documents = text_splitter.split_documents(data)\n",
    "            #print(documents)\n",
    "            # One can have lists of shape [[..],[..], ..., [..]] for number of chunks created \n",
    "            documents = [preprocessing(doc, True) for doc in documents]  \n",
    "            # append to list of all documents\n",
    "            list_of_docs.append(documents)\n",
    "                \n",
    "        except Exception as e:\n",
    "            print(f\"Error loading {pdf_path}: {e}\")\n",
    "\n",
    "    # can have shape [ [..], [[..], [..]] ]. Need to unpack\n",
    "    list_of_docs_unpacked = list(itertools.chain(*list_of_docs))\n",
    "    return list_of_docs_unpacked\n",
    "\n",
    "\n",
    "# Write the list of strings to a file\n",
    "def write_dicts_to_pickle(dicts, pickle_file_path):\n",
    "    with open(pickle_file_path, 'wb') as f:\n",
    "        pickle.dump(dicts, f)\n",
    "\n",
    "\n",
    "# ONLY RUN IF THE dataload configuration says so\n",
    "if config['run_langchain']:\n",
    "    # First half\n",
    "    docs1 = langchain_loader_splitter(shuffled_list[:350], CHUNKSIZE, CHUNKOVERLAP)\n",
    "    write_dicts_to_pickle(docs1, \"data/finance/dicts1.pkl\")\n",
    "    print(f\"{len(docs1)} dicts have been written to 'dicts1.pkl'\")\n",
    "\n",
    "    # Second half\n",
    "    docs2 = langchain_loader_splitter(shuffled_list[350:], CHUNKSIZE, CHUNKOVERLAP)\n",
    "    write_dicts_to_pickle(docs2, \"data/finance/dicts2.pkl\")\n",
    "    print(f\"{len(docs2)} dicts have been written to 'dicts2.pkl'\")"
   ]
  },
  {
   "cell_type": "code",
   "execution_count": null,
   "metadata": {},
   "outputs": [
    {
     "name": "stdout",
     "output_type": "stream",
     "text": [
      "22480 dicts have been read from dicts1.pkl.\n",
      "26358 dicts have been read from dicts2.pkl.\n"
     ]
    }
   ],
   "source": [
    "# Read the data dicts\n",
    "with open('data/dicts1.pkl', 'rb') as file:\n",
    "    dicts1 = pickle.load(file)\n",
    "\n",
    "with open('data/dicts2.pkl', 'rb') as file:\n",
    "    dicts2 = pickle.load(file)\n",
    "\n",
    "\n",
    "print(f\"{len(dicts1)} dicts have been read from dicts1.pkl.\")\n",
    "print(f\"{len(dicts2)} dicts have been read from dicts2.pkl.\")\n",
    "\n",
    "# Concate all strings\n",
    "docs = dicts1 + dicts2"
   ]
  },
  {
   "cell_type": "markdown",
   "metadata": {},
   "source": [
    "## Move to Pinecone\n",
    "\n",
    "https://app.pinecone.io/organizations/-NxMHT03GCEQHVgGQcfo/projects/b8d42a36-6186-413b-9291-64d9b3e9f6a9/indexes\n",
    "\n",
    "https://docs.pinecone.io/guides/getting-started/quickstart\n",
    "\n",
    "\n",
    "Other approaches were considered. One was from: https://medium.com/@varsha.rainer/building-a-rag-application-from-scratch-using-langchain-openais-whisper-pinecone-6b2fbf22f77f\n",
    "- However, giving the vectors id's and saving intermediate results was made complicated\n",
    "- The code skeleton is outcommented below:"
   ]
  },
  {
   "cell_type": "code",
   "execution_count": null,
   "metadata": {},
   "outputs": [],
   "source": [
    "#from langchain_openai.embeddings import OpenAIEmbeddings\n",
    "\n",
    "\n",
    "#text_splitter = RecursiveCharacterTextSplitter(chunk_size=1000, chunk_overlap=20)\n",
    "#documents = text_splitter.split_documents(text_documents)\n",
    "\n",
    "#embeddings = OpenAIEmbeddings(api_key=os.environ.get(\"OPENAI_KEY\"))\n",
    "\n",
    "#pinecone = PineconeVectorStore.from_documents(\n",
    "#    documents, embeddings, index_name=index_name\n",
    "#)"
   ]
  },
  {
   "cell_type": "markdown",
   "metadata": {},
   "source": [
    "### Create pinecone index"
   ]
  },
  {
   "cell_type": "markdown",
   "metadata": {},
   "source": [
    "Create index"
   ]
  },
  {
   "cell_type": "code",
   "execution_count": null,
   "metadata": {},
   "outputs": [
    {
     "name": "stdout",
     "output_type": "stream",
     "text": [
      "Passing the creation of the pinecone index, since it already exists\n"
     ]
    }
   ],
   "source": [
    "pc = Pinecone(api_key=os.environ.get(\"PINECONE_KEY\"))\n",
    "\n",
    "INDEX_NAME = \"cas-index-new\"\n",
    "DIM_OF_VECTOR = 1536\n",
    "SIM_METRIC = 'cosine'\n",
    "\n",
    "\n",
    "def create_pinecone_index(bool):\n",
    "    if bool == True:\n",
    "        pc.create_index(\n",
    "            name=INDEX_NAME,\n",
    "            dimension=DIM_OF_VECTOR, \n",
    "            metric=SIM_METRIC, \n",
    "            spec=ServerlessSpec(\n",
    "                cloud=\"aws\",\n",
    "                region=\"eu-west-1\"\n",
    "            ) \n",
    "        )\n",
    "    else:   \n",
    "        print('Passing the creation of the pinecone index, since it already exists')\n",
    "        pass\n",
    "\n",
    "create_pinecone_index(False)"
   ]
  },
  {
   "cell_type": "markdown",
   "metadata": {},
   "source": [
    "### Upsert embeddings in the pinecone index"
   ]
  },
  {
   "cell_type": "code",
   "execution_count": null,
   "metadata": {},
   "outputs": [],
   "source": [
    "OPENAI_KEY = os.getenv(\"OPENAI_KEY\")\n",
    "client = OpenAI(api_key=OPENAI_KEY)\n",
    "\n",
    "MODEL = 'text-embedding-3-small' #\"text-embedding-ada-002\" \n"
   ]
  },
  {
   "cell_type": "code",
   "execution_count": null,
   "metadata": {},
   "outputs": [],
   "source": [
    "\n",
    "def process_text(dicto):\n",
    "        res = client.embeddings.create(input=[dicto['metadata']['text']], model=MODEL)\n",
    "        embedding = res.data[0].embedding\n",
    "\n",
    "        # insert the embedding in dictionary with key 'values'\n",
    "        dicto['values'] = embedding\n",
    "        return dicto\n",
    "\n",
    "\n",
    "# PARALLEL FUNCTION\n",
    "def create_embeddings_parallel(dicts):\n",
    "    embeddings_list = []\n",
    "\n",
    "    # Do parallel for-loop (improves performance more than x5)\n",
    "    with ThreadPoolExecutor() as executor:\n",
    "        futures = [executor.submit(process_text, dicto) for dicto in dicts]\n",
    "        for future in tqdm(futures, total=len(dicts)):\n",
    "            embeddings_list.append(future.result())\n",
    "\n",
    "    return embeddings_list #(Then here will be a list of dicts)\n",
    "\n",
    "\n",
    "# NON-PARALLEL FUNCTION\n",
    "def create_embeddings(texts):\n",
    "    embeddings_list = []\n",
    "    for text in tqdm(texts):\n",
    "        res = client.embeddings.create(input=[text], model=MODEL)\n",
    "        #print(f'Response from API: {res}')\n",
    "        embeddings_list.append((res.data[0].embedding, text))\n",
    "    return embeddings_list\n",
    "\n",
    "\n",
    "# define function for saving embeddings as pickle\n",
    "\n",
    "def get_interval_borders_from_name(interval_name):\n",
    "    start_n, end_n = interval_name.split('-')\n",
    "    start_n = int(start_n)\n",
    "    end_n = int(end_n)\n",
    "    return start_n, end_n\n",
    "\n",
    "def run_and_save_embedding_list(interval_name, docs):\n",
    "    # get interval\n",
    "    start_n, end_n = get_interval_borders_from_name(interval_name)\n",
    "    # run\n",
    "    embeddings_list = create_embeddings_parallel(docs[start_n : end_n])\n",
    "    # save\n",
    "    filename = f'new_embeddings_{interval_name}.pkl'\n",
    "    with open('data/finance/new_embeddings/' + filename, 'wb') as file:\n",
    "        pickle.dump(embeddings_list, file)\n",
    "\n",
    "\n",
    "\n"
   ]
  },
  {
   "cell_type": "code",
   "execution_count": null,
   "metadata": {},
   "outputs": [
    {
     "data": {
      "application/vnd.jupyter.widget-view+json": {
       "model_id": "3f3a3e6f5c1345c08217ba753438b1cd",
       "version_major": 2,
       "version_minor": 0
      },
      "text/plain": [
       "  0%|          | 0/5000 [00:00<?, ?it/s]"
      ]
     },
     "metadata": {},
     "output_type": "display_data"
    },
    {
     "data": {
      "application/vnd.jupyter.widget-view+json": {
       "model_id": "5be8af3abfb54097b391fbbc10e00383",
       "version_major": 2,
       "version_minor": 0
      },
      "text/plain": [
       "  0%|          | 0/5000 [00:00<?, ?it/s]"
      ]
     },
     "metadata": {},
     "output_type": "display_data"
    },
    {
     "data": {
      "application/vnd.jupyter.widget-view+json": {
       "model_id": "448eb92c22984b6cad81958feffc935f",
       "version_major": 2,
       "version_minor": 0
      },
      "text/plain": [
       "  0%|          | 0/5000 [00:00<?, ?it/s]"
      ]
     },
     "metadata": {},
     "output_type": "display_data"
    }
   ],
   "source": [
    "embedding_interval1 = '0-5000'\n",
    "embedding_interval2 = '5000-10000'\n",
    "embedding_interval3 = '10000-15000'\n",
    "\n",
    "\n",
    "if config['run_create_embeddings']:\n",
    "\n",
    "    run_and_save_embedding_list(embedding_interval1, docs)\n",
    "\n",
    "    run_and_save_embedding_list(embedding_interval2, docs)\n",
    "\n",
    "    run_and_save_embedding_list(embedding_interval3, docs)\n",
    "\n",
    "else:\n",
    "    print('Not running embeddings...')"
   ]
  },
  {
   "cell_type": "code",
   "execution_count": null,
   "metadata": {},
   "outputs": [],
   "source": [
    "# open embeddings\n",
    "\n",
    "# Open the file in read-binary mode and use pickle to load the data\n",
    "with open('data/finance/new_embeddings/' + f'new_embeddings_{embedding_interval1}.pkl', 'rb') as file:\n",
    "    embeddings1 = pickle.load(file)\n",
    "\n",
    "with open('data/finance/new_embeddings/' + f'new_embeddings_{embedding_interval2}.pkl', 'rb') as file:\n",
    "    embeddings2 = pickle.load(file)\n",
    "\n",
    "with open('data/finance/new_embeddings/' + f'new_embeddings_{embedding_interval3}.pkl', 'rb') as file:\n",
    "    embeddings3 = pickle.load(file)\n",
    "\n",
    "embeddings_list = embeddings1 + embeddings2 + embeddings3"
   ]
  },
  {
   "cell_type": "markdown",
   "metadata": {},
   "source": [
    "### Upsert in Pinecone"
   ]
  },
  {
   "cell_type": "code",
   "execution_count": null,
   "metadata": {},
   "outputs": [],
   "source": [
    "# Retrieve key\n",
    "PINECONE_KEY = os.getenv(\"PINECONE_KEY\")\n",
    "pc = Pinecone(api_key=PINECONE_KEY)\n",
    "\n",
    "#INDEX_NAME = \"index-cas-onboarding\"\n",
    "DIM_OF_VECTOR = len(embeddings_list[0]) #1536\n",
    "SIM_METRIC = 'cosine'\n",
    "\n",
    "index = pc.Index(INDEX_NAME)"
   ]
  },
  {
   "cell_type": "code",
   "execution_count": 38,
   "metadata": {},
   "outputs": [],
   "source": [
    "def upsert_embeddings_to_pinecone(index, embeddings_list, bool_add):\n",
    "\n",
    "    # Will first create ids according to if we want to overwrite or add to pinecone database\n",
    "    \n",
    "    if bool_add:    # will start id at last id value in database\n",
    "        nr_embeddings_exists = index.describe_index_stats()['total_vector_count']\n",
    "        ids = [str(x) for x in range(nr_embeddings_exists, len(embeddings_list) + 1 + nr_embeddings_exists)]\n",
    "        for id, dicto in tqdm(zip(ids, embeddings_list)):\n",
    "            dicto.update({'id': id})\n",
    "        #embeddings_list_w_ids = [(dicto |= {'id': id}) for id, dicto in tqdm(zip(ids, embeddings_list))]\n",
    "        #print(embeddings_list)\n",
    "        \n",
    "    else:           # will start id from 0 (and overwrite)\n",
    "        ids = [str(x) for x in range(len(embeddings_list) + 1)]\n",
    "        for id, dicto in tqdm(zip(ids, embeddings_list)):\n",
    "            dicto.update({'id': id})\n",
    "        #print(embeddings_list)\n",
    "    \n",
    "    # Pinecone can only handle 2MB at a time. \n",
    "        # We divide into batches\n",
    "    batch_size = 253 \n",
    "    lower_b = 0\n",
    "    upper_b = batch_size\n",
    "    while lower_b < len(embeddings_list):\n",
    "\n",
    "        # send batch size of embeddings to database\n",
    "        index.upsert(vectors=[dicto  for dicto in tqdm(embeddings_list[lower_b:upper_b])])   # ADDED THE TEXT\n",
    "\n",
    "        # increase lower and upper\n",
    "        lower_b += batch_size\n",
    "        upper_b += batch_size\n"
   ]
  },
  {
   "cell_type": "code",
   "execution_count": 39,
   "metadata": {},
   "outputs": [
    {
     "data": {
      "application/vnd.jupyter.widget-view+json": {
       "model_id": "5c86e4db1f6f47ada1887434c6b3b812",
       "version_major": 2,
       "version_minor": 0
      },
      "text/plain": [
       "0it [00:00, ?it/s]"
      ]
     },
     "metadata": {},
     "output_type": "display_data"
    },
    {
     "data": {
      "application/vnd.jupyter.widget-view+json": {
       "model_id": "ac622c7b50d24cedb953bc75651a5876",
       "version_major": 2,
       "version_minor": 0
      },
      "text/plain": [
       "  0%|          | 0/253 [00:00<?, ?it/s]"
      ]
     },
     "metadata": {},
     "output_type": "display_data"
    },
    {
     "data": {
      "application/vnd.jupyter.widget-view+json": {
       "model_id": "9734dca0269e4c128e12ab83e131495a",
       "version_major": 2,
       "version_minor": 0
      },
      "text/plain": [
       "  0%|          | 0/253 [00:00<?, ?it/s]"
      ]
     },
     "metadata": {},
     "output_type": "display_data"
    },
    {
     "data": {
      "application/vnd.jupyter.widget-view+json": {
       "model_id": "a423d4791c33470586b0c569b3723a56",
       "version_major": 2,
       "version_minor": 0
      },
      "text/plain": [
       "  0%|          | 0/253 [00:00<?, ?it/s]"
      ]
     },
     "metadata": {},
     "output_type": "display_data"
    },
    {
     "data": {
      "application/vnd.jupyter.widget-view+json": {
       "model_id": "6f385d24e91d435db63b71c2891bb0e5",
       "version_major": 2,
       "version_minor": 0
      },
      "text/plain": [
       "  0%|          | 0/253 [00:00<?, ?it/s]"
      ]
     },
     "metadata": {},
     "output_type": "display_data"
    },
    {
     "data": {
      "application/vnd.jupyter.widget-view+json": {
       "model_id": "569d125c0421434d83dc540bcae101ea",
       "version_major": 2,
       "version_minor": 0
      },
      "text/plain": [
       "  0%|          | 0/253 [00:00<?, ?it/s]"
      ]
     },
     "metadata": {},
     "output_type": "display_data"
    },
    {
     "data": {
      "application/vnd.jupyter.widget-view+json": {
       "model_id": "230498d3504240e0b31d527bf82e540b",
       "version_major": 2,
       "version_minor": 0
      },
      "text/plain": [
       "  0%|          | 0/253 [00:00<?, ?it/s]"
      ]
     },
     "metadata": {},
     "output_type": "display_data"
    },
    {
     "data": {
      "application/vnd.jupyter.widget-view+json": {
       "model_id": "123ef861797b486fae90fe231a33ca32",
       "version_major": 2,
       "version_minor": 0
      },
      "text/plain": [
       "  0%|          | 0/253 [00:00<?, ?it/s]"
      ]
     },
     "metadata": {},
     "output_type": "display_data"
    },
    {
     "data": {
      "application/vnd.jupyter.widget-view+json": {
       "model_id": "e8c330a16edb4425a6c0a28a98bf9483",
       "version_major": 2,
       "version_minor": 0
      },
      "text/plain": [
       "  0%|          | 0/253 [00:00<?, ?it/s]"
      ]
     },
     "metadata": {},
     "output_type": "display_data"
    },
    {
     "data": {
      "application/vnd.jupyter.widget-view+json": {
       "model_id": "efa1e9b3203c446ba3a9cc4668572098",
       "version_major": 2,
       "version_minor": 0
      },
      "text/plain": [
       "  0%|          | 0/253 [00:00<?, ?it/s]"
      ]
     },
     "metadata": {},
     "output_type": "display_data"
    },
    {
     "data": {
      "application/vnd.jupyter.widget-view+json": {
       "model_id": "58c1b198ac044d119a71ea0b516d8c9c",
       "version_major": 2,
       "version_minor": 0
      },
      "text/plain": [
       "  0%|          | 0/253 [00:00<?, ?it/s]"
      ]
     },
     "metadata": {},
     "output_type": "display_data"
    },
    {
     "data": {
      "application/vnd.jupyter.widget-view+json": {
       "model_id": "7d6bb07a8a8d458eb5c2b3e1c97b939d",
       "version_major": 2,
       "version_minor": 0
      },
      "text/plain": [
       "  0%|          | 0/253 [00:00<?, ?it/s]"
      ]
     },
     "metadata": {},
     "output_type": "display_data"
    },
    {
     "data": {
      "application/vnd.jupyter.widget-view+json": {
       "model_id": "f18d356a8bf7435d9611375e467cd2f4",
       "version_major": 2,
       "version_minor": 0
      },
      "text/plain": [
       "  0%|          | 0/253 [00:00<?, ?it/s]"
      ]
     },
     "metadata": {},
     "output_type": "display_data"
    },
    {
     "data": {
      "application/vnd.jupyter.widget-view+json": {
       "model_id": "f94e8f282af84865927eb400127ae3a3",
       "version_major": 2,
       "version_minor": 0
      },
      "text/plain": [
       "  0%|          | 0/253 [00:00<?, ?it/s]"
      ]
     },
     "metadata": {},
     "output_type": "display_data"
    },
    {
     "data": {
      "application/vnd.jupyter.widget-view+json": {
       "model_id": "d016f1bde0fa4567877320dffd3699fc",
       "version_major": 2,
       "version_minor": 0
      },
      "text/plain": [
       "  0%|          | 0/253 [00:00<?, ?it/s]"
      ]
     },
     "metadata": {},
     "output_type": "display_data"
    },
    {
     "data": {
      "application/vnd.jupyter.widget-view+json": {
       "model_id": "56a03d73f07549c39f27a48ecaee5dd6",
       "version_major": 2,
       "version_minor": 0
      },
      "text/plain": [
       "  0%|          | 0/253 [00:00<?, ?it/s]"
      ]
     },
     "metadata": {},
     "output_type": "display_data"
    },
    {
     "data": {
      "application/vnd.jupyter.widget-view+json": {
       "model_id": "a490c2449c894f75a57206ad5e1e210d",
       "version_major": 2,
       "version_minor": 0
      },
      "text/plain": [
       "  0%|          | 0/253 [00:00<?, ?it/s]"
      ]
     },
     "metadata": {},
     "output_type": "display_data"
    },
    {
     "data": {
      "application/vnd.jupyter.widget-view+json": {
       "model_id": "85dfc03c1e9d4214a735fb8cd582f9c2",
       "version_major": 2,
       "version_minor": 0
      },
      "text/plain": [
       "  0%|          | 0/253 [00:00<?, ?it/s]"
      ]
     },
     "metadata": {},
     "output_type": "display_data"
    },
    {
     "data": {
      "application/vnd.jupyter.widget-view+json": {
       "model_id": "4e5fdb0bbe624b57ac072c53c8b29331",
       "version_major": 2,
       "version_minor": 0
      },
      "text/plain": [
       "  0%|          | 0/253 [00:00<?, ?it/s]"
      ]
     },
     "metadata": {},
     "output_type": "display_data"
    },
    {
     "data": {
      "application/vnd.jupyter.widget-view+json": {
       "model_id": "6d06f5a7eba8426caa9da98a36e5d3f2",
       "version_major": 2,
       "version_minor": 0
      },
      "text/plain": [
       "  0%|          | 0/253 [00:00<?, ?it/s]"
      ]
     },
     "metadata": {},
     "output_type": "display_data"
    },
    {
     "data": {
      "application/vnd.jupyter.widget-view+json": {
       "model_id": "9b1d3e6ac90c4d8bb9acc087cb907f10",
       "version_major": 2,
       "version_minor": 0
      },
      "text/plain": [
       "  0%|          | 0/253 [00:00<?, ?it/s]"
      ]
     },
     "metadata": {},
     "output_type": "display_data"
    },
    {
     "data": {
      "application/vnd.jupyter.widget-view+json": {
       "model_id": "1f6aa0cc8756404fbfa119335642360c",
       "version_major": 2,
       "version_minor": 0
      },
      "text/plain": [
       "  0%|          | 0/253 [00:00<?, ?it/s]"
      ]
     },
     "metadata": {},
     "output_type": "display_data"
    },
    {
     "data": {
      "application/vnd.jupyter.widget-view+json": {
       "model_id": "27cfb4a90bc94cf5859156835ba98938",
       "version_major": 2,
       "version_minor": 0
      },
      "text/plain": [
       "  0%|          | 0/253 [00:00<?, ?it/s]"
      ]
     },
     "metadata": {},
     "output_type": "display_data"
    },
    {
     "data": {
      "application/vnd.jupyter.widget-view+json": {
       "model_id": "2a3208e16c974f6bb988cecbf5aa1580",
       "version_major": 2,
       "version_minor": 0
      },
      "text/plain": [
       "  0%|          | 0/253 [00:00<?, ?it/s]"
      ]
     },
     "metadata": {},
     "output_type": "display_data"
    },
    {
     "data": {
      "application/vnd.jupyter.widget-view+json": {
       "model_id": "f6bca302b47c483b951ddb6291941f22",
       "version_major": 2,
       "version_minor": 0
      },
      "text/plain": [
       "  0%|          | 0/253 [00:00<?, ?it/s]"
      ]
     },
     "metadata": {},
     "output_type": "display_data"
    },
    {
     "data": {
      "application/vnd.jupyter.widget-view+json": {
       "model_id": "041447da16e149228261012491ea7058",
       "version_major": 2,
       "version_minor": 0
      },
      "text/plain": [
       "  0%|          | 0/253 [00:00<?, ?it/s]"
      ]
     },
     "metadata": {},
     "output_type": "display_data"
    },
    {
     "data": {
      "application/vnd.jupyter.widget-view+json": {
       "model_id": "627c696a7cd44891b01b5101237184db",
       "version_major": 2,
       "version_minor": 0
      },
      "text/plain": [
       "  0%|          | 0/253 [00:00<?, ?it/s]"
      ]
     },
     "metadata": {},
     "output_type": "display_data"
    },
    {
     "data": {
      "application/vnd.jupyter.widget-view+json": {
       "model_id": "ca551be6a408415a8ea7ce9e2d0b98d7",
       "version_major": 2,
       "version_minor": 0
      },
      "text/plain": [
       "  0%|          | 0/253 [00:00<?, ?it/s]"
      ]
     },
     "metadata": {},
     "output_type": "display_data"
    },
    {
     "data": {
      "application/vnd.jupyter.widget-view+json": {
       "model_id": "d97b839670c04df29dc88b9864beb324",
       "version_major": 2,
       "version_minor": 0
      },
      "text/plain": [
       "  0%|          | 0/253 [00:00<?, ?it/s]"
      ]
     },
     "metadata": {},
     "output_type": "display_data"
    },
    {
     "data": {
      "application/vnd.jupyter.widget-view+json": {
       "model_id": "2f39f4919272466f9fef564d5eddb14f",
       "version_major": 2,
       "version_minor": 0
      },
      "text/plain": [
       "  0%|          | 0/253 [00:00<?, ?it/s]"
      ]
     },
     "metadata": {},
     "output_type": "display_data"
    },
    {
     "data": {
      "application/vnd.jupyter.widget-view+json": {
       "model_id": "cb2b3a629eda4432a74017f3c33df624",
       "version_major": 2,
       "version_minor": 0
      },
      "text/plain": [
       "  0%|          | 0/253 [00:00<?, ?it/s]"
      ]
     },
     "metadata": {},
     "output_type": "display_data"
    },
    {
     "data": {
      "application/vnd.jupyter.widget-view+json": {
       "model_id": "8754a6b2f3024ef5ad8bf39a9825f292",
       "version_major": 2,
       "version_minor": 0
      },
      "text/plain": [
       "  0%|          | 0/253 [00:00<?, ?it/s]"
      ]
     },
     "metadata": {},
     "output_type": "display_data"
    },
    {
     "data": {
      "application/vnd.jupyter.widget-view+json": {
       "model_id": "17f0fbb7777a42ecba5c6bc895e4a100",
       "version_major": 2,
       "version_minor": 0
      },
      "text/plain": [
       "  0%|          | 0/253 [00:00<?, ?it/s]"
      ]
     },
     "metadata": {},
     "output_type": "display_data"
    },
    {
     "data": {
      "application/vnd.jupyter.widget-view+json": {
       "model_id": "e5328235437347709e1f796c005f39c5",
       "version_major": 2,
       "version_minor": 0
      },
      "text/plain": [
       "  0%|          | 0/253 [00:00<?, ?it/s]"
      ]
     },
     "metadata": {},
     "output_type": "display_data"
    },
    {
     "data": {
      "application/vnd.jupyter.widget-view+json": {
       "model_id": "10cb796791b941a29124d5ea0cac2fba",
       "version_major": 2,
       "version_minor": 0
      },
      "text/plain": [
       "  0%|          | 0/253 [00:00<?, ?it/s]"
      ]
     },
     "metadata": {},
     "output_type": "display_data"
    },
    {
     "data": {
      "application/vnd.jupyter.widget-view+json": {
       "model_id": "768602dc16634faf814e236a383a9409",
       "version_major": 2,
       "version_minor": 0
      },
      "text/plain": [
       "  0%|          | 0/253 [00:00<?, ?it/s]"
      ]
     },
     "metadata": {},
     "output_type": "display_data"
    },
    {
     "data": {
      "application/vnd.jupyter.widget-view+json": {
       "model_id": "c3d021d37e6e4ba796a35963c625e668",
       "version_major": 2,
       "version_minor": 0
      },
      "text/plain": [
       "  0%|          | 0/253 [00:00<?, ?it/s]"
      ]
     },
     "metadata": {},
     "output_type": "display_data"
    },
    {
     "data": {
      "application/vnd.jupyter.widget-view+json": {
       "model_id": "714b68d9a3e34fa494b9c8740578dc23",
       "version_major": 2,
       "version_minor": 0
      },
      "text/plain": [
       "  0%|          | 0/253 [00:00<?, ?it/s]"
      ]
     },
     "metadata": {},
     "output_type": "display_data"
    },
    {
     "data": {
      "application/vnd.jupyter.widget-view+json": {
       "model_id": "82f6b68227974177bbfe9821c1d042d1",
       "version_major": 2,
       "version_minor": 0
      },
      "text/plain": [
       "  0%|          | 0/253 [00:00<?, ?it/s]"
      ]
     },
     "metadata": {},
     "output_type": "display_data"
    },
    {
     "data": {
      "application/vnd.jupyter.widget-view+json": {
       "model_id": "60894a06b5f64431a1c521fcf2850495",
       "version_major": 2,
       "version_minor": 0
      },
      "text/plain": [
       "  0%|          | 0/253 [00:00<?, ?it/s]"
      ]
     },
     "metadata": {},
     "output_type": "display_data"
    },
    {
     "data": {
      "application/vnd.jupyter.widget-view+json": {
       "model_id": "2bad50fad2f540be84a5bdcb098e2b46",
       "version_major": 2,
       "version_minor": 0
      },
      "text/plain": [
       "  0%|          | 0/253 [00:00<?, ?it/s]"
      ]
     },
     "metadata": {},
     "output_type": "display_data"
    },
    {
     "data": {
      "application/vnd.jupyter.widget-view+json": {
       "model_id": "9d16a4ca234946d9b6df167c1a9530af",
       "version_major": 2,
       "version_minor": 0
      },
      "text/plain": [
       "  0%|          | 0/253 [00:00<?, ?it/s]"
      ]
     },
     "metadata": {},
     "output_type": "display_data"
    },
    {
     "data": {
      "application/vnd.jupyter.widget-view+json": {
       "model_id": "d7733317a630454aa95788a559a74ccf",
       "version_major": 2,
       "version_minor": 0
      },
      "text/plain": [
       "  0%|          | 0/253 [00:00<?, ?it/s]"
      ]
     },
     "metadata": {},
     "output_type": "display_data"
    },
    {
     "data": {
      "application/vnd.jupyter.widget-view+json": {
       "model_id": "4b68e7f8dc86448995a95d0f145590d5",
       "version_major": 2,
       "version_minor": 0
      },
      "text/plain": [
       "  0%|          | 0/253 [00:00<?, ?it/s]"
      ]
     },
     "metadata": {},
     "output_type": "display_data"
    },
    {
     "data": {
      "application/vnd.jupyter.widget-view+json": {
       "model_id": "6dacc0dec7244bd9a18f812c8773c78b",
       "version_major": 2,
       "version_minor": 0
      },
      "text/plain": [
       "  0%|          | 0/253 [00:00<?, ?it/s]"
      ]
     },
     "metadata": {},
     "output_type": "display_data"
    },
    {
     "data": {
      "application/vnd.jupyter.widget-view+json": {
       "model_id": "23a88621c0c949fb887027d348a48e72",
       "version_major": 2,
       "version_minor": 0
      },
      "text/plain": [
       "  0%|          | 0/253 [00:00<?, ?it/s]"
      ]
     },
     "metadata": {},
     "output_type": "display_data"
    },
    {
     "data": {
      "application/vnd.jupyter.widget-view+json": {
       "model_id": "7878e15a5fbc42c9bab98337c2d3416c",
       "version_major": 2,
       "version_minor": 0
      },
      "text/plain": [
       "  0%|          | 0/253 [00:00<?, ?it/s]"
      ]
     },
     "metadata": {},
     "output_type": "display_data"
    },
    {
     "data": {
      "application/vnd.jupyter.widget-view+json": {
       "model_id": "1b654e083245412fbf924bb5123dfa9d",
       "version_major": 2,
       "version_minor": 0
      },
      "text/plain": [
       "  0%|          | 0/253 [00:00<?, ?it/s]"
      ]
     },
     "metadata": {},
     "output_type": "display_data"
    },
    {
     "data": {
      "application/vnd.jupyter.widget-view+json": {
       "model_id": "d8ad6c4b71e44ecb9dcb93764bab53cf",
       "version_major": 2,
       "version_minor": 0
      },
      "text/plain": [
       "  0%|          | 0/253 [00:00<?, ?it/s]"
      ]
     },
     "metadata": {},
     "output_type": "display_data"
    },
    {
     "data": {
      "application/vnd.jupyter.widget-view+json": {
       "model_id": "b00b0441dc7944df83812002db44aeed",
       "version_major": 2,
       "version_minor": 0
      },
      "text/plain": [
       "  0%|          | 0/253 [00:00<?, ?it/s]"
      ]
     },
     "metadata": {},
     "output_type": "display_data"
    },
    {
     "data": {
      "application/vnd.jupyter.widget-view+json": {
       "model_id": "3d4e2c47a0df4235ad559ffc45d1edbe",
       "version_major": 2,
       "version_minor": 0
      },
      "text/plain": [
       "  0%|          | 0/253 [00:00<?, ?it/s]"
      ]
     },
     "metadata": {},
     "output_type": "display_data"
    },
    {
     "data": {
      "application/vnd.jupyter.widget-view+json": {
       "model_id": "3d8738219fe0415cbd067ba1de097541",
       "version_major": 2,
       "version_minor": 0
      },
      "text/plain": [
       "  0%|          | 0/253 [00:00<?, ?it/s]"
      ]
     },
     "metadata": {},
     "output_type": "display_data"
    },
    {
     "data": {
      "application/vnd.jupyter.widget-view+json": {
       "model_id": "1ebec04868d74f6e95b0462ad8ec4856",
       "version_major": 2,
       "version_minor": 0
      },
      "text/plain": [
       "  0%|          | 0/253 [00:00<?, ?it/s]"
      ]
     },
     "metadata": {},
     "output_type": "display_data"
    },
    {
     "data": {
      "application/vnd.jupyter.widget-view+json": {
       "model_id": "ee241a38c458436d9496fd967a9a1e4c",
       "version_major": 2,
       "version_minor": 0
      },
      "text/plain": [
       "  0%|          | 0/253 [00:00<?, ?it/s]"
      ]
     },
     "metadata": {},
     "output_type": "display_data"
    },
    {
     "data": {
      "application/vnd.jupyter.widget-view+json": {
       "model_id": "aae0a35791294ad4924fc191c7caf22b",
       "version_major": 2,
       "version_minor": 0
      },
      "text/plain": [
       "  0%|          | 0/253 [00:00<?, ?it/s]"
      ]
     },
     "metadata": {},
     "output_type": "display_data"
    },
    {
     "data": {
      "application/vnd.jupyter.widget-view+json": {
       "model_id": "6b7abcb592b547fe98ddce3137ccaf5e",
       "version_major": 2,
       "version_minor": 0
      },
      "text/plain": [
       "  0%|          | 0/253 [00:00<?, ?it/s]"
      ]
     },
     "metadata": {},
     "output_type": "display_data"
    },
    {
     "data": {
      "application/vnd.jupyter.widget-view+json": {
       "model_id": "a9f772687d5c4a26921b823a8985d97d",
       "version_major": 2,
       "version_minor": 0
      },
      "text/plain": [
       "  0%|          | 0/253 [00:00<?, ?it/s]"
      ]
     },
     "metadata": {},
     "output_type": "display_data"
    },
    {
     "data": {
      "application/vnd.jupyter.widget-view+json": {
       "model_id": "b81c2584d7d54a598c047caf7596724b",
       "version_major": 2,
       "version_minor": 0
      },
      "text/plain": [
       "  0%|          | 0/253 [00:00<?, ?it/s]"
      ]
     },
     "metadata": {},
     "output_type": "display_data"
    },
    {
     "data": {
      "application/vnd.jupyter.widget-view+json": {
       "model_id": "b27f81c8ab5a4762a5261223dcf3ce86",
       "version_major": 2,
       "version_minor": 0
      },
      "text/plain": [
       "  0%|          | 0/253 [00:00<?, ?it/s]"
      ]
     },
     "metadata": {},
     "output_type": "display_data"
    },
    {
     "data": {
      "application/vnd.jupyter.widget-view+json": {
       "model_id": "ca79433318da49d69832b0e07ab49a52",
       "version_major": 2,
       "version_minor": 0
      },
      "text/plain": [
       "  0%|          | 0/253 [00:00<?, ?it/s]"
      ]
     },
     "metadata": {},
     "output_type": "display_data"
    },
    {
     "data": {
      "application/vnd.jupyter.widget-view+json": {
       "model_id": "d831c0d859c944e382562a860344990d",
       "version_major": 2,
       "version_minor": 0
      },
      "text/plain": [
       "  0%|          | 0/73 [00:00<?, ?it/s]"
      ]
     },
     "metadata": {},
     "output_type": "display_data"
    }
   ],
   "source": [
    "if config['run_upsert_embeddings']:\n",
    "    upsert_embeddings_to_pinecone(index, embeddings_list, bool_add=False)\n",
    "else:\n",
    "    print('Will not upsert embeddings.')"
   ]
  },
  {
   "cell_type": "code",
   "execution_count": null,
   "metadata": {},
   "outputs": [],
   "source": []
  }
 ],
 "metadata": {
  "kernelspec": {
   "display_name": "env_rag",
   "language": "python",
   "name": "python3"
  },
  "language_info": {
   "codemirror_mode": {
    "name": "ipython",
    "version": 3
   },
   "file_extension": ".py",
   "mimetype": "text/x-python",
   "name": "python",
   "nbconvert_exporter": "python",
   "pygments_lexer": "ipython3",
   "version": "3.10.9"
  }
 },
 "nbformat": 4,
 "nbformat_minor": 2
}
