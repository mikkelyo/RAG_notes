{
 "cells": [
  {
   "cell_type": "markdown",
   "metadata": {},
   "source": [
    "Installation of packages"
   ]
  },
  {
   "cell_type": "markdown",
   "metadata": {},
   "source": [
    "Import of packages"
   ]
  },
  {
   "cell_type": "code",
   "execution_count": 1,
   "metadata": {},
   "outputs": [],
   "source": [
    "from tqdm.notebook import tqdm\n",
    "from langchain_community.document_loaders import PyPDFLoader\n",
    "from langchain.text_splitter import RecursiveCharacterTextSplitter\n",
    "import os\n",
    "from openai import OpenAI\n",
    "from pinecone import Pinecone, ServerlessSpec\n",
    "from dotenv import load_dotenv\n",
    "import itertools\n",
    "import re\n",
    "from concurrent.futures import ThreadPoolExecutor\n",
    "import yaml\n",
    "import pickle\n",
    "import random\n",
    "import numpy as np\n",
    "import time\n",
    "\n",
    "# for synthetic testset\n",
    "from ragas.testset.generator import TestsetGenerator\n",
    "from ragas.testset.evolutions import simple, reasoning, multi_context\n",
    "from langchain_openai import ChatOpenAI, OpenAIEmbeddings\n",
    "\n",
    "OPENAI_KEY = os.getenv(\"OPENAI_KEY\")\n",
    "os.environ[\"OPENAI_API_KEY\"] = OPENAI_KEY"
   ]
  },
  {
   "cell_type": "markdown",
   "metadata": {},
   "source": [
    "Reading yaml configuration"
   ]
  },
  {
   "cell_type": "code",
   "execution_count": 14,
   "metadata": {},
   "outputs": [],
   "source": [
    "# Read YAML configuration\n",
    "def read_config(filename):\n",
    "    with open(filename, 'r') as file:\n",
    "        config = yaml.safe_load(file)\n",
    "    return config\n",
    "\n",
    "config = read_config(\"config.yaml\")"
   ]
  },
  {
   "cell_type": "code",
   "execution_count": 15,
   "metadata": {},
   "outputs": [
    {
     "name": "stdout",
     "output_type": "stream",
     "text": [
      "Number of pdf's found: 82\n"
     ]
    }
   ],
   "source": [
    "def search_pdf_files(directory):\n",
    "    # List to store found files\n",
    "    found_files = []\n",
    "\n",
    "    # Walk through the directory and its subdirectories\n",
    "    for root, _, files in os.walk(directory):\n",
    "        for file in files:\n",
    "            if file.endswith(\".pdf\"):\n",
    "                file_path = os.path.join(root, file)\n",
    "                # save path to list\n",
    "                found_files.append(file_path)\n",
    "\n",
    "    return found_files\n",
    "\n",
    "def count_files_in_folders(directory):\n",
    "    # Iterate over each directory in the given directory\n",
    "    for foldername in os.listdir(directory):\n",
    "        folder_path = os.path.join(directory, foldername)\n",
    "        # Check if the current item is a directory\n",
    "        if os.path.isdir(folder_path):\n",
    "            # Count the number of files in the directory\n",
    "            num_files = len([filename for filename in os.listdir(folder_path) if os.path.isfile(os.path.join(folder_path, filename))])\n",
    "            print(f\"Folder '{foldername}' contains {num_files} file(s).\")\n",
    "\n",
    "# Specify the directory path\n",
    "directory_path = r\"c:\\BUPL/pdffiles/\" \n",
    "\n",
    "# Search for PDF files containing a keyword\n",
    "found_files = search_pdf_files(directory_path)\n",
    "\n",
    "print(f'Number of pdf\\'s found: {len(found_files)}')\n",
    "\n",
    "\n",
    "count_files_in_folders(directory_path)"
   ]
  },
  {
   "cell_type": "code",
   "execution_count": 16,
   "metadata": {},
   "outputs": [
    {
     "name": "stdout",
     "output_type": "stream",
     "text": [
      "['c:\\\\BUPL/pdffiles/05.86 O.13 Rammeaftale om medindflydelse og medbestemmelse - med underskrifter.pdf', 'c:\\\\BUPL/pdffiles/21-0287-232-med-h-ndbog-til-nettet-rltn-teknisk-opdateret-28-11-2022.pdf', 'c:\\\\BUPL/pdffiles/22-0195-28-med-h-ndbog-2021-som-webfil-endelig.pdf', 'c:\\\\BUPL/pdffiles/Aftale om arbejdstidsregler for pædagogisk personale.pdf', 'c:\\\\BUPL/pdffiles/Aftale om fravær af familiemæssige årsager pr. 1. april 2021.pdf', 'c:\\\\BUPL/pdffiles/Aftale om TR, samarbejde og samarbejdsudvalg.pdf', 'c:\\\\BUPL/pdffiles/AMR_folder.indd.pdf', 'c:\\\\BUPL/pdffiles/April 2021 Introduktion til valg af TR på en privat arbejdsplads.pdf', 'c:\\\\BUPL/pdffiles/Arbejdsmiljørepræsentantens opgaver_BUPL.pdf', 'c:\\\\BUPL/pdffiles/Barsel _ BUPL.pdf', 'c:\\\\BUPL/pdffiles/Beskyttelse af tillidsrepræsentanten _ BUPL.pdf', 'c:\\\\BUPL/pdffiles/Bilag til Eksempler og tekster, Tjekliste til MED og TR på skoleniveau.pdf', 'c:\\\\BUPL/pdffiles/Bliv arbejdsmiljørepræsentant (AMR) _ BUPL.pdf', 'c:\\\\BUPL/pdffiles/BUPL saa mange gode grunde.pdf', 'c:\\\\BUPL/pdffiles/BUPL Samarbejdsportal _ BUPL.pdf', 'c:\\\\BUPL/pdffiles/Det daglige arbejdsmiljø _ BUPL.pdf', 'c:\\\\BUPL/pdffiles/Det_Daglige_Arbejdsmiljoe_22.pdf', 'c:\\\\BUPL/pdffiles/DialogPaaArbejdspladsen_Acc-Fobu-LDD-DLO-FDDB.pdf', 'c:\\\\BUPL/pdffiles/DialogPaaArbejdspladsen_DI-DA-FH.pdf', 'c:\\\\BUPL/pdffiles/DialogPaaArbejdspladsen_FrieGrundskoler.pdf', 'c:\\\\BUPL/pdffiles/Eksempelsamling oktober 2021.pdf', 'c:\\\\BUPL/pdffiles/Fagbevaegelsen bupl og akassen historisk overblik.pdf', 'c:\\\\BUPL/pdffiles/filer-protokollat_lokale_medaftaler-2214.pdf', 'c:\\\\BUPL/pdffiles/Forhandlinger om skolepædagogers arbejdstid og opgaver _ BUPL.pdf', 'c:\\\\BUPL/pdffiles/GDPR i TR-arbejdet _ BUPL.pdf', 'c:\\\\BUPL/pdffiles/Grundlaget for at blive en god TR.pdf', 'c:\\\\BUPL/pdffiles/guide-naar-arbejdstilsynet-kommer-paa-besoeg.pdf', 'c:\\\\BUPL/pdffiles/Huskeliste ved ansættelse _ BUPL.pdf', 'c:\\\\BUPL/pdffiles/Hvem er medlem_ _ BUPL.pdf', 'c:\\\\BUPL/pdffiles/hvem-er-medlem-paa-min-arbejdsplads.pdf', 'c:\\\\BUPL/pdffiles/Hvorfor skal jeg blive medlemA5.pdf', 'c:\\\\BUPL/pdffiles/Hvorfor_skal_kollegaen_vaere_medlem.pdf', 'c:\\\\BUPL/pdffiles/Hyldepapir_A3.pdf', 'c:\\\\BUPL/pdffiles/Ideer til rekruttering og medlemskab.pdf', 'c:\\\\BUPL/pdffiles/Konflikthåndtering for tillidsrepræsentanter _ BUPL.pdf', 'c:\\\\BUPL/pdffiles/Kontingent _ BUPL.pdf', 'c:\\\\BUPL/pdffiles/KTO vejledning om lokale TR aftaler.pdf', 'c:\\\\BUPL/pdffiles/Lokale TR-aftaler _ BUPL - udvidet faner.pdf', 'c:\\\\BUPL/pdffiles/Medindflydelse _ BUPL.pdf', 'c:\\\\BUPL/pdffiles/med_haandbog_kl.pdf', 'c:\\\\BUPL/pdffiles/Naar kollegaen er medlem af gul fagforening.pdf', 'c:\\\\BUPL/pdffiles/Nedsat kontingent.pdf', 'c:\\\\BUPL/pdffiles/Notat om Arbejdstid for skolepædagogerne - nye muligheder for indflydelse på planlægningen.pdf', 'c:\\\\BUPL/pdffiles/Ofte stillede spørgsmål til BUPL Samarbejdsportal _ BUPL.pdf', 'c:\\\\BUPL/pdffiles/Organisering af arbejdsmiljøområdet i den lokale MED aftale.pdf', 'c:\\\\BUPL/pdffiles/Overenskomst for.pdf', 'c:\\\\BUPL/pdffiles/Overenskomst-for-paedagoger_0.pdf', 'c:\\\\BUPL/pdffiles/Personalepolitisk drøftelse _ BUPL.pdf', 'c:\\\\BUPL/pdffiles/Pjece Lokale lønaftaler.pdf', 'c:\\\\BUPL/pdffiles/rammeaftale-om-medindflydelse-og-medbestemmelse.pdf', 'c:\\\\BUPL/pdffiles/Repræsentant for fagforeningen _ BUPL.pdf', 'c:\\\\BUPL/pdffiles/Ro og orden i arbejdsforholdene _ BUPL.pdf', 'c:\\\\BUPL/pdffiles/Rådgivning om overenskomst _ BUPL.pdf', 'c:\\\\BUPL/pdffiles/Saadan ordner du det praktiske.pdf', 'c:\\\\BUPL/pdffiles/Samarbejdet med tillids- og arbejdsmiljørepræsentanten _ BUPL.pdf', 'c:\\\\BUPL/pdffiles/Sammen er vi staerkere i BUPL_KOMU.pdf', 'c:\\\\BUPL/pdffiles/Sammenligning mellem indflydelsesreglerne skolepædagoger og DLF.pdf', 'c:\\\\BUPL/pdffiles/Send din kollega godt videre.pdf', 'c:\\\\BUPL/pdffiles/skolepaedagoger-ok21-60.11-aftale-om-arbejdstidsregler-for-paedagogisk-personale-ved-daginstitutioner_-klubber_-skolefritidsordninger-mv-25.pdf', 'c:\\\\BUPL/pdffiles/skolepaedagoger-soeg-indflydelse-med-planlaegningsbilag-21.pdf', 'c:\\\\BUPL/pdffiles/Slå ring om ressourcerne _ BUPL.pdf', 'c:\\\\BUPL/pdffiles/Spoergssmaal og svar om BUPL.pdf', 'c:\\\\BUPL/pdffiles/Studerende i loennet praktik.pdf', 'c:\\\\BUPL/pdffiles/Sygdom _ BUPL.pdf', 'c:\\\\BUPL/pdffiles/Tid til hvervet som tillidsrepræsentant _ BUPL.pdf', 'c:\\\\BUPL/pdffiles/Tillidsrepræsentanten skal sikre organisering _ BUPL.pdf', 'c:\\\\BUPL/pdffiles/Tillidsrepræsentanten som talsmand _ BUPL.pdf', 'c:\\\\BUPL/pdffiles/Tillidsrepræsentantens kompetence _ BUPL.pdf', 'c:\\\\BUPL/pdffiles/Tillidsrepræsentantens løn for hvervet _ BUPL.pdf', 'c:\\\\BUPL/pdffiles/Tillidsrepræsentantens materialer til organisering og relationsstyrkende indsats på arbejdspladsen _ BUPL.pdf', 'c:\\\\BUPL/pdffiles/Tillidsrepræsentantens opgaver _ BUPL.pdf', 'c:\\\\BUPL/pdffiles/Tillidsrepræsentantens vilkår _ BUPL.pdf', 'c:\\\\BUPL/pdffiles/Tjenstlige_samtaler_Juni23 privatområdet.pdf', 'c:\\\\BUPL/pdffiles/TR andet moede med den nye kollega.pdf', 'c:\\\\BUPL/pdffiles/TR og AMR på private overenskomster _ BUPL.pdf', 'c:\\\\BUPL/pdffiles/tr-guide-slaa-ring-om-ressourcerne.pdf', 'c:\\\\BUPL/pdffiles/tr-mappen-trs_foerste_moede_med_nyansat_privat-42.pdf', 'c:\\\\BUPL/pdffiles/TRs_foerste_Moede_med_nyansat.pdf', 'c:\\\\BUPL/pdffiles/Tvister _ BUPL.pdf', 'c:\\\\BUPL/pdffiles/Uddannelse af tillidsrepræsentanter _ BUPL.pdf', 'c:\\\\BUPL/pdffiles/Valg af tillidsrepræsentant _ BUPL.pdf', 'c:\\\\BUPL/pdffiles/Vejledning i valg af TR på private overenskomster.pdf']\n"
     ]
    }
   ],
   "source": [
    "print(found_files) # Finanskalender --- Forløb af generalforsamling --- Indkaldelse til generalforsamling --- Intern viden --- Selskabsvægter --- , Storaktionærmeddelser --- Årsrapport"
   ]
  },
  {
   "cell_type": "code",
   "execution_count": 17,
   "metadata": {},
   "outputs": [
    {
     "name": "stdout",
     "output_type": "stream",
     "text": [
      "['c:\\\\BUPL/pdffiles/Vejledning i valg af TR på private overenskomster.pdf', 'c:\\\\BUPL/pdffiles/BUPL Samarbejdsportal _ BUPL.pdf', 'c:\\\\BUPL/pdffiles/Aftale om arbejdstidsregler for pædagogisk personale.pdf', 'c:\\\\BUPL/pdffiles/Kontingent _ BUPL.pdf', 'c:\\\\BUPL/pdffiles/Hvorfor_skal_kollegaen_vaere_medlem.pdf', 'c:\\\\BUPL/pdffiles/Hvem er medlem_ _ BUPL.pdf', 'c:\\\\BUPL/pdffiles/DialogPaaArbejdspladsen_Acc-Fobu-LDD-DLO-FDDB.pdf', 'c:\\\\BUPL/pdffiles/BUPL saa mange gode grunde.pdf', 'c:\\\\BUPL/pdffiles/Tillidsrepræsentantens materialer til organisering og relationsstyrkende indsats på arbejdspladsen _ BUPL.pdf', 'c:\\\\BUPL/pdffiles/Bilag til Eksempler og tekster, Tjekliste til MED og TR på skoleniveau.pdf', 'c:\\\\BUPL/pdffiles/Samarbejdet med tillids- og arbejdsmiljørepræsentanten _ BUPL.pdf', 'c:\\\\BUPL/pdffiles/Aftale om fravær af familiemæssige årsager pr. 1. april 2021.pdf', 'c:\\\\BUPL/pdffiles/Uddannelse af tillidsrepræsentanter _ BUPL.pdf', 'c:\\\\BUPL/pdffiles/Tjenstlige_samtaler_Juni23 privatområdet.pdf', 'c:\\\\BUPL/pdffiles/Huskeliste ved ansættelse _ BUPL.pdf', 'c:\\\\BUPL/pdffiles/hvem-er-medlem-paa-min-arbejdsplads.pdf', 'c:\\\\BUPL/pdffiles/Tid til hvervet som tillidsrepræsentant _ BUPL.pdf', 'c:\\\\BUPL/pdffiles/TR andet moede med den nye kollega.pdf', 'c:\\\\BUPL/pdffiles/Grundlaget for at blive en god TR.pdf', 'c:\\\\BUPL/pdffiles/Overenskomst for.pdf', 'c:\\\\BUPL/pdffiles/Nedsat kontingent.pdf', 'c:\\\\BUPL/pdffiles/Organisering af arbejdsmiljøområdet i den lokale MED aftale.pdf', 'c:\\\\BUPL/pdffiles/Konflikthåndtering for tillidsrepræsentanter _ BUPL.pdf', 'c:\\\\BUPL/pdffiles/guide-naar-arbejdstilsynet-kommer-paa-besoeg.pdf', 'c:\\\\BUPL/pdffiles/Valg af tillidsrepræsentant _ BUPL.pdf', 'c:\\\\BUPL/pdffiles/tr-mappen-trs_foerste_moede_med_nyansat_privat-42.pdf', 'c:\\\\BUPL/pdffiles/Lokale TR-aftaler _ BUPL - udvidet faner.pdf', 'c:\\\\BUPL/pdffiles/tr-guide-slaa-ring-om-ressourcerne.pdf', 'c:\\\\BUPL/pdffiles/Ro og orden i arbejdsforholdene _ BUPL.pdf', 'c:\\\\BUPL/pdffiles/05.86 O.13 Rammeaftale om medindflydelse og medbestemmelse - med underskrifter.pdf', 'c:\\\\BUPL/pdffiles/Pjece Lokale lønaftaler.pdf', 'c:\\\\BUPL/pdffiles/Beskyttelse af tillidsrepræsentanten _ BUPL.pdf', 'c:\\\\BUPL/pdffiles/Slå ring om ressourcerne _ BUPL.pdf', 'c:\\\\BUPL/pdffiles/Tillidsrepræsentantens kompetence _ BUPL.pdf', 'c:\\\\BUPL/pdffiles/Fagbevaegelsen bupl og akassen historisk overblik.pdf', 'c:\\\\BUPL/pdffiles/Tillidsrepræsentantens vilkår _ BUPL.pdf', 'c:\\\\BUPL/pdffiles/Barsel _ BUPL.pdf', 'c:\\\\BUPL/pdffiles/TR og AMR på private overenskomster _ BUPL.pdf', 'c:\\\\BUPL/pdffiles/Personalepolitisk drøftelse _ BUPL.pdf', 'c:\\\\BUPL/pdffiles/AMR_folder.indd.pdf', 'c:\\\\BUPL/pdffiles/Aftale om TR, samarbejde og samarbejdsudvalg.pdf', 'c:\\\\BUPL/pdffiles/GDPR i TR-arbejdet _ BUPL.pdf', 'c:\\\\BUPL/pdffiles/Notat om Arbejdstid for skolepædagogerne - nye muligheder for indflydelse på planlægningen.pdf', 'c:\\\\BUPL/pdffiles/filer-protokollat_lokale_medaftaler-2214.pdf', 'c:\\\\BUPL/pdffiles/Medindflydelse _ BUPL.pdf', 'c:\\\\BUPL/pdffiles/Det_Daglige_Arbejdsmiljoe_22.pdf', 'c:\\\\BUPL/pdffiles/22-0195-28-med-h-ndbog-2021-som-webfil-endelig.pdf', 'c:\\\\BUPL/pdffiles/Tillidsrepræsentanten som talsmand _ BUPL.pdf', 'c:\\\\BUPL/pdffiles/April 2021 Introduktion til valg af TR på en privat arbejdsplads.pdf', 'c:\\\\BUPL/pdffiles/Naar kollegaen er medlem af gul fagforening.pdf', 'c:\\\\BUPL/pdffiles/Spoergssmaal og svar om BUPL.pdf', 'c:\\\\BUPL/pdffiles/Overenskomst-for-paedagoger_0.pdf', 'c:\\\\BUPL/pdffiles/Studerende i loennet praktik.pdf', 'c:\\\\BUPL/pdffiles/skolepaedagoger-ok21-60.11-aftale-om-arbejdstidsregler-for-paedagogisk-personale-ved-daginstitutioner_-klubber_-skolefritidsordninger-mv-25.pdf', 'c:\\\\BUPL/pdffiles/Eksempelsamling oktober 2021.pdf', 'c:\\\\BUPL/pdffiles/DialogPaaArbejdspladsen_FrieGrundskoler.pdf', 'c:\\\\BUPL/pdffiles/Tillidsrepræsentantens løn for hvervet _ BUPL.pdf', 'c:\\\\BUPL/pdffiles/DialogPaaArbejdspladsen_DI-DA-FH.pdf', 'c:\\\\BUPL/pdffiles/med_haandbog_kl.pdf', 'c:\\\\BUPL/pdffiles/Sammen er vi staerkere i BUPL_KOMU.pdf', 'c:\\\\BUPL/pdffiles/Tvister _ BUPL.pdf', 'c:\\\\BUPL/pdffiles/21-0287-232-med-h-ndbog-til-nettet-rltn-teknisk-opdateret-28-11-2022.pdf', 'c:\\\\BUPL/pdffiles/Ideer til rekruttering og medlemskab.pdf', 'c:\\\\BUPL/pdffiles/skolepaedagoger-soeg-indflydelse-med-planlaegningsbilag-21.pdf', 'c:\\\\BUPL/pdffiles/Ofte stillede spørgsmål til BUPL Samarbejdsportal _ BUPL.pdf', 'c:\\\\BUPL/pdffiles/Sammenligning mellem indflydelsesreglerne skolepædagoger og DLF.pdf', 'c:\\\\BUPL/pdffiles/Tillidsrepræsentanten skal sikre organisering _ BUPL.pdf', 'c:\\\\BUPL/pdffiles/Forhandlinger om skolepædagogers arbejdstid og opgaver _ BUPL.pdf', 'c:\\\\BUPL/pdffiles/Tillidsrepræsentantens opgaver _ BUPL.pdf', 'c:\\\\BUPL/pdffiles/KTO vejledning om lokale TR aftaler.pdf', 'c:\\\\BUPL/pdffiles/Repræsentant for fagforeningen _ BUPL.pdf', 'c:\\\\BUPL/pdffiles/TRs_foerste_Moede_med_nyansat.pdf', 'c:\\\\BUPL/pdffiles/Hvorfor skal jeg blive medlemA5.pdf', 'c:\\\\BUPL/pdffiles/Sygdom _ BUPL.pdf', 'c:\\\\BUPL/pdffiles/Arbejdsmiljørepræsentantens opgaver_BUPL.pdf', 'c:\\\\BUPL/pdffiles/Saadan ordner du det praktiske.pdf', 'c:\\\\BUPL/pdffiles/Bliv arbejdsmiljørepræsentant (AMR) _ BUPL.pdf', 'c:\\\\BUPL/pdffiles/Hyldepapir_A3.pdf', 'c:\\\\BUPL/pdffiles/Rådgivning om overenskomst _ BUPL.pdf', 'c:\\\\BUPL/pdffiles/rammeaftale-om-medindflydelse-og-medbestemmelse.pdf', 'c:\\\\BUPL/pdffiles/Det daglige arbejdsmiljø _ BUPL.pdf', 'c:\\\\BUPL/pdffiles/Send din kollega godt videre.pdf']\n"
     ]
    }
   ],
   "source": [
    "# Shuffle list of files to get a random subset óf embeddings\n",
    "random.seed(42)\n",
    "\n",
    "shuffled_list = random.sample(found_files, len(found_files))\n",
    "print(shuffled_list)"
   ]
  },
  {
   "cell_type": "markdown",
   "metadata": {},
   "source": [
    "### Process docs"
   ]
  },
  {
   "cell_type": "code",
   "execution_count": 18,
   "metadata": {},
   "outputs": [],
   "source": [
    "# Set hyperparameters\n",
    "CHUNKSIZE = 1000 \n",
    "CHUNKOVERLAP = 100"
   ]
  },
  {
   "cell_type": "code",
   "execution_count": 19,
   "metadata": {},
   "outputs": [],
   "source": [
    "def preprocessing(doc, use_meta=False):\n",
    "    if use_meta:\n",
    "        page_content, metadata = doc.page_content, doc.metadata\n",
    "\n",
    "        #some processing\n",
    "        page_content_processed = re.sub(r'\\s+', ' ', page_content.replace(\"\\\\n\", \" \"))\n",
    "\n",
    "\n",
    "        # one could do the following instead>\n",
    "        # doc.page_content = page_content_processed\n",
    "        # return doc\n",
    "        dict_data = {'metadata': metadata}\n",
    "        dict_data['metadata']['text'] = page_content_processed\n",
    "        \n",
    "        return dict_data\n",
    "    else:\n",
    "        doc = str(doc)    \n",
    "        #Remove whitespace\n",
    "        full_text = re.sub(r'\\s+', ' ', doc.replace(\"\\\\n\", \" \")) \n",
    "\n",
    "    return full_text"
   ]
  },
  {
   "cell_type": "code",
   "execution_count": 20,
   "metadata": {},
   "outputs": [
    {
     "data": {
      "application/vnd.jupyter.widget-view+json": {
       "model_id": "3b20307ae76e4e0e836bec32f5cd0b56",
       "version_major": 2,
       "version_minor": 0
      },
      "text/plain": [
       "  0%|          | 0/50 [00:00<?, ?it/s]"
      ]
     },
     "metadata": {},
     "output_type": "display_data"
    },
    {
     "name": "stdout",
     "output_type": "stream",
     "text": [
      "1279 dicts have been written to 'dicts1.pkl'\n"
     ]
    },
    {
     "data": {
      "application/vnd.jupyter.widget-view+json": {
       "model_id": "4ad528723be348ae840b62544c7d4994",
       "version_major": 2,
       "version_minor": 0
      },
      "text/plain": [
       "  0%|          | 0/32 [00:00<?, ?it/s]"
      ]
     },
     "metadata": {},
     "output_type": "display_data"
    },
    {
     "name": "stdout",
     "output_type": "stream",
     "text": [
      "1322 dicts have been written to 'dicts2.pkl'\n"
     ]
    }
   ],
   "source": [
    "def langchain_loader_splitter(list_pdf_paths, chunk_size, overlap):\n",
    "\n",
    "    list_of_docs_non_processed = []     # used for synthetic dataset\n",
    "    list_of_docs_processed = []\n",
    "    for pdf_path in tqdm(list_pdf_paths):    \n",
    "        try:\n",
    "            # Use load_and_split() to split the document into sentences\n",
    "            loader = PyPDFLoader(pdf_path)\n",
    "            data = loader.load()\n",
    "            text_splitter = RecursiveCharacterTextSplitter(chunk_size=chunk_size, chunk_overlap=overlap)\n",
    "            # will create the chunks in \"documents\"\n",
    "            documents = text_splitter.split_documents(data)\n",
    "            list_of_docs_non_processed.append(documents)\n",
    "            # One can have lists of shape [[..],[..], ..., [..]] for number of chunks created \n",
    "            documents = [preprocessing(doc, True) for doc in documents]  \n",
    "            list_of_docs_processed.append(documents)\n",
    "                \n",
    "        except Exception as e:\n",
    "            print(f\"Error loading {pdf_path}: {e}\")\n",
    "\n",
    "    # can have shape [ [..], [[..], [..]] ]. Need to unpack\n",
    "    list_of_docs__non_processed_unpacked = list(itertools.chain(*list_of_docs_non_processed))\n",
    "    list_of_docs_processed_unpacked = list(itertools.chain(*list_of_docs_processed))\n",
    "\n",
    "    return list_of_docs_processed_unpacked, list_of_docs__non_processed_unpacked\n",
    "\n",
    "\n",
    "# Write the list of strings to a file\n",
    "def write_dicts_to_pickle(dicts, pickle_file_path):\n",
    "    with open(pickle_file_path, 'wb') as f:\n",
    "        pickle.dump(dicts, f)\n",
    "\n",
    "\n",
    "# ONLY RUN IF THE dataload configuration says so\n",
    "if config['run_langchain']:\n",
    "    # First half\n",
    "    docs1, pure_docs1 = langchain_loader_splitter(shuffled_list[:50], CHUNKSIZE, CHUNKOVERLAP)\n",
    "    write_dicts_to_pickle(docs1, \"data/BUPL/dicts1.pkl\")\n",
    "    print(f\"{len(docs1)} dicts have been written to 'dicts1.pkl'\")\n",
    "\n",
    "    # Second half\n",
    "    docs2, pure_docs2 = langchain_loader_splitter(shuffled_list[50:], CHUNKSIZE, CHUNKOVERLAP)\n",
    "    write_dicts_to_pickle(docs2, \"data/BUPL/dicts2.pkl\")\n",
    "    print(f\"{len(docs2)} dicts have been written to 'dicts2.pkl'\")"
   ]
  },
  {
   "cell_type": "code",
   "execution_count": 31,
   "metadata": {},
   "outputs": [
    {
     "data": {
      "application/vnd.jupyter.widget-view+json": {
       "model_id": "247ea245141b4979a5d7ab68ca8314f2",
       "version_major": 2,
       "version_minor": 0
      },
      "text/plain": [
       "embedding nodes:   0%|          | 0/2600 [00:00<?, ?it/s]"
      ]
     },
     "metadata": {},
     "output_type": "display_data"
    }
   ],
   "source": [
    "if config['run_create_synthetic_testset']:\n",
    "    # generator with openai models\n",
    "    documents = pure_docs1 + pure_docs2\n",
    "\n",
    "    # cannot change chunk_overlap!\n",
    "\n",
    "    generator_llm = ChatOpenAI(model=\"gpt-3.5-turbo-16k\")\n",
    "    critic_llm = ChatOpenAI(model=\"gpt-3.5-turbo-16k\")\n",
    "    embeddings = OpenAIEmbeddings(model='text-embedding-3-small')\n",
    "\n",
    "    generator = TestsetGenerator.from_langchain(\n",
    "        generator_llm,\n",
    "        critic_llm,\n",
    "        embeddings\n",
    "    )\n",
    "\n",
    "    # generate testset in splits\n",
    "    testset = generator.generate_with_langchain_docs(documents[:1300], test_size=20, distributions={simple: 0.5, reasoning: 0.25, multi_context: 0.25})\n",
    "    df_synthetic_testset = testset.to_pandas()\n",
    "    # save synthetic data \n",
    "    df_synthetic_testset.to_csv('data/BUPL/synthetic_testset/synthetic_data1.csv', index=False)\n",
    "\n",
    "    time.sleep(60)\n",
    "\n",
    "    testset = generator.generate_with_langchain_docs(documents[1300:], test_size=20, distributions={simple: 0.5, reasoning: 0.25, multi_context: 0.25})\n",
    "    df_synthetic_testset = testset.to_pandas()\n",
    "    # save synthetic data \n",
    "    df_synthetic_testset.to_csv('data/BUPL/synthetic_testset/synthetic_data2.csv', index=False)"
   ]
  },
  {
   "cell_type": "code",
   "execution_count": 27,
   "metadata": {},
   "outputs": [
    {
     "name": "stdout",
     "output_type": "stream",
     "text": [
      "1279 dicts have been read from dicts1.pkl.\n",
      "1322 dicts have been read from dicts2.pkl.\n"
     ]
    }
   ],
   "source": [
    "# Read the data dicts\n",
    "with open('data/BUPL/dicts1.pkl', 'rb') as file:\n",
    "    dicts1 = pickle.load(file)\n",
    "\n",
    "with open('data/BUPL/dicts2.pkl', 'rb') as file:\n",
    "    dicts2 = pickle.load(file)\n",
    "\n",
    "\n",
    "print(f\"{len(dicts1)} dicts have been read from dicts1.pkl.\")\n",
    "print(f\"{len(dicts2)} dicts have been read from dicts2.pkl.\")\n",
    "\n",
    "# Concate all strings\n",
    "docs = dicts1 + dicts2"
   ]
  },
  {
   "cell_type": "markdown",
   "metadata": {},
   "source": [
    "## Move to Pinecone\n",
    "\n",
    "https://app.pinecone.io/organizations/-NxMHT03GCEQHVgGQcfo/projects/b8d42a36-6186-413b-9291-64d9b3e9f6a9/indexes\n",
    "\n",
    "https://docs.pinecone.io/guides/getting-started/quickstart\n",
    "\n",
    "\n",
    "Other approaches were considered. One was from: https://medium.com/@varsha.rainer/building-a-rag-application-from-scratch-using-langchain-openais-whisper-pinecone-6b2fbf22f77f\n",
    "- However, giving the vectors id's and saving intermediate results was made complicated\n",
    "- The code skeleton is outcommented below:"
   ]
  },
  {
   "cell_type": "code",
   "execution_count": null,
   "metadata": {},
   "outputs": [],
   "source": [
    "#from langchain_openai.embeddings import OpenAIEmbeddings\n",
    "\n",
    "\n",
    "\n",
    "#text_splitter = RecursiveCharacterTextSplitter(chunk_size=1000, chunk_overlap=100)\n",
    "#documents = text_splitter.split_documents(text_documents)\n",
    "\n",
    "#embeddings = OpenAIEmbeddings(api_key=os.environ.get(\"OPENAI_KEY\"))\n",
    "\n",
    "#pinecone = PineconeVectorStore.from_documents(\n",
    "#    documents, embeddings, index_name=index_name\n",
    "#)"
   ]
  },
  {
   "cell_type": "markdown",
   "metadata": {},
   "source": [
    "### Create pinecone index"
   ]
  },
  {
   "cell_type": "markdown",
   "metadata": {},
   "source": [
    "Create index"
   ]
  },
  {
   "cell_type": "code",
   "execution_count": 2,
   "metadata": {},
   "outputs": [
    {
     "name": "stdout",
     "output_type": "stream",
     "text": [
      "Passing the creation of the pinecone index, since it already exists\n"
     ]
    }
   ],
   "source": [
    "pc = Pinecone(api_key=os.environ.get(\"PINECONE_KEY\"))\n",
    "\n",
    "INDEX_NAME = \"bupl-index\"\n",
    "DIM_OF_VECTOR = 1536\n",
    "SIM_METRIC = 'cosine'\n",
    "\n",
    "\n",
    "def create_pinecone_index(bool):\n",
    "    if bool == True:\n",
    "        pc.create_index(\n",
    "            name=INDEX_NAME,\n",
    "            dimension=DIM_OF_VECTOR, \n",
    "            metric=SIM_METRIC, \n",
    "            spec=ServerlessSpec(\n",
    "                cloud=\"aws\",\n",
    "                region=\"eu-west-1\"\n",
    "            ) \n",
    "        )\n",
    "    else:   \n",
    "        print('Passing the creation of the pinecone index, since it already exists')\n",
    "        pass\n",
    "\n",
    "create_pinecone_index(False)"
   ]
  },
  {
   "cell_type": "markdown",
   "metadata": {},
   "source": [
    "### Upsert embeddings in the pinecone index"
   ]
  },
  {
   "cell_type": "code",
   "execution_count": 32,
   "metadata": {},
   "outputs": [],
   "source": [
    "OPENAI_KEY = os.getenv(\"OPENAI_KEY\")\n",
    "client = OpenAI(api_key=OPENAI_KEY)\n",
    "\n",
    "MODEL = 'text-embedding-3-small' #\"text-embedding-ada-002\" \n"
   ]
  },
  {
   "cell_type": "code",
   "execution_count": 36,
   "metadata": {},
   "outputs": [],
   "source": [
    "\n",
    "def process_text(dicto):\n",
    "        res = client.embeddings.create(input=[dicto['metadata']['text']], model=MODEL)\n",
    "        embedding = res.data[0].embedding\n",
    "\n",
    "        # insert the embedding in dictionary with key 'values'\n",
    "        dicto['values'] = embedding\n",
    "        return dicto\n",
    "\n",
    "\n",
    "# PARALLEL FUNCTION\n",
    "def create_embeddings_parallel(dicts):\n",
    "    embeddings_list = []\n",
    "\n",
    "    # Do parallel for-loop (improves performance more than x5)\n",
    "    with ThreadPoolExecutor() as executor:\n",
    "        futures = [executor.submit(process_text, dicto) for dicto in dicts]\n",
    "        for future in tqdm(futures, total=len(dicts)):\n",
    "            embeddings_list.append(future.result())\n",
    "\n",
    "    return embeddings_list #(Then here will be a list of dicts)\n",
    "\n",
    "\n",
    "# define function for saving embeddings as pickle\n",
    "\n",
    "def get_interval_borders_from_name(interval_name):\n",
    "    start_n, end_n = interval_name.split('-')\n",
    "    start_n = int(start_n)\n",
    "    end_n = int(end_n)\n",
    "    return start_n, end_n\n",
    "\n",
    "def run_and_save_embedding_list(interval_name, docs):\n",
    "    # get interval\n",
    "    start_n, end_n = get_interval_borders_from_name(interval_name)\n",
    "    # run\n",
    "    embeddings_list = create_embeddings_parallel(docs[start_n : end_n])\n",
    "    # save\n",
    "    filename = f'new_embeddings_{interval_name}.pkl'\n",
    "    with open('data/BUPL/new_embeddings/' + filename, 'wb') as file:\n",
    "        pickle.dump(embeddings_list, file)\n",
    "\n",
    "\n",
    "\n"
   ]
  },
  {
   "cell_type": "code",
   "execution_count": 37,
   "metadata": {},
   "outputs": [
    {
     "data": {
      "application/vnd.jupyter.widget-view+json": {
       "model_id": "bdb621cf908446df83810f801dd28323",
       "version_major": 2,
       "version_minor": 0
      },
      "text/plain": [
       "  0%|          | 0/2601 [00:00<?, ?it/s]"
      ]
     },
     "metadata": {},
     "output_type": "display_data"
    }
   ],
   "source": [
    "embedding_interval1 = '0-5000'\n",
    "#embedding_interval2 = '5000-10000'\n",
    "#embedding_interval3 = '10000-15000'\n",
    "\n",
    "\n",
    "if config['run_create_embeddings']:\n",
    "\n",
    "    run_and_save_embedding_list(embedding_interval1, docs)\n",
    "\n",
    "    #run_and_save_embedding_list(embedding_interval2, docs)\n",
    "\n",
    "    #run_and_save_embedding_list(embedding_interval3, docs)\n",
    "\n",
    "else:\n",
    "    print('Not running embeddings...')"
   ]
  },
  {
   "cell_type": "code",
   "execution_count": 38,
   "metadata": {},
   "outputs": [],
   "source": [
    "# open embeddings\n",
    "\n",
    "# Open the file in read-binary mode and use pickle to load the data\n",
    "with open('data/BUPL/new_embeddings/' + f'new_embeddings_{embedding_interval1}.pkl', 'rb') as file:\n",
    "    embeddings1 = pickle.load(file)\n",
    "\n",
    "#with open('data/BUPL/new_embeddings/' + f'new_embeddings_{embedding_interval2}.pkl', 'rb') as file:\n",
    "#    embeddings2 = pickle.load(file)\n",
    "\n",
    "#with open('data/BUPL/new_embeddings/' + f'new_embeddings_{embedding_interval3}.pkl', 'rb') as file:\n",
    "#    embeddings3 = pickle.load(file)\n",
    "\n",
    "embeddings_list = embeddings1 #+ embeddings2 + embeddings3"
   ]
  },
  {
   "cell_type": "markdown",
   "metadata": {},
   "source": [
    "### Upsert in Pinecone"
   ]
  },
  {
   "cell_type": "code",
   "execution_count": 39,
   "metadata": {},
   "outputs": [],
   "source": [
    "# Retrieve key\n",
    "PINECONE_KEY = os.getenv(\"PINECONE_KEY\")\n",
    "pc = Pinecone(api_key=PINECONE_KEY)\n",
    "\n",
    "DIM_OF_VECTOR = len(embeddings_list[0]) #1536\n",
    "SIM_METRIC = 'cosine'\n",
    "\n",
    "index = pc.Index(INDEX_NAME)"
   ]
  },
  {
   "cell_type": "code",
   "execution_count": 40,
   "metadata": {},
   "outputs": [],
   "source": [
    "def upsert_embeddings_to_pinecone(index, embeddings_list, bool_add):\n",
    "\n",
    "    # Will first create ids according to if we want to overwrite or add to pinecone database\n",
    "    \n",
    "    if bool_add:    # will start id at last id value in database\n",
    "        nr_embeddings_exists = index.describe_index_stats()['total_vector_count']\n",
    "        ids = [str(x) for x in range(nr_embeddings_exists, len(embeddings_list) + 1 + nr_embeddings_exists)]\n",
    "        for id, dicto in tqdm(zip(ids, embeddings_list)):\n",
    "            dicto.update({'id': id})\n",
    "        #embeddings_list_w_ids = [(dicto |= {'id': id}) for id, dicto in tqdm(zip(ids, embeddings_list))]\n",
    "        #print(embeddings_list)\n",
    "        \n",
    "    else:           # will start id from 0 (and overwrite)\n",
    "        ids = [str(x) for x in range(len(embeddings_list) + 1)]\n",
    "        for id, dicto in tqdm(zip(ids, embeddings_list)):\n",
    "            dicto.update({'id': id})\n",
    "        #print(embeddings_list)\n",
    "    \n",
    "    # Pinecone can only handle 2MB at a time. \n",
    "        # We divide into batches\n",
    "    batch_size = 253 \n",
    "    lower_b = 0\n",
    "    upper_b = batch_size\n",
    "    while lower_b < len(embeddings_list):\n",
    "\n",
    "        # send batch size of embeddings to database\n",
    "        index.upsert(vectors=[dicto  for dicto in tqdm(embeddings_list[lower_b:upper_b])])   # ADDED THE TEXT\n",
    "\n",
    "        # increase lower and upper\n",
    "        lower_b += batch_size\n",
    "        upper_b += batch_size\n"
   ]
  },
  {
   "cell_type": "code",
   "execution_count": 41,
   "metadata": {},
   "outputs": [
    {
     "data": {
      "application/vnd.jupyter.widget-view+json": {
       "model_id": "ee93320f06424a3b8beed47ed0c631dc",
       "version_major": 2,
       "version_minor": 0
      },
      "text/plain": [
       "0it [00:00, ?it/s]"
      ]
     },
     "metadata": {},
     "output_type": "display_data"
    },
    {
     "data": {
      "application/vnd.jupyter.widget-view+json": {
       "model_id": "5f88889595d54d9d8be59e356f08eefa",
       "version_major": 2,
       "version_minor": 0
      },
      "text/plain": [
       "  0%|          | 0/253 [00:00<?, ?it/s]"
      ]
     },
     "metadata": {},
     "output_type": "display_data"
    },
    {
     "data": {
      "application/vnd.jupyter.widget-view+json": {
       "model_id": "1c025727dc2f483fb0b72ee6b5a1993c",
       "version_major": 2,
       "version_minor": 0
      },
      "text/plain": [
       "  0%|          | 0/253 [00:00<?, ?it/s]"
      ]
     },
     "metadata": {},
     "output_type": "display_data"
    },
    {
     "data": {
      "application/vnd.jupyter.widget-view+json": {
       "model_id": "1629da0ed4c145a6b2ae53add8960907",
       "version_major": 2,
       "version_minor": 0
      },
      "text/plain": [
       "  0%|          | 0/253 [00:00<?, ?it/s]"
      ]
     },
     "metadata": {},
     "output_type": "display_data"
    },
    {
     "data": {
      "application/vnd.jupyter.widget-view+json": {
       "model_id": "75b4de853e3c405b9065c80e4d083f3f",
       "version_major": 2,
       "version_minor": 0
      },
      "text/plain": [
       "  0%|          | 0/253 [00:00<?, ?it/s]"
      ]
     },
     "metadata": {},
     "output_type": "display_data"
    },
    {
     "data": {
      "application/vnd.jupyter.widget-view+json": {
       "model_id": "9d7282bcd92f4c7cb53474d3972d01bd",
       "version_major": 2,
       "version_minor": 0
      },
      "text/plain": [
       "  0%|          | 0/253 [00:00<?, ?it/s]"
      ]
     },
     "metadata": {},
     "output_type": "display_data"
    },
    {
     "data": {
      "application/vnd.jupyter.widget-view+json": {
       "model_id": "00750e99f80f41a58d0b50f7d657b006",
       "version_major": 2,
       "version_minor": 0
      },
      "text/plain": [
       "  0%|          | 0/253 [00:00<?, ?it/s]"
      ]
     },
     "metadata": {},
     "output_type": "display_data"
    },
    {
     "data": {
      "application/vnd.jupyter.widget-view+json": {
       "model_id": "6506a50826ba4cd78a3c4923a6a2e8b0",
       "version_major": 2,
       "version_minor": 0
      },
      "text/plain": [
       "  0%|          | 0/253 [00:00<?, ?it/s]"
      ]
     },
     "metadata": {},
     "output_type": "display_data"
    },
    {
     "data": {
      "application/vnd.jupyter.widget-view+json": {
       "model_id": "0cdb3fa14ebd4ec9ac5fa4a97607ae2e",
       "version_major": 2,
       "version_minor": 0
      },
      "text/plain": [
       "  0%|          | 0/253 [00:00<?, ?it/s]"
      ]
     },
     "metadata": {},
     "output_type": "display_data"
    },
    {
     "data": {
      "application/vnd.jupyter.widget-view+json": {
       "model_id": "068a9f577fd043c6a0b0597add9f784d",
       "version_major": 2,
       "version_minor": 0
      },
      "text/plain": [
       "  0%|          | 0/253 [00:00<?, ?it/s]"
      ]
     },
     "metadata": {},
     "output_type": "display_data"
    },
    {
     "data": {
      "application/vnd.jupyter.widget-view+json": {
       "model_id": "76cdc94b133c44398f7ca274757702f8",
       "version_major": 2,
       "version_minor": 0
      },
      "text/plain": [
       "  0%|          | 0/253 [00:00<?, ?it/s]"
      ]
     },
     "metadata": {},
     "output_type": "display_data"
    },
    {
     "data": {
      "application/vnd.jupyter.widget-view+json": {
       "model_id": "fcfb395f150444898f4afa50c8be072f",
       "version_major": 2,
       "version_minor": 0
      },
      "text/plain": [
       "  0%|          | 0/71 [00:00<?, ?it/s]"
      ]
     },
     "metadata": {},
     "output_type": "display_data"
    }
   ],
   "source": [
    "if config['run_upsert_embeddings']:\n",
    "    upsert_embeddings_to_pinecone(index, embeddings_list, bool_add=False)\n",
    "else:\n",
    "    print('Will not upsert embeddings.')"
   ]
  },
  {
   "cell_type": "code",
   "execution_count": 4,
   "metadata": {},
   "outputs": [
    {
     "data": {
      "text/plain": [
       "['tester', 'index-cas-onboarding', 'bupl-index']"
      ]
     },
     "execution_count": 4,
     "metadata": {},
     "output_type": "execute_result"
    }
   ],
   "source": [
    "[index['name'] for index in pc.list_indexes()]"
   ]
  },
  {
   "cell_type": "code",
   "execution_count": null,
   "metadata": {},
   "outputs": [],
   "source": []
  }
 ],
 "metadata": {
  "kernelspec": {
   "display_name": "env_rag",
   "language": "python",
   "name": "python3"
  },
  "language_info": {
   "codemirror_mode": {
    "name": "ipython",
    "version": 3
   },
   "file_extension": ".py",
   "mimetype": "text/x-python",
   "name": "python",
   "nbconvert_exporter": "python",
   "pygments_lexer": "ipython3",
   "version": "3.10.9"
  }
 },
 "nbformat": 4,
 "nbformat_minor": 2
}
